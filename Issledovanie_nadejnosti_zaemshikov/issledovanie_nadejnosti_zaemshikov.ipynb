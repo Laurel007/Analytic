{
 "cells": [
  {
   "cell_type": "markdown",
   "id": "9b792815",
   "metadata": {},
   "source": [
    "<div style=\"border:solid Chocolate 2px; padding: 40px\">\n",
    "\n",
    "<b>Привет!👋</b>\n",
    "\n",
    "Меня зовут Огурлиев Анзор, я буду ревьюером твоего проекта. Сразу хочу предложить тебе общаться на \"ты\", если тебе это неудобно, скажи мне об этом. Нам предстоит пройти с тобой через тернистый и от того интересный путь анализа данных! Можешь не переживать, я всегда помогу тебе, если у тебя возникнут вопросы)\n",
    "\n",
    "По ходу твоей работы я буду оставлять свои комментарии, по выполненным тобой шагам. Попрошу тебя не удалять их, так мне будет проще отслеживать твой прогресс в случае повторной проверки.\n",
    "\n",
    "Очень важно вести диалог и обсуждать те пункты, которые у тебя могли не получиться, поэтому, ты можешь оставлять свои комментарии, и мы обязательно во всем разберемся! Самое главное - выделяй свои комментарии удобным для тебя способом (цвет, рамка), но так, чтобы они отчетлитво отличались от моих комментариев. Так мы ни в чем не запутаемся)\n",
    "\n",
    "Свои комментарии я буду выделять так: <font color='green'>зеленый</font>, <font color='gold'>желтый</font> и <font color='red'>красный</font> цвет, например:\n",
    "\n",
    "<br/>\n",
    "\n",
    "<div class=\"alert alert-success\">\n",
    "<h2> Комментарий ревьюера V1<a class=\"tocSkip\"> </h2>\n",
    "\n",
    "<b>Все отлично!👍:</b> Этот комментарий я буду оставлять, если твое решение оптимально для данного шага.\n",
    "</div>\n",
    "\n",
    "<br/>\n",
    "\n",
    "<div class=\"alert alert-warning\">\n",
    "    <h2> Комментарий ревьюера V1<a class=\"tocSkip\"> </h2>\n",
    "\n",
    "<b>Некоторые замечания и рекомендации💡:</b> Это не означает, что ты совершил ошибку. Такими комментариями я буду отмечать места, где ты справился с задачей, но её можно решить ещё лучше. Также в таких комментариях я буду оставлять для тебя другие советы.\n",
    "</div>\n",
    "\n",
    "\n",
    "<br/>\n",
    "<div class=\"alert alert-block alert-danger\">\n",
    "<h2> Комментарий ревьюера V1<a class=\"tocSkip\"></h2>\n",
    "\n",
    "\n",
    "<b>На доработку🤔:</b>\n",
    "Если решение, которое ты применил на определенном шаге, требует значительных изменений, то я буду оставлять такой комментарий. Тебе нужно будет подумать еще раз как правильным образом решить данный этап. Если ревью содержит такие комментарии, то я не смогу принять проект с первого раза.\n",
    "</div>\n",
    "\n",
    "P.S. В оглавлении комментария ты увидишь `V1` (`V1`, `V2`, `V3`) - это версия моего комментария, которая понадобится нам с тобой, чтобы не запутаться, если потребуется оставить тебе комментарии после первой проверки."
   ]
  },
  {
   "cell_type": "markdown",
   "id": "a6f77fa0",
   "metadata": {
    "deletable": false,
    "editable": false,
    "id": "c81daeeb"
   },
   "source": [
    "# Исследование надежности заемщиков\n"
   ]
  },
  {
   "cell_type": "markdown",
   "id": "29edcfe6",
   "metadata": {
    "deletable": false,
    "editable": false,
    "id": "827c20bf"
   },
   "source": [
    "Во второй части проекта вы выполните шаги 3 и 4. Их вручную проверит ревьюер.\n",
    "Чтобы вам не пришлось писать код заново для шагов 1 и 2, мы добавили авторские решения в ячейки с кодом. \n",
    "\n"
   ]
  },
  {
   "cell_type": "markdown",
   "id": "8b669494",
   "metadata": {
    "deletable": false,
    "editable": false,
    "id": "744d7639"
   },
   "source": [
    "## Откройте таблицу и изучите общую информацию о данных"
   ]
  },
  {
   "cell_type": "markdown",
   "id": "6ea1ffc8",
   "metadata": {
    "deletable": false,
    "editable": false,
    "id": "e7a14c31"
   },
   "source": [
    "**Задание 1. Импортируйте библиотеку pandas. Считайте данные из csv-файла в датафрейм и сохраните в переменную `data`. Путь к файлу:**\n",
    "\n",
    "`/datasets/data.csv`"
   ]
  },
  {
   "cell_type": "code",
   "execution_count": 1,
   "id": "c35e3c2d",
   "metadata": {
    "deletable": false,
    "id": "7bcf75c9"
   },
   "outputs": [],
   "source": [
    "import pandas as pd\n",
    "\n",
    "try:\n",
    "    data = pd.read_csv('/datasets/data.csv')\n",
    "except:\n",
    "    data = pd.read_csv('https://code.s3.yandex.net/datasets/data.csv')"
   ]
  },
  {
   "cell_type": "markdown",
   "id": "7d2f2b62",
   "metadata": {
    "deletable": false,
    "editable": false,
    "id": "b8038fe3"
   },
   "source": [
    "**Задание 2. Выведите первые 20 строчек датафрейма `data` на экран.**"
   ]
  },
  {
   "cell_type": "code",
   "execution_count": 2,
   "id": "44077c06",
   "metadata": {
    "deletable": false,
    "id": "2a7cab99",
    "outputId": "1a8f3ef2-d323-4ec2-ddf7-89670b5944c4"
   },
   "outputs": [
    {
     "data": {
      "text/html": [
       "<div>\n",
       "<style scoped>\n",
       "    .dataframe tbody tr th:only-of-type {\n",
       "        vertical-align: middle;\n",
       "    }\n",
       "\n",
       "    .dataframe tbody tr th {\n",
       "        vertical-align: top;\n",
       "    }\n",
       "\n",
       "    .dataframe thead th {\n",
       "        text-align: right;\n",
       "    }\n",
       "</style>\n",
       "<table border=\"1\" class=\"dataframe\">\n",
       "  <thead>\n",
       "    <tr style=\"text-align: right;\">\n",
       "      <th></th>\n",
       "      <th>children</th>\n",
       "      <th>days_employed</th>\n",
       "      <th>dob_years</th>\n",
       "      <th>education</th>\n",
       "      <th>education_id</th>\n",
       "      <th>family_status</th>\n",
       "      <th>family_status_id</th>\n",
       "      <th>gender</th>\n",
       "      <th>income_type</th>\n",
       "      <th>debt</th>\n",
       "      <th>total_income</th>\n",
       "      <th>purpose</th>\n",
       "    </tr>\n",
       "  </thead>\n",
       "  <tbody>\n",
       "    <tr>\n",
       "      <th>0</th>\n",
       "      <td>1</td>\n",
       "      <td>-8437.673028</td>\n",
       "      <td>42</td>\n",
       "      <td>высшее</td>\n",
       "      <td>0</td>\n",
       "      <td>женат / замужем</td>\n",
       "      <td>0</td>\n",
       "      <td>F</td>\n",
       "      <td>сотрудник</td>\n",
       "      <td>0</td>\n",
       "      <td>253875.639453</td>\n",
       "      <td>покупка жилья</td>\n",
       "    </tr>\n",
       "    <tr>\n",
       "      <th>1</th>\n",
       "      <td>1</td>\n",
       "      <td>-4024.803754</td>\n",
       "      <td>36</td>\n",
       "      <td>среднее</td>\n",
       "      <td>1</td>\n",
       "      <td>женат / замужем</td>\n",
       "      <td>0</td>\n",
       "      <td>F</td>\n",
       "      <td>сотрудник</td>\n",
       "      <td>0</td>\n",
       "      <td>112080.014102</td>\n",
       "      <td>приобретение автомобиля</td>\n",
       "    </tr>\n",
       "    <tr>\n",
       "      <th>2</th>\n",
       "      <td>0</td>\n",
       "      <td>-5623.422610</td>\n",
       "      <td>33</td>\n",
       "      <td>Среднее</td>\n",
       "      <td>1</td>\n",
       "      <td>женат / замужем</td>\n",
       "      <td>0</td>\n",
       "      <td>M</td>\n",
       "      <td>сотрудник</td>\n",
       "      <td>0</td>\n",
       "      <td>145885.952297</td>\n",
       "      <td>покупка жилья</td>\n",
       "    </tr>\n",
       "    <tr>\n",
       "      <th>3</th>\n",
       "      <td>3</td>\n",
       "      <td>-4124.747207</td>\n",
       "      <td>32</td>\n",
       "      <td>среднее</td>\n",
       "      <td>1</td>\n",
       "      <td>женат / замужем</td>\n",
       "      <td>0</td>\n",
       "      <td>M</td>\n",
       "      <td>сотрудник</td>\n",
       "      <td>0</td>\n",
       "      <td>267628.550329</td>\n",
       "      <td>дополнительное образование</td>\n",
       "    </tr>\n",
       "    <tr>\n",
       "      <th>4</th>\n",
       "      <td>0</td>\n",
       "      <td>340266.072047</td>\n",
       "      <td>53</td>\n",
       "      <td>среднее</td>\n",
       "      <td>1</td>\n",
       "      <td>гражданский брак</td>\n",
       "      <td>1</td>\n",
       "      <td>F</td>\n",
       "      <td>пенсионер</td>\n",
       "      <td>0</td>\n",
       "      <td>158616.077870</td>\n",
       "      <td>сыграть свадьбу</td>\n",
       "    </tr>\n",
       "    <tr>\n",
       "      <th>5</th>\n",
       "      <td>0</td>\n",
       "      <td>-926.185831</td>\n",
       "      <td>27</td>\n",
       "      <td>высшее</td>\n",
       "      <td>0</td>\n",
       "      <td>гражданский брак</td>\n",
       "      <td>1</td>\n",
       "      <td>M</td>\n",
       "      <td>компаньон</td>\n",
       "      <td>0</td>\n",
       "      <td>255763.565419</td>\n",
       "      <td>покупка жилья</td>\n",
       "    </tr>\n",
       "    <tr>\n",
       "      <th>6</th>\n",
       "      <td>0</td>\n",
       "      <td>-2879.202052</td>\n",
       "      <td>43</td>\n",
       "      <td>высшее</td>\n",
       "      <td>0</td>\n",
       "      <td>женат / замужем</td>\n",
       "      <td>0</td>\n",
       "      <td>F</td>\n",
       "      <td>компаньон</td>\n",
       "      <td>0</td>\n",
       "      <td>240525.971920</td>\n",
       "      <td>операции с жильем</td>\n",
       "    </tr>\n",
       "    <tr>\n",
       "      <th>7</th>\n",
       "      <td>0</td>\n",
       "      <td>-152.779569</td>\n",
       "      <td>50</td>\n",
       "      <td>СРЕДНЕЕ</td>\n",
       "      <td>1</td>\n",
       "      <td>женат / замужем</td>\n",
       "      <td>0</td>\n",
       "      <td>M</td>\n",
       "      <td>сотрудник</td>\n",
       "      <td>0</td>\n",
       "      <td>135823.934197</td>\n",
       "      <td>образование</td>\n",
       "    </tr>\n",
       "    <tr>\n",
       "      <th>8</th>\n",
       "      <td>2</td>\n",
       "      <td>-6929.865299</td>\n",
       "      <td>35</td>\n",
       "      <td>ВЫСШЕЕ</td>\n",
       "      <td>0</td>\n",
       "      <td>гражданский брак</td>\n",
       "      <td>1</td>\n",
       "      <td>F</td>\n",
       "      <td>сотрудник</td>\n",
       "      <td>0</td>\n",
       "      <td>95856.832424</td>\n",
       "      <td>на проведение свадьбы</td>\n",
       "    </tr>\n",
       "    <tr>\n",
       "      <th>9</th>\n",
       "      <td>0</td>\n",
       "      <td>-2188.756445</td>\n",
       "      <td>41</td>\n",
       "      <td>среднее</td>\n",
       "      <td>1</td>\n",
       "      <td>женат / замужем</td>\n",
       "      <td>0</td>\n",
       "      <td>M</td>\n",
       "      <td>сотрудник</td>\n",
       "      <td>0</td>\n",
       "      <td>144425.938277</td>\n",
       "      <td>покупка жилья для семьи</td>\n",
       "    </tr>\n",
       "    <tr>\n",
       "      <th>10</th>\n",
       "      <td>2</td>\n",
       "      <td>-4171.483647</td>\n",
       "      <td>36</td>\n",
       "      <td>высшее</td>\n",
       "      <td>0</td>\n",
       "      <td>женат / замужем</td>\n",
       "      <td>0</td>\n",
       "      <td>M</td>\n",
       "      <td>компаньон</td>\n",
       "      <td>0</td>\n",
       "      <td>113943.491460</td>\n",
       "      <td>покупка недвижимости</td>\n",
       "    </tr>\n",
       "    <tr>\n",
       "      <th>11</th>\n",
       "      <td>0</td>\n",
       "      <td>-792.701887</td>\n",
       "      <td>40</td>\n",
       "      <td>среднее</td>\n",
       "      <td>1</td>\n",
       "      <td>женат / замужем</td>\n",
       "      <td>0</td>\n",
       "      <td>F</td>\n",
       "      <td>сотрудник</td>\n",
       "      <td>0</td>\n",
       "      <td>77069.234271</td>\n",
       "      <td>покупка коммерческой недвижимости</td>\n",
       "    </tr>\n",
       "    <tr>\n",
       "      <th>12</th>\n",
       "      <td>0</td>\n",
       "      <td>NaN</td>\n",
       "      <td>65</td>\n",
       "      <td>среднее</td>\n",
       "      <td>1</td>\n",
       "      <td>гражданский брак</td>\n",
       "      <td>1</td>\n",
       "      <td>M</td>\n",
       "      <td>пенсионер</td>\n",
       "      <td>0</td>\n",
       "      <td>NaN</td>\n",
       "      <td>сыграть свадьбу</td>\n",
       "    </tr>\n",
       "    <tr>\n",
       "      <th>13</th>\n",
       "      <td>0</td>\n",
       "      <td>-1846.641941</td>\n",
       "      <td>54</td>\n",
       "      <td>неоконченное высшее</td>\n",
       "      <td>2</td>\n",
       "      <td>женат / замужем</td>\n",
       "      <td>0</td>\n",
       "      <td>F</td>\n",
       "      <td>сотрудник</td>\n",
       "      <td>0</td>\n",
       "      <td>130458.228857</td>\n",
       "      <td>приобретение автомобиля</td>\n",
       "    </tr>\n",
       "    <tr>\n",
       "      <th>14</th>\n",
       "      <td>0</td>\n",
       "      <td>-1844.956182</td>\n",
       "      <td>56</td>\n",
       "      <td>высшее</td>\n",
       "      <td>0</td>\n",
       "      <td>гражданский брак</td>\n",
       "      <td>1</td>\n",
       "      <td>F</td>\n",
       "      <td>компаньон</td>\n",
       "      <td>1</td>\n",
       "      <td>165127.911772</td>\n",
       "      <td>покупка жилой недвижимости</td>\n",
       "    </tr>\n",
       "    <tr>\n",
       "      <th>15</th>\n",
       "      <td>1</td>\n",
       "      <td>-972.364419</td>\n",
       "      <td>26</td>\n",
       "      <td>среднее</td>\n",
       "      <td>1</td>\n",
       "      <td>женат / замужем</td>\n",
       "      <td>0</td>\n",
       "      <td>F</td>\n",
       "      <td>сотрудник</td>\n",
       "      <td>0</td>\n",
       "      <td>116820.904450</td>\n",
       "      <td>строительство собственной недвижимости</td>\n",
       "    </tr>\n",
       "    <tr>\n",
       "      <th>16</th>\n",
       "      <td>0</td>\n",
       "      <td>-1719.934226</td>\n",
       "      <td>35</td>\n",
       "      <td>среднее</td>\n",
       "      <td>1</td>\n",
       "      <td>женат / замужем</td>\n",
       "      <td>0</td>\n",
       "      <td>F</td>\n",
       "      <td>сотрудник</td>\n",
       "      <td>0</td>\n",
       "      <td>289202.704229</td>\n",
       "      <td>недвижимость</td>\n",
       "    </tr>\n",
       "    <tr>\n",
       "      <th>17</th>\n",
       "      <td>0</td>\n",
       "      <td>-2369.999720</td>\n",
       "      <td>33</td>\n",
       "      <td>высшее</td>\n",
       "      <td>0</td>\n",
       "      <td>гражданский брак</td>\n",
       "      <td>1</td>\n",
       "      <td>M</td>\n",
       "      <td>сотрудник</td>\n",
       "      <td>0</td>\n",
       "      <td>90410.586745</td>\n",
       "      <td>строительство недвижимости</td>\n",
       "    </tr>\n",
       "    <tr>\n",
       "      <th>18</th>\n",
       "      <td>0</td>\n",
       "      <td>400281.136913</td>\n",
       "      <td>53</td>\n",
       "      <td>среднее</td>\n",
       "      <td>1</td>\n",
       "      <td>вдовец / вдова</td>\n",
       "      <td>2</td>\n",
       "      <td>F</td>\n",
       "      <td>пенсионер</td>\n",
       "      <td>0</td>\n",
       "      <td>56823.777243</td>\n",
       "      <td>на покупку подержанного автомобиля</td>\n",
       "    </tr>\n",
       "    <tr>\n",
       "      <th>19</th>\n",
       "      <td>0</td>\n",
       "      <td>-10038.818549</td>\n",
       "      <td>48</td>\n",
       "      <td>СРЕДНЕЕ</td>\n",
       "      <td>1</td>\n",
       "      <td>в разводе</td>\n",
       "      <td>3</td>\n",
       "      <td>F</td>\n",
       "      <td>сотрудник</td>\n",
       "      <td>0</td>\n",
       "      <td>242831.107982</td>\n",
       "      <td>на покупку своего автомобиля</td>\n",
       "    </tr>\n",
       "  </tbody>\n",
       "</table>\n",
       "</div>"
      ],
      "text/plain": [
       "    children  days_employed  dob_years            education  education_id  \\\n",
       "0          1   -8437.673028         42               высшее             0   \n",
       "1          1   -4024.803754         36              среднее             1   \n",
       "2          0   -5623.422610         33              Среднее             1   \n",
       "3          3   -4124.747207         32              среднее             1   \n",
       "4          0  340266.072047         53              среднее             1   \n",
       "5          0    -926.185831         27               высшее             0   \n",
       "6          0   -2879.202052         43               высшее             0   \n",
       "7          0    -152.779569         50              СРЕДНЕЕ             1   \n",
       "8          2   -6929.865299         35               ВЫСШЕЕ             0   \n",
       "9          0   -2188.756445         41              среднее             1   \n",
       "10         2   -4171.483647         36               высшее             0   \n",
       "11         0    -792.701887         40              среднее             1   \n",
       "12         0            NaN         65              среднее             1   \n",
       "13         0   -1846.641941         54  неоконченное высшее             2   \n",
       "14         0   -1844.956182         56               высшее             0   \n",
       "15         1    -972.364419         26              среднее             1   \n",
       "16         0   -1719.934226         35              среднее             1   \n",
       "17         0   -2369.999720         33               высшее             0   \n",
       "18         0  400281.136913         53              среднее             1   \n",
       "19         0  -10038.818549         48              СРЕДНЕЕ             1   \n",
       "\n",
       "       family_status  family_status_id gender income_type  debt  \\\n",
       "0    женат / замужем                 0      F   сотрудник     0   \n",
       "1    женат / замужем                 0      F   сотрудник     0   \n",
       "2    женат / замужем                 0      M   сотрудник     0   \n",
       "3    женат / замужем                 0      M   сотрудник     0   \n",
       "4   гражданский брак                 1      F   пенсионер     0   \n",
       "5   гражданский брак                 1      M   компаньон     0   \n",
       "6    женат / замужем                 0      F   компаньон     0   \n",
       "7    женат / замужем                 0      M   сотрудник     0   \n",
       "8   гражданский брак                 1      F   сотрудник     0   \n",
       "9    женат / замужем                 0      M   сотрудник     0   \n",
       "10   женат / замужем                 0      M   компаньон     0   \n",
       "11   женат / замужем                 0      F   сотрудник     0   \n",
       "12  гражданский брак                 1      M   пенсионер     0   \n",
       "13   женат / замужем                 0      F   сотрудник     0   \n",
       "14  гражданский брак                 1      F   компаньон     1   \n",
       "15   женат / замужем                 0      F   сотрудник     0   \n",
       "16   женат / замужем                 0      F   сотрудник     0   \n",
       "17  гражданский брак                 1      M   сотрудник     0   \n",
       "18    вдовец / вдова                 2      F   пенсионер     0   \n",
       "19         в разводе                 3      F   сотрудник     0   \n",
       "\n",
       "     total_income                                 purpose  \n",
       "0   253875.639453                           покупка жилья  \n",
       "1   112080.014102                 приобретение автомобиля  \n",
       "2   145885.952297                           покупка жилья  \n",
       "3   267628.550329              дополнительное образование  \n",
       "4   158616.077870                         сыграть свадьбу  \n",
       "5   255763.565419                           покупка жилья  \n",
       "6   240525.971920                       операции с жильем  \n",
       "7   135823.934197                             образование  \n",
       "8    95856.832424                   на проведение свадьбы  \n",
       "9   144425.938277                 покупка жилья для семьи  \n",
       "10  113943.491460                    покупка недвижимости  \n",
       "11   77069.234271       покупка коммерческой недвижимости  \n",
       "12            NaN                         сыграть свадьбу  \n",
       "13  130458.228857                 приобретение автомобиля  \n",
       "14  165127.911772              покупка жилой недвижимости  \n",
       "15  116820.904450  строительство собственной недвижимости  \n",
       "16  289202.704229                            недвижимость  \n",
       "17   90410.586745              строительство недвижимости  \n",
       "18   56823.777243      на покупку подержанного автомобиля  \n",
       "19  242831.107982            на покупку своего автомобиля  "
      ]
     },
     "execution_count": 2,
     "metadata": {},
     "output_type": "execute_result"
    }
   ],
   "source": [
    "data.head(20)"
   ]
  },
  {
   "cell_type": "markdown",
   "id": "2a8c9105",
   "metadata": {
    "deletable": false,
    "editable": false,
    "id": "1c12e233"
   },
   "source": [
    "**Задание 3. Выведите основную информацию о датафрейме с помощью метода `info()`.**"
   ]
  },
  {
   "cell_type": "code",
   "execution_count": 3,
   "id": "7e9fcedf",
   "metadata": {
    "deletable": false,
    "id": "2b757bca",
    "outputId": "15376089-8dad-46c9-b520-c05248d43158"
   },
   "outputs": [
    {
     "name": "stdout",
     "output_type": "stream",
     "text": [
      "<class 'pandas.core.frame.DataFrame'>\n",
      "RangeIndex: 21525 entries, 0 to 21524\n",
      "Data columns (total 12 columns):\n",
      " #   Column            Non-Null Count  Dtype  \n",
      "---  ------            --------------  -----  \n",
      " 0   children          21525 non-null  int64  \n",
      " 1   days_employed     19351 non-null  float64\n",
      " 2   dob_years         21525 non-null  int64  \n",
      " 3   education         21525 non-null  object \n",
      " 4   education_id      21525 non-null  int64  \n",
      " 5   family_status     21525 non-null  object \n",
      " 6   family_status_id  21525 non-null  int64  \n",
      " 7   gender            21525 non-null  object \n",
      " 8   income_type       21525 non-null  object \n",
      " 9   debt              21525 non-null  int64  \n",
      " 10  total_income      19351 non-null  float64\n",
      " 11  purpose           21525 non-null  object \n",
      "dtypes: float64(2), int64(5), object(5)\n",
      "memory usage: 2.0+ MB\n"
     ]
    }
   ],
   "source": [
    "data.info()"
   ]
  },
  {
   "cell_type": "markdown",
   "id": "1386fd1f",
   "metadata": {
    "deletable": false,
    "editable": false,
    "id": "333ec665"
   },
   "source": [
    "## Предобработка данных"
   ]
  },
  {
   "cell_type": "markdown",
   "id": "24df23fc",
   "metadata": {
    "deletable": false,
    "editable": false,
    "id": "02d92d53"
   },
   "source": [
    "### Удаление пропусков"
   ]
  },
  {
   "cell_type": "markdown",
   "id": "c8be1b5f",
   "metadata": {
    "deletable": false,
    "editable": false,
    "id": "cd84967c"
   },
   "source": [
    "**Задание 4. Выведите количество пропущенных значений для каждого столбца. Используйте комбинацию двух методов.**"
   ]
  },
  {
   "cell_type": "code",
   "execution_count": 4,
   "id": "49076ff5",
   "metadata": {
    "deletable": false,
    "id": "7f9b2309",
    "outputId": "81f4d817-781c-465c-ed15-91ce4446810d"
   },
   "outputs": [
    {
     "data": {
      "text/plain": [
       "children               0\n",
       "days_employed       2174\n",
       "dob_years              0\n",
       "education              0\n",
       "education_id           0\n",
       "family_status          0\n",
       "family_status_id       0\n",
       "gender                 0\n",
       "income_type            0\n",
       "debt                   0\n",
       "total_income        2174\n",
       "purpose                0\n",
       "dtype: int64"
      ]
     },
     "execution_count": 4,
     "metadata": {},
     "output_type": "execute_result"
    }
   ],
   "source": [
    "data.isna().sum()"
   ]
  },
  {
   "cell_type": "markdown",
   "id": "f216bbce",
   "metadata": {
    "deletable": false,
    "editable": false,
    "id": "db86e27b"
   },
   "source": [
    "**Задание 5. В двух столбцах есть пропущенные значения. Один из них — `days_employed`. Пропуски в этом столбце вы обработаете на следующем этапе. Другой столбец с пропущенными значениями — `total_income` — хранит данные о доходах. На сумму дохода сильнее всего влияет тип занятости, поэтому заполнить пропуски в этом столбце нужно медианным значением по каждому типу из столбца `income_type`. Например, у человека с типом занятости `сотрудник` пропуск в столбце `total_income` должен быть заполнен медианным доходом среди всех записей с тем же типом.**"
   ]
  },
  {
   "cell_type": "code",
   "execution_count": 5,
   "id": "3e988918",
   "metadata": {
    "deletable": false,
    "id": "42006a93"
   },
   "outputs": [],
   "source": [
    "for t in data['income_type'].unique():\n",
    "    data.loc[(data['income_type'] == t) & (data['total_income'].isna()), 'total_income'] = \\\n",
    "    data.loc[(data['income_type'] == t), 'total_income'].median()"
   ]
  },
  {
   "cell_type": "markdown",
   "id": "aa7efe67",
   "metadata": {
    "deletable": false,
    "editable": false,
    "id": "89da5ece"
   },
   "source": [
    "### Обработка аномальных значений"
   ]
  },
  {
   "cell_type": "markdown",
   "id": "9a535716",
   "metadata": {
    "deletable": false,
    "editable": false,
    "id": "57964554"
   },
   "source": [
    "**Задание 6. В данных могут встречаться артефакты (аномалии) — значения, которые не отражают действительность и появились по какой-то ошибке. таким артефактом будет отрицательное количество дней трудового стажа в столбце `days_employed`. Для реальных данных это нормально. Обработайте значения в этом столбце: замените все отрицательные значения положительными с помощью метода `abs()`.**"
   ]
  },
  {
   "cell_type": "code",
   "execution_count": 6,
   "id": "d71a9344",
   "metadata": {
    "deletable": false,
    "id": "f6f055bf"
   },
   "outputs": [],
   "source": [
    "data['days_employed'] = data['days_employed'].abs()"
   ]
  },
  {
   "cell_type": "markdown",
   "id": "5f2fdc67",
   "metadata": {
    "deletable": false,
    "editable": false,
    "id": "6107dd2f"
   },
   "source": [
    "**Задание 7. Для каждого типа занятости выведите медианное значение трудового стажа `days_employed` в днях.**"
   ]
  },
  {
   "cell_type": "code",
   "execution_count": 7,
   "id": "f8b694cf",
   "metadata": {
    "deletable": false,
    "id": "85a5faf6",
    "outputId": "801ef80e-522b-4668-f34e-565af7432bcf"
   },
   "outputs": [
    {
     "data": {
      "text/plain": [
       "income_type\n",
       "безработный        366413.652744\n",
       "в декрете            3296.759962\n",
       "госслужащий          2689.368353\n",
       "компаньон            1547.382223\n",
       "пенсионер          365213.306266\n",
       "предприниматель       520.848083\n",
       "сотрудник            1574.202821\n",
       "студент               578.751554\n",
       "Name: days_employed, dtype: float64"
      ]
     },
     "execution_count": 7,
     "metadata": {},
     "output_type": "execute_result"
    }
   ],
   "source": [
    "data.groupby('income_type')['days_employed'].agg('median')"
   ]
  },
  {
   "cell_type": "markdown",
   "id": "62366d94",
   "metadata": {
    "deletable": false,
    "editable": false,
    "id": "38d1a030"
   },
   "source": [
    "У двух типов (безработные и пенсионеры) получатся аномально большие значения. Исправить такие значения сложно, поэтому оставьте их как есть. Тем более этот столбец не понадобится вам для исследования."
   ]
  },
  {
   "cell_type": "markdown",
   "id": "7fb68bc1",
   "metadata": {
    "deletable": false,
    "editable": false,
    "id": "d8a9f147"
   },
   "source": [
    "**Задание 8. Выведите перечень уникальных значений столбца `children`.**"
   ]
  },
  {
   "cell_type": "code",
   "execution_count": 8,
   "id": "39171d7b",
   "metadata": {
    "deletable": false,
    "id": "ef5056eb",
    "outputId": "6975b15c-7f95-4697-d16d-a0c79b657b03"
   },
   "outputs": [
    {
     "data": {
      "text/plain": [
       "array([ 1,  0,  3,  2, -1,  4, 20,  5])"
      ]
     },
     "execution_count": 8,
     "metadata": {},
     "output_type": "execute_result"
    }
   ],
   "source": [
    "data['children'].unique()"
   ]
  },
  {
   "cell_type": "markdown",
   "id": "8140dd0a",
   "metadata": {
    "deletable": false,
    "editable": false,
    "id": "40b9ebf2"
   },
   "source": [
    "**Задание 9. В столбце `children` есть два аномальных значения. Удалите строки, в которых встречаются такие аномальные значения из датафрейма `data`.**"
   ]
  },
  {
   "cell_type": "code",
   "execution_count": 9,
   "id": "2fa36822",
   "metadata": {
    "deletable": false,
    "id": "3ff9801d"
   },
   "outputs": [],
   "source": [
    "data = data[(data['children'] != -1) & (data['children'] != 20)]"
   ]
  },
  {
   "cell_type": "markdown",
   "id": "57ead82c",
   "metadata": {
    "deletable": false,
    "editable": false,
    "id": "bbc4d0ce"
   },
   "source": [
    "**Задание 10. Ещё раз выведите перечень уникальных значений столбца `children`, чтобы убедиться, что артефакты удалены.**"
   ]
  },
  {
   "cell_type": "code",
   "execution_count": 10,
   "id": "c89e5c24",
   "metadata": {
    "deletable": false,
    "id": "ad4fa8b7",
    "outputId": "b2097101-d49d-44d9-901b-32a65c9463d1"
   },
   "outputs": [
    {
     "data": {
      "text/plain": [
       "array([1, 0, 3, 2, 4, 5])"
      ]
     },
     "execution_count": 10,
     "metadata": {},
     "output_type": "execute_result"
    }
   ],
   "source": [
    "data['children'].unique()"
   ]
  },
  {
   "cell_type": "markdown",
   "id": "cdca7f1b",
   "metadata": {
    "deletable": false,
    "editable": false,
    "id": "75440b63"
   },
   "source": [
    "### Удаление пропусков (продолжение)"
   ]
  },
  {
   "cell_type": "markdown",
   "id": "afb603d0",
   "metadata": {
    "deletable": false,
    "editable": false,
    "id": "f4ea573f"
   },
   "source": [
    "**Задание 11. Заполните пропуски в столбце `days_employed` медианными значениями по каждого типа занятости `income_type`.**"
   ]
  },
  {
   "cell_type": "code",
   "execution_count": 11,
   "id": "64118a17",
   "metadata": {
    "deletable": false,
    "id": "af6b1a7e"
   },
   "outputs": [],
   "source": [
    "for t in data['income_type'].unique():\n",
    "    data.loc[(data['income_type'] == t) & (data['days_employed'].isna()), 'days_employed'] = \\\n",
    "    data.loc[(data['income_type'] == t), 'days_employed'].median()"
   ]
  },
  {
   "cell_type": "markdown",
   "id": "e927343b",
   "metadata": {
    "deletable": false,
    "editable": false,
    "id": "2753f40d"
   },
   "source": [
    "**Задание 12. Убедитесь, что все пропуски заполнены. Проверьте себя и ещё раз выведите количество пропущенных значений для каждого столбца с помощью двух методов.**"
   ]
  },
  {
   "cell_type": "code",
   "execution_count": 12,
   "id": "e12fee1a",
   "metadata": {
    "deletable": false,
    "id": "55f78bc2",
    "outputId": "8da1e4e1-358e-4e87-98c9-f261bce0a7b2"
   },
   "outputs": [
    {
     "data": {
      "text/plain": [
       "children            0\n",
       "days_employed       0\n",
       "dob_years           0\n",
       "education           0\n",
       "education_id        0\n",
       "family_status       0\n",
       "family_status_id    0\n",
       "gender              0\n",
       "income_type         0\n",
       "debt                0\n",
       "total_income        0\n",
       "purpose             0\n",
       "dtype: int64"
      ]
     },
     "execution_count": 12,
     "metadata": {},
     "output_type": "execute_result"
    }
   ],
   "source": [
    "data.isna().sum()"
   ]
  },
  {
   "cell_type": "markdown",
   "id": "1964a2fc",
   "metadata": {
    "deletable": false,
    "editable": false,
    "id": "ddc81e43"
   },
   "source": [
    "### Изменение типов данных"
   ]
  },
  {
   "cell_type": "markdown",
   "id": "3efc4a2b",
   "metadata": {
    "deletable": false,
    "editable": false,
    "id": "42d19d24"
   },
   "source": [
    "**Задание 13. Замените вещественный тип данных в столбце `total_income` на целочисленный с помощью метода `astype()`.**"
   ]
  },
  {
   "cell_type": "code",
   "execution_count": 13,
   "id": "48aeec23",
   "metadata": {
    "deletable": false,
    "id": "920b65ad"
   },
   "outputs": [],
   "source": [
    "data['total_income'] = data['total_income'].astype(int)"
   ]
  },
  {
   "cell_type": "markdown",
   "id": "9e69ff60",
   "metadata": {
    "deletable": false,
    "editable": false,
    "id": "80c420ba"
   },
   "source": [
    "### Обработка дубликатов"
   ]
  },
  {
   "cell_type": "markdown",
   "id": "2a0dab4a",
   "metadata": {
    "deletable": false,
    "editable": false
   },
   "source": [
    "**Задание 14. Обработайте неявные дубликаты в столбце `education`. В этом столбце есть одни и те же значения, но записанные по-разному: с использованием заглавных и строчных букв. Приведите их к нижнему регистру.**"
   ]
  },
  {
   "cell_type": "code",
   "execution_count": 14,
   "id": "b273946b",
   "metadata": {
    "deletable": false
   },
   "outputs": [],
   "source": [
    "data['education'] = data['education'].str.lower()"
   ]
  },
  {
   "cell_type": "markdown",
   "id": "ec01e593",
   "metadata": {
    "deletable": false,
    "editable": false,
    "id": "dc587695"
   },
   "source": [
    "**Задание 15. Выведите на экран количество строк-дубликатов в данных. Если такие строки присутствуют, удалите их.**"
   ]
  },
  {
   "cell_type": "code",
   "execution_count": 15,
   "id": "c5cdb2b4",
   "metadata": {
    "deletable": false,
    "id": "3ee445e4",
    "outputId": "9684deba-1934-42d1-99e1-cda61740f822"
   },
   "outputs": [
    {
     "data": {
      "text/plain": [
       "71"
      ]
     },
     "execution_count": 15,
     "metadata": {},
     "output_type": "execute_result"
    }
   ],
   "source": [
    "data.duplicated().sum()"
   ]
  },
  {
   "cell_type": "code",
   "execution_count": 16,
   "id": "5c77ec4e",
   "metadata": {
    "deletable": false,
    "id": "8575fe05"
   },
   "outputs": [],
   "source": [
    "data = data.drop_duplicates()"
   ]
  },
  {
   "cell_type": "markdown",
   "id": "dbc14bf5",
   "metadata": {
    "deletable": false,
    "editable": false,
    "id": "9904cf55"
   },
   "source": [
    "### Категоризация данных"
   ]
  },
  {
   "cell_type": "markdown",
   "id": "f69c0952",
   "metadata": {
    "deletable": false,
    "editable": false,
    "id": "72fcc8a2"
   },
   "source": [
    "**Задание 16. На основании диапазонов, указанных ниже, создайте в датафрейме `data` столбец `total_income_category` с категориями:**\n",
    "\n",
    "- 0–30000 — `'E'`;\n",
    "- 30001–50000 — `'D'`;\n",
    "- 50001–200000 — `'C'`;\n",
    "- 200001–1000000 — `'B'`;\n",
    "- 1000001 и выше — `'A'`.\n",
    "\n",
    "\n",
    "**Например, кредитополучателю с доходом 25000 нужно назначить категорию `'E'`, а клиенту, получающему 235000, — `'B'`. Используйте собственную функцию с именем `categorize_income()` и метод `apply()`.**"
   ]
  },
  {
   "cell_type": "code",
   "execution_count": 17,
   "id": "63d19d1f",
   "metadata": {
    "deletable": false,
    "id": "e1771346"
   },
   "outputs": [],
   "source": [
    "def categorize_income(income):\n",
    "    try:\n",
    "        if 0 <= income <= 30000:\n",
    "            return 'E'\n",
    "        elif 30001 <= income <= 50000:\n",
    "            return 'D'\n",
    "        elif 50001 <= income <= 200000:\n",
    "            return 'C'\n",
    "        elif 200001 <= income <= 1000000:\n",
    "            return 'B'\n",
    "        elif income >= 1000001:\n",
    "            return 'A'\n",
    "    except:\n",
    "        pass"
   ]
  },
  {
   "cell_type": "code",
   "execution_count": 18,
   "id": "4963b7d5",
   "metadata": {
    "deletable": false,
    "id": "d5f3586d"
   },
   "outputs": [],
   "source": [
    "data['total_income_category'] = data['total_income'].apply(categorize_income)"
   ]
  },
  {
   "cell_type": "markdown",
   "id": "be53facd",
   "metadata": {
    "deletable": false,
    "editable": false,
    "id": "dde49b5c"
   },
   "source": [
    "**Задание 17. Выведите на экран перечень уникальных целей взятия кредита из столбца `purpose`.**"
   ]
  },
  {
   "cell_type": "code",
   "execution_count": 19,
   "id": "7c68ce76",
   "metadata": {
    "deletable": false,
    "id": "f67ce9b3",
    "outputId": "673c12d9-7d7e-4ae0-9812-c622c89dd244"
   },
   "outputs": [
    {
     "data": {
      "text/plain": [
       "array(['покупка жилья', 'приобретение автомобиля',\n",
       "       'дополнительное образование', 'сыграть свадьбу',\n",
       "       'операции с жильем', 'образование', 'на проведение свадьбы',\n",
       "       'покупка жилья для семьи', 'покупка недвижимости',\n",
       "       'покупка коммерческой недвижимости', 'покупка жилой недвижимости',\n",
       "       'строительство собственной недвижимости', 'недвижимость',\n",
       "       'строительство недвижимости', 'на покупку подержанного автомобиля',\n",
       "       'на покупку своего автомобиля',\n",
       "       'операции с коммерческой недвижимостью',\n",
       "       'строительство жилой недвижимости', 'жилье',\n",
       "       'операции со своей недвижимостью', 'автомобили',\n",
       "       'заняться образованием', 'сделка с подержанным автомобилем',\n",
       "       'получение образования', 'автомобиль', 'свадьба',\n",
       "       'получение дополнительного образования', 'покупка своего жилья',\n",
       "       'операции с недвижимостью', 'получение высшего образования',\n",
       "       'свой автомобиль', 'сделка с автомобилем',\n",
       "       'профильное образование', 'высшее образование',\n",
       "       'покупка жилья для сдачи', 'на покупку автомобиля', 'ремонт жилью',\n",
       "       'заняться высшим образованием'], dtype=object)"
      ]
     },
     "execution_count": 19,
     "metadata": {},
     "output_type": "execute_result"
    }
   ],
   "source": [
    "data['purpose'].unique()"
   ]
  },
  {
   "cell_type": "markdown",
   "id": "e39d084d",
   "metadata": {
    "deletable": false,
    "editable": false,
    "id": "85d0aef0"
   },
   "source": [
    "**Задание 18. Создайте функцию, которая на основании данных из столбца `purpose` сформирует новый столбец `purpose_category`, в который войдут следующие категории:**\n",
    "\n",
    "- `'операции с автомобилем'`,\n",
    "- `'операции с недвижимостью'`,\n",
    "- `'проведение свадьбы'`,\n",
    "- `'получение образования'`.\n",
    "\n",
    "**Например, если в столбце `purpose` находится подстрока `'на покупку автомобиля'`, то в столбце `purpose_category` должна появиться строка `'операции с автомобилем'`.**\n",
    "\n",
    "**Используйте собственную функцию с именем `categorize_purpose()` и метод `apply()`. Изучите данные в столбце `purpose` и определите, какие подстроки помогут вам правильно определить категорию.**"
   ]
  },
  {
   "cell_type": "code",
   "execution_count": 20,
   "id": "e42a7dc6",
   "metadata": {
    "deletable": false,
    "id": "e149fab4"
   },
   "outputs": [],
   "source": [
    "def categorize_purpose(row):\n",
    "    try:\n",
    "        if 'автом' in row:\n",
    "            return 'операции с автомобилем'\n",
    "        elif 'жил' in row or 'недвиж' in row:\n",
    "            return 'операции с недвижимостью'\n",
    "        elif 'свад' in row:\n",
    "            return 'проведение свадьбы'\n",
    "        elif 'образов' in row:\n",
    "            return 'получение образования'\n",
    "    except:\n",
    "        return 'нет категории'"
   ]
  },
  {
   "cell_type": "code",
   "execution_count": 21,
   "id": "5d50bf28",
   "metadata": {
    "deletable": false,
    "id": "bf36e69b"
   },
   "outputs": [],
   "source": [
    "data['purpose_category'] = data['purpose'].apply(categorize_purpose)"
   ]
  },
  {
   "cell_type": "markdown",
   "id": "b97ddbfc",
   "metadata": {
    "deletable": false,
    "editable": false,
    "id": "09b242bf"
   },
   "source": [
    "### Шаг 3. Исследуйте данные и ответьте на вопросы"
   ]
  },
  {
   "cell_type": "markdown",
   "id": "c863fd9d",
   "metadata": {
    "deletable": false,
    "editable": false,
    "id": "c5d66278"
   },
   "source": [
    "#### 3.1 Есть ли зависимость между количеством детей и возвратом кредита в срок?"
   ]
  },
  {
   "cell_type": "code",
   "execution_count": 22,
   "id": "16d2069d",
   "metadata": {
    "deletable": false,
    "id": "2cacfc4a"
   },
   "outputs": [
    {
     "data": {
      "text/html": [
       "<div>\n",
       "<style scoped>\n",
       "    .dataframe tbody tr th:only-of-type {\n",
       "        vertical-align: middle;\n",
       "    }\n",
       "\n",
       "    .dataframe tbody tr th {\n",
       "        vertical-align: top;\n",
       "    }\n",
       "\n",
       "    .dataframe thead tr th {\n",
       "        text-align: left;\n",
       "    }\n",
       "\n",
       "    .dataframe thead tr:last-of-type th {\n",
       "        text-align: right;\n",
       "    }\n",
       "</style>\n",
       "<table border=\"1\" class=\"dataframe\">\n",
       "  <thead>\n",
       "    <tr>\n",
       "      <th></th>\n",
       "      <th>sum</th>\n",
       "      <th>count</th>\n",
       "      <th>per</th>\n",
       "    </tr>\n",
       "    <tr>\n",
       "      <th></th>\n",
       "      <th>debt</th>\n",
       "      <th>debt</th>\n",
       "      <th></th>\n",
       "    </tr>\n",
       "    <tr>\n",
       "      <th>children_category</th>\n",
       "      <th></th>\n",
       "      <th></th>\n",
       "      <th></th>\n",
       "    </tr>\n",
       "  </thead>\n",
       "  <tbody>\n",
       "    <tr>\n",
       "      <th>нет детей</th>\n",
       "      <td>1063</td>\n",
       "      <td>14091</td>\n",
       "      <td>7.543822</td>\n",
       "    </tr>\n",
       "    <tr>\n",
       "      <th>многодетные</th>\n",
       "      <td>31</td>\n",
       "      <td>380</td>\n",
       "      <td>8.157895</td>\n",
       "    </tr>\n",
       "    <tr>\n",
       "      <th>1 ребёнок</th>\n",
       "      <td>444</td>\n",
       "      <td>4808</td>\n",
       "      <td>9.234609</td>\n",
       "    </tr>\n",
       "    <tr>\n",
       "      <th>2 ребёнка</th>\n",
       "      <td>194</td>\n",
       "      <td>2052</td>\n",
       "      <td>9.454191</td>\n",
       "    </tr>\n",
       "  </tbody>\n",
       "</table>\n",
       "</div>"
      ],
      "text/plain": [
       "                    sum  count       per\n",
       "                   debt   debt          \n",
       "children_category                       \n",
       "нет детей          1063  14091  7.543822\n",
       "многодетные          31    380  8.157895\n",
       "1 ребёнок           444   4808  9.234609\n",
       "2 ребёнка           194   2052  9.454191"
      ]
     },
     "execution_count": 22,
     "metadata": {},
     "output_type": "execute_result"
    }
   ],
   "source": [
    "def children_category_fun(row):\n",
    "    try:\n",
    "        if  row == 0:\n",
    "            return 'нет детей'\n",
    "        elif row == 1:\n",
    "            return '1 ребёнок'\n",
    "        elif row == 2:\n",
    "            return '2 ребёнка'\n",
    "        elif row >= 3:\n",
    "            return 'многодетные'\n",
    "    except:\n",
    "        pass\n",
    "data['children_category'] = data['children'].apply(children_category_fun)\n",
    "data_pivot1 = data.pivot_table(index=['children_category'], values=['debt'], aggfunc=['sum', 'count'])\n",
    "data_pivot1 ['per'] = (data_pivot1 ['sum'] / data_pivot1 ['count'])*100\n",
    "\n",
    "data_pivot1.sort_values(by='per', ascending=True)# Ваш код будет здесь. Вы можете создавать новые ячейки."
   ]
  },
  {
   "cell_type": "markdown",
   "id": "0eef8a68",
   "metadata": {},
   "source": [
    "<div class=\"alert alert-success\">\n",
    "<h2> Комментарий ревьюера V1<a class=\"tocSkip\"> </h2>\n",
    "\n",
    "<b>Все отлично!👍:</b> Правильно построил сводную таблицу, молодец!"
   ]
  },
  {
   "cell_type": "markdown",
   "id": "0c7668be",
   "metadata": {
    "deletable": false,
    "id": "3a6b99ec"
   },
   "source": [
    "**Вывод:** Категория людей, которые не имеют детей, хоть и чаще берут кредиты, но процент невозврата кредита в срок самый низкий, чем у тех, кто имеет 1 или 2 детей. Многодетные заёмщики меньше всех оформляют кредиты. "
   ]
  },
  {
   "cell_type": "markdown",
   "id": "91df2381",
   "metadata": {},
   "source": [
    "<div class=\"alert alert-success\">\n",
    "<h2> Комментарий ревьюера V1<a class=\"tocSkip\"> </h2>\n",
    "\n",
    "<b>Все отлично!👍:</b> Именно так, все верно."
   ]
  },
  {
   "cell_type": "markdown",
   "id": "725b1b2a",
   "metadata": {
    "deletable": false,
    "editable": false,
    "id": "97be82ca"
   },
   "source": [
    "#### 3.2 Есть ли зависимость между семейным положением и возвратом кредита в срок?"
   ]
  },
  {
   "cell_type": "code",
   "execution_count": 23,
   "id": "c0fb225a",
   "metadata": {
    "deletable": false,
    "id": "dc3f7ee8"
   },
   "outputs": [
    {
     "data": {
      "text/html": [
       "<div>\n",
       "<style scoped>\n",
       "    .dataframe tbody tr th:only-of-type {\n",
       "        vertical-align: middle;\n",
       "    }\n",
       "\n",
       "    .dataframe tbody tr th {\n",
       "        vertical-align: top;\n",
       "    }\n",
       "\n",
       "    .dataframe thead tr th {\n",
       "        text-align: left;\n",
       "    }\n",
       "\n",
       "    .dataframe thead tr:last-of-type th {\n",
       "        text-align: right;\n",
       "    }\n",
       "</style>\n",
       "<table border=\"1\" class=\"dataframe\">\n",
       "  <thead>\n",
       "    <tr>\n",
       "      <th></th>\n",
       "      <th>sum</th>\n",
       "      <th>count</th>\n",
       "      <th>per</th>\n",
       "    </tr>\n",
       "    <tr>\n",
       "      <th></th>\n",
       "      <th>debt</th>\n",
       "      <th>debt</th>\n",
       "      <th></th>\n",
       "    </tr>\n",
       "    <tr>\n",
       "      <th>family_status</th>\n",
       "      <th></th>\n",
       "      <th></th>\n",
       "      <th></th>\n",
       "    </tr>\n",
       "  </thead>\n",
       "  <tbody>\n",
       "    <tr>\n",
       "      <th>вдовец / вдова</th>\n",
       "      <td>63</td>\n",
       "      <td>951</td>\n",
       "      <td>6.624606</td>\n",
       "    </tr>\n",
       "    <tr>\n",
       "      <th>в разводе</th>\n",
       "      <td>84</td>\n",
       "      <td>1189</td>\n",
       "      <td>7.064760</td>\n",
       "    </tr>\n",
       "    <tr>\n",
       "      <th>женат / замужем</th>\n",
       "      <td>927</td>\n",
       "      <td>12261</td>\n",
       "      <td>7.560558</td>\n",
       "    </tr>\n",
       "    <tr>\n",
       "      <th>гражданский брак</th>\n",
       "      <td>385</td>\n",
       "      <td>4134</td>\n",
       "      <td>9.313014</td>\n",
       "    </tr>\n",
       "    <tr>\n",
       "      <th>Не женат / не замужем</th>\n",
       "      <td>273</td>\n",
       "      <td>2796</td>\n",
       "      <td>9.763948</td>\n",
       "    </tr>\n",
       "  </tbody>\n",
       "</table>\n",
       "</div>"
      ],
      "text/plain": [
       "                       sum  count       per\n",
       "                      debt   debt          \n",
       "family_status                              \n",
       "вдовец / вдова          63    951  6.624606\n",
       "в разводе               84   1189  7.064760\n",
       "женат / замужем        927  12261  7.560558\n",
       "гражданский брак       385   4134  9.313014\n",
       "Не женат / не замужем  273   2796  9.763948"
      ]
     },
     "execution_count": 23,
     "metadata": {},
     "output_type": "execute_result"
    }
   ],
   "source": [
    "data_pivot2 = data.pivot_table(index=['family_status'], values=['debt'], aggfunc=['sum', 'count'])\n",
    "data_pivot2 ['per'] = (data_pivot2 ['sum'] / data_pivot2 ['count'])*100\n",
    "\n",
    "data_pivot2.sort_values(by='per', ascending=True) # Ваш код будет здесь. Вы можете создавать новые ячейки."
   ]
  },
  {
   "cell_type": "markdown",
   "id": "9088460d",
   "metadata": {},
   "source": [
    "<div class=\"alert alert-success\">\n",
    "<h2> Комментарий ревьюера V1<a class=\"tocSkip\"> </h2>\n",
    "\n",
    "<b>Все отлично!👍:</b> Видно, что ты хорошо справляешься с методами построения сводных таблиц, так держать!"
   ]
  },
  {
   "cell_type": "markdown",
   "id": "fe463b3b",
   "metadata": {
    "deletable": false,
    "id": "1cef7837"
   },
   "source": [
    "**Вывод:** Из полученных данных можно сделать вывод, что к более надежным плательщикам по кредиту можно отнести людей из категории  \"вдовец / вдова\" и \"в разводе\". Но так как есть вероятность того, что эти статусы могут находиться и в категории \"Не женат / не замужем\" (не точно указаны заемщиком), то самой надёжной категорией можно считать людей в официально оформленных отношениях. Соотвественно самая ненадежная категория по выплате задолженности люди в статусе \"Не женат / не замужем\". "
   ]
  },
  {
   "cell_type": "markdown",
   "id": "eab8833b",
   "metadata": {},
   "source": [
    "<div class=\"alert alert-success\">\n",
    "<h2> Комментарий ревьюера V1<a class=\"tocSkip\"> </h2>\n",
    "\n",
    "<b>Все отлично!👍:</b> Все правильно, клиенты, побывавшие или находящиеся в официальном браке, реже допускают просрочки по кредитам."
   ]
  },
  {
   "cell_type": "markdown",
   "id": "db76a5bd",
   "metadata": {
    "deletable": false,
    "editable": false,
    "id": "1e8b2fca"
   },
   "source": [
    "#### 3.3 Есть ли зависимость между уровнем дохода и возвратом кредита в срок?"
   ]
  },
  {
   "cell_type": "code",
   "execution_count": 24,
   "id": "b963c9e9",
   "metadata": {
    "deletable": false,
    "id": "cd7e3720"
   },
   "outputs": [
    {
     "data": {
      "text/html": [
       "<div>\n",
       "<style scoped>\n",
       "    .dataframe tbody tr th:only-of-type {\n",
       "        vertical-align: middle;\n",
       "    }\n",
       "\n",
       "    .dataframe tbody tr th {\n",
       "        vertical-align: top;\n",
       "    }\n",
       "\n",
       "    .dataframe thead tr th {\n",
       "        text-align: left;\n",
       "    }\n",
       "\n",
       "    .dataframe thead tr:last-of-type th {\n",
       "        text-align: right;\n",
       "    }\n",
       "</style>\n",
       "<table border=\"1\" class=\"dataframe\">\n",
       "  <thead>\n",
       "    <tr>\n",
       "      <th></th>\n",
       "      <th>sum</th>\n",
       "      <th>count</th>\n",
       "      <th>per</th>\n",
       "    </tr>\n",
       "    <tr>\n",
       "      <th></th>\n",
       "      <th>debt</th>\n",
       "      <th>debt</th>\n",
       "      <th></th>\n",
       "    </tr>\n",
       "    <tr>\n",
       "      <th>total_income_category</th>\n",
       "      <th></th>\n",
       "      <th></th>\n",
       "      <th></th>\n",
       "    </tr>\n",
       "  </thead>\n",
       "  <tbody>\n",
       "    <tr>\n",
       "      <th>D</th>\n",
       "      <td>21</td>\n",
       "      <td>349</td>\n",
       "      <td>6.017192</td>\n",
       "    </tr>\n",
       "    <tr>\n",
       "      <th>B</th>\n",
       "      <td>354</td>\n",
       "      <td>5014</td>\n",
       "      <td>7.060231</td>\n",
       "    </tr>\n",
       "    <tr>\n",
       "      <th>A</th>\n",
       "      <td>2</td>\n",
       "      <td>25</td>\n",
       "      <td>8.000000</td>\n",
       "    </tr>\n",
       "    <tr>\n",
       "      <th>C</th>\n",
       "      <td>1353</td>\n",
       "      <td>15921</td>\n",
       "      <td>8.498210</td>\n",
       "    </tr>\n",
       "    <tr>\n",
       "      <th>E</th>\n",
       "      <td>2</td>\n",
       "      <td>22</td>\n",
       "      <td>9.090909</td>\n",
       "    </tr>\n",
       "  </tbody>\n",
       "</table>\n",
       "</div>"
      ],
      "text/plain": [
       "                        sum  count       per\n",
       "                       debt   debt          \n",
       "total_income_category                       \n",
       "D                        21    349  6.017192\n",
       "B                       354   5014  7.060231\n",
       "A                         2     25  8.000000\n",
       "C                      1353  15921  8.498210\n",
       "E                         2     22  9.090909"
      ]
     },
     "execution_count": 24,
     "metadata": {},
     "output_type": "execute_result"
    }
   ],
   "source": [
    "data_pivot3 = data.pivot_table(index=['total_income_category'], values=['debt'], aggfunc=['sum', 'count'])\n",
    "data_pivot3 ['per'] = (data_pivot3 ['sum'] / data_pivot3 ['count'])*100\n",
    "\n",
    "data_pivot3.sort_values(by='per', ascending=True)# Ваш код будет здесь. Вы можете создавать новые ячейки."
   ]
  },
  {
   "cell_type": "markdown",
   "id": "ef558789",
   "metadata": {
    "deletable": false,
    "id": "e8593def"
   },
   "source": [
    "**Вывод:** \n",
    "Категории по доходу:\n",
    "0–30000 — 'E';\n",
    "30001–50000 — 'D';\n",
    "50001–200000 — 'C';\n",
    "200001–1000000 — 'B';\n",
    "1000001 и выше — 'A'.\n",
    "\n",
    "Наименьший процент вероятности невозврата кредита в срок у людей с невысоким доходом (30001–50000), но количество людей для определения зависимости недостаточное, поэтому выводы могут быть неверны. Следовательно самым надежным плательщиком по кредиту является человек с доходом выше среднего (200001–1000000) и кредиты они берут чаще. Люди с самым высоким и самым низким доходом меньшего всего берут кредиты и их показатели не стоит учитывать для анализа. Чаще всех берут кредиты люди из категории 'C', но 8.5 % из них не возвращают в срок.  \n",
    "\n"
   ]
  },
  {
   "cell_type": "markdown",
   "id": "83af365c",
   "metadata": {},
   "source": [
    "<div class=\"alert alert-block alert-danger\">\n",
    "<h2> Комментарий ревьюера V1<a class=\"tocSkip\"></h2>\n",
    "\n",
    "\n",
    "<b>На доработку🤔:</b>\n",
    "Обрати внимание на распределение клиентов по группам. Можно ли учитывать все группы при выявлении зависимости?\n",
    "\n",
    "Подсказка: зависимость нужно определять только по 2 группам с достаточным количеством клиентов.\n",
    "\n",
    "При этом объединять группы нельзя, так как мы не знаем по какому критерию были сформированы исходные группы, возможно там было строгое правило.\n",
    "</div>"
   ]
  },
  {
   "cell_type": "markdown",
   "id": "824dc3e0",
   "metadata": {},
   "source": [
    "<div class=\"alert alert-success\">\n",
    "<h2> Комментарий ревьюера V2<a class=\"tocSkip\"> </h2>\n",
    "\n",
    "<b>Все отлично!👍:</b> Все правильно, молодец! "
   ]
  },
  {
   "cell_type": "markdown",
   "id": "4af28263",
   "metadata": {
    "deletable": false,
    "editable": false,
    "id": "99ecbd1f"
   },
   "source": [
    "#### 3.4 Как разные цели кредита влияют на его возврат в срок?"
   ]
  },
  {
   "cell_type": "code",
   "execution_count": 25,
   "id": "c6e9d7df",
   "metadata": {
    "deletable": false,
    "id": "2b687290"
   },
   "outputs": [
    {
     "data": {
      "text/html": [
       "<div>\n",
       "<style scoped>\n",
       "    .dataframe tbody tr th:only-of-type {\n",
       "        vertical-align: middle;\n",
       "    }\n",
       "\n",
       "    .dataframe tbody tr th {\n",
       "        vertical-align: top;\n",
       "    }\n",
       "\n",
       "    .dataframe thead tr th {\n",
       "        text-align: left;\n",
       "    }\n",
       "\n",
       "    .dataframe thead tr:last-of-type th {\n",
       "        text-align: right;\n",
       "    }\n",
       "</style>\n",
       "<table border=\"1\" class=\"dataframe\">\n",
       "  <thead>\n",
       "    <tr>\n",
       "      <th></th>\n",
       "      <th>sum</th>\n",
       "      <th>count</th>\n",
       "      <th>per</th>\n",
       "    </tr>\n",
       "    <tr>\n",
       "      <th></th>\n",
       "      <th>debt</th>\n",
       "      <th>debt</th>\n",
       "      <th></th>\n",
       "    </tr>\n",
       "    <tr>\n",
       "      <th>purpose_category</th>\n",
       "      <th></th>\n",
       "      <th></th>\n",
       "      <th></th>\n",
       "    </tr>\n",
       "  </thead>\n",
       "  <tbody>\n",
       "    <tr>\n",
       "      <th>операции с недвижимостью</th>\n",
       "      <td>780</td>\n",
       "      <td>10751</td>\n",
       "      <td>7.255139</td>\n",
       "    </tr>\n",
       "    <tr>\n",
       "      <th>проведение свадьбы</th>\n",
       "      <td>183</td>\n",
       "      <td>2313</td>\n",
       "      <td>7.911803</td>\n",
       "    </tr>\n",
       "    <tr>\n",
       "      <th>получение образования</th>\n",
       "      <td>369</td>\n",
       "      <td>3988</td>\n",
       "      <td>9.252758</td>\n",
       "    </tr>\n",
       "    <tr>\n",
       "      <th>операции с автомобилем</th>\n",
       "      <td>400</td>\n",
       "      <td>4279</td>\n",
       "      <td>9.347978</td>\n",
       "    </tr>\n",
       "  </tbody>\n",
       "</table>\n",
       "</div>"
      ],
      "text/plain": [
       "                          sum  count       per\n",
       "                         debt   debt          \n",
       "purpose_category                              \n",
       "операции с недвижимостью  780  10751  7.255139\n",
       "проведение свадьбы        183   2313  7.911803\n",
       "получение образования     369   3988  9.252758\n",
       "операции с автомобилем    400   4279  9.347978"
      ]
     },
     "execution_count": 25,
     "metadata": {},
     "output_type": "execute_result"
    }
   ],
   "source": [
    "data_pivot4 = data.pivot_table(index=['purpose_category'], values=['debt'], aggfunc=['sum', 'count'])\n",
    "data_pivot4 ['per'] = (data_pivot4 ['sum'] / data_pivot4 ['count'])*100\n",
    "\n",
    "data_pivot4.sort_values(by='per', ascending=True)# Ваш код будет здесь. Вы можете создавать новые ячейки."
   ]
  },
  {
   "cell_type": "markdown",
   "id": "f98c56af",
   "metadata": {
    "deletable": false,
    "id": "b4bb2ce6"
   },
   "source": [
    "**Вывод:** Кредит на недвижимость является самым надежным по оплате в срок из основных целей использования кредитных средств и самым востребованным. Наименее надёжным является кредит для операций с автомобилем и на получение образования."
   ]
  },
  {
   "cell_type": "markdown",
   "id": "e8d7f70f",
   "metadata": {},
   "source": [
    "<div class=\"alert alert-success\">\n",
    "<h2> Комментарий ревьюера V1<a class=\"tocSkip\"> </h2>\n",
    "\n",
    "<b>Все отлично!👍:</b> Абсолютно верный вывод, продолжай в том же духе!"
   ]
  },
  {
   "cell_type": "markdown",
   "id": "f0d92e7b",
   "metadata": {
    "deletable": false,
    "editable": false,
    "id": "09c3ac4c"
   },
   "source": [
    "#### 3.5 Приведите возможные причины появления пропусков в исходных данных."
   ]
  },
  {
   "cell_type": "markdown",
   "id": "6b370924",
   "metadata": {
    "deletable": false,
    "id": "9da2ceda"
   },
   "source": [
    "*Ответ:*\n",
    "Некорректно заполнены/не заполнены пользователем. \n",
    "Технический сбой: при внесении данных, при переносе данных и т.п."
   ]
  },
  {
   "cell_type": "markdown",
   "id": "724e010b",
   "metadata": {},
   "source": [
    "<div class=\"alert alert-success\">\n",
    "<h2> Комментарий ревьюера V1<a class=\"tocSkip\"> </h2>\n",
    "\n",
    "<b>Все отлично!👍:</b> Эти причины могут возникнуть в реальной жизни, согласен с тобой."
   ]
  },
  {
   "cell_type": "markdown",
   "id": "5716a482",
   "metadata": {
    "deletable": false,
    "editable": false,
    "id": "7b0487d6"
   },
   "source": [
    "#### 3.6 Объясните, почему заполнить пропуски медианным значением — лучшее решение для количественных переменных."
   ]
  },
  {
   "cell_type": "markdown",
   "id": "ef7cfe9a",
   "metadata": {
    "deletable": false,
    "id": "7ecf2b8e"
   },
   "source": [
    "*Ответ:* Так разница между максимальным значением и минимальным может быть большая и вычисление среднего значение не отображает реальной картины."
   ]
  },
  {
   "cell_type": "markdown",
   "id": "9ed09c9a",
   "metadata": {},
   "source": [
    "<div class=\"alert alert-success\">\n",
    "<h2> Комментарий ревьюера V1<a class=\"tocSkip\"> </h2>\n",
    "\n",
    "<b>Все отлично!👍:</b> Все верно, если в выборке есть выбросы, то они могут исказить значение среднего в отличии от медианы."
   ]
  },
  {
   "cell_type": "markdown",
   "id": "0afedfcb",
   "metadata": {
    "deletable": false,
    "editable": false,
    "id": "6db5255a"
   },
   "source": [
    "### Шаг 4: общий вывод."
   ]
  },
  {
   "cell_type": "markdown",
   "id": "8d03579a",
   "metadata": {
    "deletable": false,
    "id": "bad65432"
   },
   "source": [
    "Исходя из полученных данных идеальным заемщиком для банка может стать человек:\n",
    "- без детей, \n",
    "- женат / замужем, \n",
    "- с доходом выше среднего (200001–1000000), \n",
    "- оформляющий кредит для операций с недвижимостью. \n",
    "\n",
    "Самый высокий риск невозврата кредита в срок у заемщика, который:\n",
    "- с детьми, \n",
    "- не женат/не замужем, \n",
    "- с доходом от 50001 до 200000, \n",
    "- оформляющий кредит на автомобиль или образование. \n",
    "\n",
    "Суммарно идеальных заемщиков почти в 2 раза больше, чем заемщиков с максимально высоким риском невыплаты кредита в срок. \n",
    "Зависимость вполне очевидна от наличия детей, статуса и уровня дохода:\n",
    "одинокому человеку с детьми и со средним доходом тяжелее оплачивать долги перед кредитной организацией, чем человеку без детей и с доходом выше среднего. \n",
    "Есть противоречия в наличии детей и отсутствие при этом статуса каких-либо отношений. Поэтому остается вероятность того, что статус \"Не женат / не замужем\" включает в себя и статус \"в разводе\", и \"вдовец / вдова\", и \"гражданский брак\". Тем не менее одинокие все равно остаются самой ненадёжной категорией заёмщиков даже если объединить их в одну категорию. \n"
   ]
  },
  {
   "cell_type": "code",
   "execution_count": 26,
   "id": "341817b9",
   "metadata": {},
   "outputs": [
    {
     "data": {
      "text/html": [
       "<div>\n",
       "<style scoped>\n",
       "    .dataframe tbody tr th:only-of-type {\n",
       "        vertical-align: middle;\n",
       "    }\n",
       "\n",
       "    .dataframe tbody tr th {\n",
       "        vertical-align: top;\n",
       "    }\n",
       "\n",
       "    .dataframe thead tr th {\n",
       "        text-align: left;\n",
       "    }\n",
       "\n",
       "    .dataframe thead tr:last-of-type th {\n",
       "        text-align: right;\n",
       "    }\n",
       "</style>\n",
       "<table border=\"1\" class=\"dataframe\">\n",
       "  <thead>\n",
       "    <tr>\n",
       "      <th></th>\n",
       "      <th colspan=\"4\" halign=\"left\">children</th>\n",
       "    </tr>\n",
       "    <tr>\n",
       "      <th>children_category</th>\n",
       "      <th>1 ребёнок</th>\n",
       "      <th>2 ребёнка</th>\n",
       "      <th>многодетные</th>\n",
       "      <th>нет детей</th>\n",
       "    </tr>\n",
       "    <tr>\n",
       "      <th>family_status</th>\n",
       "      <th></th>\n",
       "      <th></th>\n",
       "      <th></th>\n",
       "      <th></th>\n",
       "    </tr>\n",
       "  </thead>\n",
       "  <tbody>\n",
       "    <tr>\n",
       "      <th>Не женат / не замужем</th>\n",
       "      <td>449</td>\n",
       "      <td>75</td>\n",
       "      <td>10</td>\n",
       "      <td>2262</td>\n",
       "    </tr>\n",
       "    <tr>\n",
       "      <th>в разводе</th>\n",
       "      <td>312</td>\n",
       "      <td>81</td>\n",
       "      <td>12</td>\n",
       "      <td>784</td>\n",
       "    </tr>\n",
       "    <tr>\n",
       "      <th>вдовец / вдова</th>\n",
       "      <td>77</td>\n",
       "      <td>20</td>\n",
       "      <td>7</td>\n",
       "      <td>847</td>\n",
       "    </tr>\n",
       "    <tr>\n",
       "      <th>гражданский брак</th>\n",
       "      <td>995</td>\n",
       "      <td>343</td>\n",
       "      <td>66</td>\n",
       "      <td>2730</td>\n",
       "    </tr>\n",
       "    <tr>\n",
       "      <th>женат / замужем</th>\n",
       "      <td>2975</td>\n",
       "      <td>1533</td>\n",
       "      <td>285</td>\n",
       "      <td>7468</td>\n",
       "    </tr>\n",
       "  </tbody>\n",
       "</table>\n",
       "</div>"
      ],
      "text/plain": [
       "                       children                                \n",
       "children_category     1 ребёнок 2 ребёнка многодетные нет детей\n",
       "family_status                                                  \n",
       "Не женат / не замужем       449        75          10      2262\n",
       "в разводе                   312        81          12       784\n",
       "вдовец / вдова               77        20           7       847\n",
       "гражданский брак            995       343          66      2730\n",
       "женат / замужем            2975      1533         285      7468"
      ]
     },
     "execution_count": 26,
     "metadata": {},
     "output_type": "execute_result"
    }
   ],
   "source": [
    "data_pivot5 = data.pivot_table(index=['family_status'], columns= ['children_category'], values=['children'], aggfunc= 'count')\n",
    "data_pivot5\n",
    "\n"
   ]
  },
  {
   "cell_type": "markdown",
   "id": "ee5845fc",
   "metadata": {},
   "source": [
    "<div class=\"alert alert-warning\">\n",
    "<h2> Комментарий ревьюера V1<a class=\"tocSkip\"> </h2>\n",
    "\n",
    "<b>Некоторые замечания и рекомендации💡:</b> В итоговом выводе нужно достаточно подробно написать основные пункты выявленных зависимостей. Стоит доработать вывод с учетом моих комментариев по ходу работы."
   ]
  },
  {
   "cell_type": "markdown",
   "id": "c4e4838a",
   "metadata": {},
   "source": [
    "<div class=\"alert alert-success\">\n",
    "<h2> Комментарий ревьюера V2<a class=\"tocSkip\"> </h2>\n",
    "\n",
    "<b>Все отлично!👍:</b> Отличный вывод, все четко, понятно и структурировано. Вывод в полной мере отражает существующие зависимости, и по нему можно принимать дальнейшие решения.\n",
    "</div>"
   ]
  },
  {
   "cell_type": "markdown",
   "id": "5af03b10",
   "metadata": {},
   "source": [
    "<div style=\"border:solid Chocolate 2px; padding: 40px\">\n",
    "\n",
    "**Общий вывод по проекту**\n",
    "\n",
    "Спасибо за твой проект! Я уверен, что ты приложил все усилия, чтобы сделать этот проект. Это видно по твоей работе, а сформулированные выводы отражают, насколько успешно ты осваиваешь материал.\n",
    "\n",
    "**Отмечу отдельные положительные моменты проекта🙂**:\n",
    "\n",
    "* Ты полностью следовал всем этапам выполнения задания и справился почти со всем. Хорошая работа!\n",
    "* Отдельно выделю некоторые выводы, которые ты смог сформулировать абсолютно точно!\n",
    "* У тебя опрятный и читаемый код. Возможно это звучит банально, однако при работе с чужим кодом это крайне важно)\n",
    "\n",
    "\n",
    "**На что стоит обратить внимание🤓**:\n",
    "\n",
    "* Важно доработать итоговый вывод.\n",
    "* Какая особенность данных не позволяет сходу дать ответ на вопрос: \"Есть ли зависимость между уровнем дохода и возвратом кредита в срок?\"\n",
    "* Остальные рекомендации ты найдешь в моих комментариях!\n",
    "\n",
    "\n",
    "**Желаю удачи и жду твой проект на повторное ревью!**😉"
   ]
  },
  {
   "cell_type": "markdown",
   "id": "06996399",
   "metadata": {},
   "source": [
    "<div style=\"border:solid Chocolate 2px; padding: 40px\">\n",
    "\n",
    "Ты отлично справился с данной работой! Видно, как ты успешно осваиваешь материал, применяешь полученные знания на практике. Мне было очень приятно проверять твою работу, надеюсь, мои комментарии и советы были для тебя полезными.\n",
    "\n",
    "**Желаю удачи в последующем обучении и исследованиях!**😉"
   ]
  },
  {
   "cell_type": "code",
   "execution_count": null,
   "id": "771f0e5b",
   "metadata": {},
   "outputs": [],
   "source": []
  }
 ],
 "metadata": {
  "ExecuteTimeLog": [
   {
    "duration": 45,
    "start_time": "2023-01-10T04:35:37.193Z"
   },
   {
    "duration": 750,
    "start_time": "2023-01-10T04:35:46.876Z"
   },
   {
    "duration": 22,
    "start_time": "2023-01-10T04:35:47.628Z"
   },
   {
    "duration": 14,
    "start_time": "2023-01-10T04:35:47.651Z"
   },
   {
    "duration": 10,
    "start_time": "2023-01-10T04:35:47.667Z"
   },
   {
    "duration": 39,
    "start_time": "2023-01-10T04:35:47.678Z"
   },
   {
    "duration": 3,
    "start_time": "2023-01-10T04:35:47.718Z"
   },
   {
    "duration": 12,
    "start_time": "2023-01-10T04:35:47.723Z"
   },
   {
    "duration": 9,
    "start_time": "2023-01-10T04:35:47.737Z"
   },
   {
    "duration": 9,
    "start_time": "2023-01-10T04:35:47.747Z"
   },
   {
    "duration": 5,
    "start_time": "2023-01-10T04:35:47.759Z"
   },
   {
    "duration": 44,
    "start_time": "2023-01-10T04:35:47.765Z"
   },
   {
    "duration": 9,
    "start_time": "2023-01-10T04:35:47.811Z"
   },
   {
    "duration": 5,
    "start_time": "2023-01-10T04:35:47.822Z"
   },
   {
    "duration": 13,
    "start_time": "2023-01-10T04:35:47.829Z"
   },
   {
    "duration": 20,
    "start_time": "2023-01-10T04:35:47.844Z"
   },
   {
    "duration": 39,
    "start_time": "2023-01-10T04:35:47.866Z"
   },
   {
    "duration": 4,
    "start_time": "2023-01-10T04:35:47.907Z"
   },
   {
    "duration": 15,
    "start_time": "2023-01-10T04:35:47.912Z"
   },
   {
    "duration": 6,
    "start_time": "2023-01-10T04:35:47.929Z"
   },
   {
    "duration": 5,
    "start_time": "2023-01-10T04:35:47.937Z"
   },
   {
    "duration": 16,
    "start_time": "2023-01-10T04:35:47.943Z"
   },
   {
    "duration": 36,
    "start_time": "2023-01-10T04:35:47.961Z"
   },
   {
    "duration": 3,
    "start_time": "2023-01-10T04:35:47.999Z"
   },
   {
    "duration": 6,
    "start_time": "2023-01-10T04:35:48.003Z"
   },
   {
    "duration": 9,
    "start_time": "2023-01-10T04:35:48.010Z"
   },
   {
    "duration": 20,
    "start_time": "2023-01-10T04:35:54.032Z"
   },
   {
    "duration": 15,
    "start_time": "2023-01-10T04:37:56.952Z"
   },
   {
    "duration": 6,
    "start_time": "2023-01-10T04:40:21.584Z"
   },
   {
    "duration": 8,
    "start_time": "2023-01-10T04:40:42.276Z"
   },
   {
    "duration": 8,
    "start_time": "2023-01-10T04:42:57.004Z"
   },
   {
    "duration": 7,
    "start_time": "2023-01-10T04:45:52.993Z"
   },
   {
    "duration": 18,
    "start_time": "2023-01-10T04:47:02.997Z"
   },
   {
    "duration": 17,
    "start_time": "2023-01-10T04:47:21.348Z"
   },
   {
    "duration": 7,
    "start_time": "2023-01-10T04:48:04.145Z"
   },
   {
    "duration": 763,
    "start_time": "2023-01-10T04:48:42.497Z"
   },
   {
    "duration": 7,
    "start_time": "2023-01-10T04:49:02.557Z"
   },
   {
    "duration": 20,
    "start_time": "2023-01-10T04:55:09.909Z"
   },
   {
    "duration": 26,
    "start_time": "2023-01-10T05:03:48.129Z"
   },
   {
    "duration": 18,
    "start_time": "2023-01-10T05:04:06.077Z"
   },
   {
    "duration": 16,
    "start_time": "2023-01-10T05:09:03.107Z"
   },
   {
    "duration": 18,
    "start_time": "2023-01-10T05:09:44.374Z"
   },
   {
    "duration": 15,
    "start_time": "2023-01-10T05:10:41.023Z"
   },
   {
    "duration": 18,
    "start_time": "2023-01-10T05:14:25.636Z"
   },
   {
    "duration": 611,
    "start_time": "2023-01-10T05:15:35.033Z"
   },
   {
    "duration": 47,
    "start_time": "2023-01-10T05:17:11.537Z"
   },
   {
    "duration": 48,
    "start_time": "2023-01-10T05:17:44.741Z"
   },
   {
    "duration": 19,
    "start_time": "2023-01-10T05:18:07.937Z"
   },
   {
    "duration": 19,
    "start_time": "2023-01-10T05:18:20.313Z"
   },
   {
    "duration": 71,
    "start_time": "2023-01-10T05:20:00.241Z"
   },
   {
    "duration": 804,
    "start_time": "2023-01-10T05:20:06.062Z"
   },
   {
    "duration": 322,
    "start_time": "2023-01-10T05:20:30.197Z"
   },
   {
    "duration": 13,
    "start_time": "2023-01-10T05:21:16.958Z"
   },
   {
    "duration": 13,
    "start_time": "2023-01-10T05:24:20.246Z"
   },
   {
    "duration": 18,
    "start_time": "2023-01-10T05:26:49.394Z"
   },
   {
    "duration": 23,
    "start_time": "2023-01-10T05:28:45.279Z"
   },
   {
    "duration": 23,
    "start_time": "2023-01-10T05:28:58.747Z"
   },
   {
    "duration": 21,
    "start_time": "2023-01-10T05:29:13.055Z"
   },
   {
    "duration": 21,
    "start_time": "2023-01-10T05:31:19.407Z"
   },
   {
    "duration": 29,
    "start_time": "2023-01-10T05:32:06.159Z"
   },
   {
    "duration": 21,
    "start_time": "2023-01-10T05:32:38.003Z"
   },
   {
    "duration": 19,
    "start_time": "2023-01-10T05:37:54.322Z"
   },
   {
    "duration": 25,
    "start_time": "2023-01-10T05:38:08.122Z"
   },
   {
    "duration": 50,
    "start_time": "2023-01-10T05:38:34.486Z"
   },
   {
    "duration": 50,
    "start_time": "2023-01-10T05:38:52.346Z"
   },
   {
    "duration": 55,
    "start_time": "2023-01-10T05:39:06.374Z"
   },
   {
    "duration": 22,
    "start_time": "2023-01-10T05:40:44.561Z"
   },
   {
    "duration": 49,
    "start_time": "2023-01-10T05:42:33.469Z"
   },
   {
    "duration": 42,
    "start_time": "2023-01-10T05:44:18.742Z"
   },
   {
    "duration": 22,
    "start_time": "2023-01-10T05:44:26.239Z"
   },
   {
    "duration": 21,
    "start_time": "2023-01-10T05:45:33.954Z"
   },
   {
    "duration": 454,
    "start_time": "2023-01-10T05:48:15.516Z"
   },
   {
    "duration": 27,
    "start_time": "2023-01-10T05:48:15.973Z"
   },
   {
    "duration": 25,
    "start_time": "2023-01-10T05:48:16.002Z"
   },
   {
    "duration": 11,
    "start_time": "2023-01-10T05:48:16.030Z"
   },
   {
    "duration": 55,
    "start_time": "2023-01-10T05:48:16.044Z"
   },
   {
    "duration": 4,
    "start_time": "2023-01-10T05:48:16.101Z"
   },
   {
    "duration": 22,
    "start_time": "2023-01-10T05:48:16.107Z"
   },
   {
    "duration": 14,
    "start_time": "2023-01-10T05:48:16.131Z"
   },
   {
    "duration": 11,
    "start_time": "2023-01-10T05:48:16.148Z"
   },
   {
    "duration": 6,
    "start_time": "2023-01-10T05:48:16.160Z"
   },
   {
    "duration": 31,
    "start_time": "2023-01-10T05:48:16.167Z"
   },
   {
    "duration": 8,
    "start_time": "2023-01-10T05:48:16.200Z"
   },
   {
    "duration": 12,
    "start_time": "2023-01-10T05:48:16.210Z"
   },
   {
    "duration": 13,
    "start_time": "2023-01-10T05:48:16.224Z"
   },
   {
    "duration": 18,
    "start_time": "2023-01-10T05:48:16.238Z"
   },
   {
    "duration": 15,
    "start_time": "2023-01-10T05:48:16.257Z"
   },
   {
    "duration": 23,
    "start_time": "2023-01-10T05:48:16.274Z"
   },
   {
    "duration": 26,
    "start_time": "2023-01-10T05:48:16.298Z"
   },
   {
    "duration": 6,
    "start_time": "2023-01-10T05:48:16.326Z"
   },
   {
    "duration": 3,
    "start_time": "2023-01-10T05:48:16.333Z"
   },
   {
    "duration": 10,
    "start_time": "2023-01-10T05:48:16.337Z"
   },
   {
    "duration": 19,
    "start_time": "2023-01-10T05:48:16.349Z"
   },
   {
    "duration": 2,
    "start_time": "2023-01-10T05:48:16.401Z"
   },
   {
    "duration": 8,
    "start_time": "2023-01-10T05:48:16.404Z"
   },
   {
    "duration": 24,
    "start_time": "2023-01-10T05:48:25.244Z"
   },
   {
    "duration": 21,
    "start_time": "2023-01-10T05:48:42.124Z"
   },
   {
    "duration": 20,
    "start_time": "2023-01-10T05:49:07.748Z"
   },
   {
    "duration": 22,
    "start_time": "2023-01-10T05:50:59.920Z"
   },
   {
    "duration": 20,
    "start_time": "2023-01-10T05:51:36.576Z"
   },
   {
    "duration": 21,
    "start_time": "2023-01-10T05:52:12.284Z"
   },
   {
    "duration": 69,
    "start_time": "2023-01-10T10:52:20.202Z"
   },
   {
    "duration": 46,
    "start_time": "2023-01-10T10:52:57.354Z"
   },
   {
    "duration": 1283,
    "start_time": "2023-01-10T10:53:16.714Z"
   },
   {
    "duration": 54,
    "start_time": "2023-01-10T10:54:08.854Z"
   },
   {
    "duration": 843,
    "start_time": "2023-01-10T10:54:26.846Z"
   },
   {
    "duration": 473,
    "start_time": "2023-01-10T10:54:49.146Z"
   },
   {
    "duration": 21,
    "start_time": "2023-01-10T10:54:49.621Z"
   },
   {
    "duration": 14,
    "start_time": "2023-01-10T10:54:49.643Z"
   },
   {
    "duration": 12,
    "start_time": "2023-01-10T10:54:49.659Z"
   },
   {
    "duration": 55,
    "start_time": "2023-01-10T10:54:49.672Z"
   },
   {
    "duration": 4,
    "start_time": "2023-01-10T10:54:49.728Z"
   },
   {
    "duration": 17,
    "start_time": "2023-01-10T10:54:49.733Z"
   },
   {
    "duration": 8,
    "start_time": "2023-01-10T10:54:49.752Z"
   },
   {
    "duration": 14,
    "start_time": "2023-01-10T10:54:49.762Z"
   },
   {
    "duration": 21,
    "start_time": "2023-01-10T10:54:49.778Z"
   },
   {
    "duration": 67,
    "start_time": "2023-01-10T10:54:49.802Z"
   },
   {
    "duration": 10,
    "start_time": "2023-01-10T10:54:49.872Z"
   },
   {
    "duration": 11,
    "start_time": "2023-01-10T10:54:49.883Z"
   },
   {
    "duration": 28,
    "start_time": "2023-01-10T10:54:49.895Z"
   },
   {
    "duration": 25,
    "start_time": "2023-01-10T10:54:49.926Z"
   },
   {
    "duration": 22,
    "start_time": "2023-01-10T10:54:49.952Z"
   },
   {
    "duration": 4,
    "start_time": "2023-01-10T10:54:49.976Z"
   },
   {
    "duration": 21,
    "start_time": "2023-01-10T10:54:49.982Z"
   },
   {
    "duration": 7,
    "start_time": "2023-01-10T10:54:50.005Z"
   },
   {
    "duration": 10,
    "start_time": "2023-01-10T10:54:50.014Z"
   },
   {
    "duration": 12,
    "start_time": "2023-01-10T10:54:50.026Z"
   },
   {
    "duration": 3,
    "start_time": "2023-01-10T10:54:50.039Z"
   },
   {
    "duration": 1265,
    "start_time": "2023-01-10T10:54:50.043Z"
   },
   {
    "duration": 0,
    "start_time": "2023-01-10T10:54:51.310Z"
   },
   {
    "duration": 0,
    "start_time": "2023-01-10T10:54:51.311Z"
   },
   {
    "duration": 15,
    "start_time": "2023-01-10T10:55:54.813Z"
   },
   {
    "duration": 772,
    "start_time": "2023-01-10T10:56:16.976Z"
   },
   {
    "duration": 835,
    "start_time": "2023-01-10T10:56:35.501Z"
   },
   {
    "duration": 8,
    "start_time": "2023-01-10T11:00:49.997Z"
   },
   {
    "duration": 779,
    "start_time": "2023-01-10T11:02:06.338Z"
   },
   {
    "duration": 53,
    "start_time": "2023-01-10T11:02:17.902Z"
   },
   {
    "duration": 53,
    "start_time": "2023-01-10T11:02:58.606Z"
   },
   {
    "duration": 32,
    "start_time": "2023-01-10T11:03:18.133Z"
   },
   {
    "duration": 23,
    "start_time": "2023-01-10T11:03:28.697Z"
   },
   {
    "duration": 25,
    "start_time": "2023-01-10T11:04:13.686Z"
   },
   {
    "duration": 31,
    "start_time": "2023-01-10T11:04:29.910Z"
   },
   {
    "duration": 26,
    "start_time": "2023-01-10T11:17:31.112Z"
   },
   {
    "duration": 31,
    "start_time": "2023-01-10T11:17:34.944Z"
   },
   {
    "duration": 15,
    "start_time": "2023-01-10T11:36:38.610Z"
   },
   {
    "duration": 36,
    "start_time": "2023-01-10T11:38:38.011Z"
   },
   {
    "duration": 31,
    "start_time": "2023-01-10T11:39:32.259Z"
   },
   {
    "duration": 72,
    "start_time": "2023-01-10T15:43:27.702Z"
   },
   {
    "duration": 582,
    "start_time": "2023-01-10T15:43:35.115Z"
   },
   {
    "duration": 32,
    "start_time": "2023-01-10T15:43:35.699Z"
   },
   {
    "duration": 17,
    "start_time": "2023-01-10T15:43:35.732Z"
   },
   {
    "duration": 10,
    "start_time": "2023-01-10T15:43:35.751Z"
   },
   {
    "duration": 64,
    "start_time": "2023-01-10T15:43:35.763Z"
   },
   {
    "duration": 4,
    "start_time": "2023-01-10T15:43:35.829Z"
   },
   {
    "duration": 14,
    "start_time": "2023-01-10T15:43:35.835Z"
   },
   {
    "duration": 6,
    "start_time": "2023-01-10T15:43:35.851Z"
   },
   {
    "duration": 34,
    "start_time": "2023-01-10T15:43:35.858Z"
   },
   {
    "duration": 5,
    "start_time": "2023-01-10T15:43:35.895Z"
   },
   {
    "duration": 41,
    "start_time": "2023-01-10T15:43:35.912Z"
   },
   {
    "duration": 10,
    "start_time": "2023-01-10T15:43:35.955Z"
   },
   {
    "duration": 8,
    "start_time": "2023-01-10T15:43:35.967Z"
   },
   {
    "duration": 39,
    "start_time": "2023-01-10T15:43:35.977Z"
   },
   {
    "duration": 21,
    "start_time": "2023-01-10T15:43:36.019Z"
   },
   {
    "duration": 17,
    "start_time": "2023-01-10T15:43:36.042Z"
   },
   {
    "duration": 3,
    "start_time": "2023-01-10T15:43:36.061Z"
   },
   {
    "duration": 20,
    "start_time": "2023-01-10T15:43:36.066Z"
   },
   {
    "duration": 6,
    "start_time": "2023-01-10T15:43:36.088Z"
   },
   {
    "duration": 21,
    "start_time": "2023-01-10T15:43:36.096Z"
   },
   {
    "duration": 15,
    "start_time": "2023-01-10T15:43:36.119Z"
   },
   {
    "duration": 45,
    "start_time": "2023-01-10T15:43:36.136Z"
   },
   {
    "duration": 41,
    "start_time": "2023-01-10T15:43:36.183Z"
   },
   {
    "duration": 14,
    "start_time": "2023-01-10T15:43:36.226Z"
   },
   {
    "duration": 8,
    "start_time": "2023-01-10T15:43:36.241Z"
   },
   {
    "duration": 75,
    "start_time": "2023-01-10T15:45:19.818Z"
   },
   {
    "duration": 31,
    "start_time": "2023-01-10T15:45:30.093Z"
   },
   {
    "duration": 30,
    "start_time": "2023-01-10T16:05:36.424Z"
   },
   {
    "duration": 16,
    "start_time": "2023-01-10T17:13:33.203Z"
   },
   {
    "duration": 4,
    "start_time": "2023-01-10T17:14:41.121Z"
   },
   {
    "duration": 3,
    "start_time": "2023-01-10T17:14:54.191Z"
   },
   {
    "duration": 4,
    "start_time": "2023-01-10T17:14:58.279Z"
   },
   {
    "duration": 85,
    "start_time": "2023-01-10T17:28:06.473Z"
   },
   {
    "duration": 18,
    "start_time": "2023-01-10T17:29:58.249Z"
   },
   {
    "duration": 83,
    "start_time": "2023-01-10T17:31:24.093Z"
   },
   {
    "duration": 78,
    "start_time": "2023-01-10T17:31:38.673Z"
   },
   {
    "duration": 21,
    "start_time": "2023-01-10T17:31:59.718Z"
   },
   {
    "duration": 22,
    "start_time": "2023-01-10T17:32:16.851Z"
   },
   {
    "duration": 482,
    "start_time": "2023-01-10T17:53:26.071Z"
   },
   {
    "duration": 23,
    "start_time": "2023-01-10T17:53:26.555Z"
   },
   {
    "duration": 31,
    "start_time": "2023-01-10T17:53:26.579Z"
   },
   {
    "duration": 15,
    "start_time": "2023-01-10T17:53:26.612Z"
   },
   {
    "duration": 35,
    "start_time": "2023-01-10T17:53:26.629Z"
   },
   {
    "duration": 3,
    "start_time": "2023-01-10T17:53:26.666Z"
   },
   {
    "duration": 10,
    "start_time": "2023-01-10T17:53:26.670Z"
   },
   {
    "duration": 40,
    "start_time": "2023-01-10T17:53:26.681Z"
   },
   {
    "duration": 16,
    "start_time": "2023-01-10T17:53:26.722Z"
   },
   {
    "duration": 9,
    "start_time": "2023-01-10T17:53:26.741Z"
   },
   {
    "duration": 35,
    "start_time": "2023-01-10T17:53:26.752Z"
   },
   {
    "duration": 9,
    "start_time": "2023-01-10T17:53:26.789Z"
   },
   {
    "duration": 19,
    "start_time": "2023-01-10T17:53:26.800Z"
   },
   {
    "duration": 19,
    "start_time": "2023-01-10T17:53:26.821Z"
   },
   {
    "duration": 31,
    "start_time": "2023-01-10T17:53:26.842Z"
   },
   {
    "duration": 36,
    "start_time": "2023-01-10T17:53:26.874Z"
   },
   {
    "duration": 6,
    "start_time": "2023-01-10T17:53:26.911Z"
   },
   {
    "duration": 18,
    "start_time": "2023-01-10T17:53:26.918Z"
   },
   {
    "duration": 9,
    "start_time": "2023-01-10T17:53:26.937Z"
   },
   {
    "duration": 9,
    "start_time": "2023-01-10T17:53:26.948Z"
   },
   {
    "duration": 97,
    "start_time": "2023-01-10T17:53:26.959Z"
   },
   {
    "duration": 41,
    "start_time": "2023-01-10T17:53:27.057Z"
   },
   {
    "duration": 40,
    "start_time": "2023-01-10T17:53:27.099Z"
   },
   {
    "duration": 26,
    "start_time": "2023-01-10T17:53:27.141Z"
   },
   {
    "duration": 44,
    "start_time": "2023-01-10T17:53:27.168Z"
   },
   {
    "duration": 24,
    "start_time": "2023-01-10T17:53:27.213Z"
   }
  ],
  "colab": {
   "name": "dpp_template_part2.ipynb",
   "provenance": []
  },
  "kernelspec": {
   "display_name": "Python 3 (ipykernel)",
   "language": "python",
   "name": "python3"
  },
  "language_info": {
   "codemirror_mode": {
    "name": "ipython",
    "version": 3
   },
   "file_extension": ".py",
   "mimetype": "text/x-python",
   "name": "python",
   "nbconvert_exporter": "python",
   "pygments_lexer": "ipython3",
   "version": "3.9.13"
  },
  "toc": {
   "base_numbering": 1,
   "nav_menu": {},
   "number_sections": true,
   "sideBar": true,
   "skip_h1_title": true,
   "title_cell": "Table of Contents",
   "title_sidebar": "Contents",
   "toc_cell": false,
   "toc_position": {},
   "toc_section_display": true,
   "toc_window_display": false
  }
 },
 "nbformat": 4,
 "nbformat_minor": 5
}
