{
 "cells": [
  {
   "cell_type": "markdown",
   "metadata": {},
   "source": [
    "<div style=\"border:solid green 2px; padding: 20px\"> <h1 style=\"color:green; margin-bottom:20px\">Комментарий ревьювера</h1>\n",
    "\n",
    "Екатерина, привет! \n",
    "\n",
    "🤝 Тобой проделана большая работа, молодец! \n",
    "\n",
    "✏️ В этой тетрадке далее мои комментарии будут выделены по цветам:\n",
    "\n",
    "    \n",
    "<div class=\"alert alert-block alert-success\">\n",
    "<b>✔️ Комментарий ревьюера:</b> Зеленный блок указывает на твои удачные решения и сильные стороны работы\n",
    "</div>\n",
    "\n",
    "\n",
    "\n",
    "    \n",
    "<div class=\"alert alert-block alert-warning\">\n",
    "<b> ⚠️ Комментарий ревьюера:</b> Желтый блок указывает на то, что задание решено корректно, но какие-то вещи можно улучшить для большей эффективности работы, чистоты кода, поддержки и пр.\n",
    "</div>\n",
    "\n",
    "\n",
    "<div class=\"alert alert-block alert-danger\">\n",
    "<b> ❌ Комментарий ревьюера:</b> Красный блок указывает на то, то в задании допущена ошибка, которая влияет на итоговые результаты, и без исправления которой работа не будет принята.\n",
    "</div>\n",
    "\n",
    "\n",
    "    \n",
    "📈 Не удаляй мои комментарии, так будет проще следить за динамикой.\n",
    "    \n",
    "🖋 Для простоты нашего общения и ускорения процесса проверки, можешь тоже выделять свои комментарии\n",
    "<div class=\"alert alert-info\"><b>Комментарий студента:</b> Например, вот так.</div>\n",
    "    \n",
    "  Ты проделала интересную работу. Ты справилась с большинством шагов, но по некоторым пунктам нужны доработки.\n",
    "   Давай посмотрим, что получилось!"
   ]
  },
  {
   "cell_type": "markdown",
   "metadata": {},
   "source": [
    "# SQL"
   ]
  },
  {
   "cell_type": "markdown",
   "metadata": {},
   "source": [
    "**Цель**: предоставить данные, которые помогут сформулировать ценностное предложение для создания нового приложения для тех, кто любит читать."
   ]
  },
  {
   "cell_type": "markdown",
   "metadata": {},
   "source": [
    "**Кейс**: Коронавирус застал мир врасплох, изменив привычный порядок вещей. В свободное время жители городов больше не выходят на улицу, не посещают кафе и торговые центры. Зато стало больше времени для книг. Это заметили стартаперы — и бросились создавать приложения для тех, кто любит читать.\n",
    "\n",
    "Ваша компания решила быть на волне и купила крупный сервис для чтения книг по подписке. Ваша первая задача как аналитика — проанализировать базу данных.\n",
    "В ней — информация о книгах, издательствах, авторах, а также пользовательские обзоры книг. Эти данные помогут сформулировать ценностное предложение для нового продукта."
   ]
  },
  {
   "cell_type": "code",
   "execution_count": 1,
   "metadata": {},
   "outputs": [],
   "source": [
    "# импортируем библиотеки\n",
    "import pandas as pd\n",
    "from sqlalchemy import text, create_engine\n",
    "# устанавливаем параметры\n",
    "db_config = {'user': 'praktikum_student', # имя пользователя\n",
    "'pwd': 'Sdf4$2;d-d30pp', # пароль\n",
    "'host': 'rc1b-wcoijxj3yxfsf3fs.mdb.yandexcloud.net',\n",
    "'port': 6432, # порт подключения\n",
    "'db': 'data-analyst-final-project-db'} # название базы данных\n",
    "connection_string = 'postgresql://{user}:{pwd}@{host}:{port}/{db}'.format(**db_config)\n",
    "# сохраняем коннектор\n",
    "engine = create_engine(connection_string, connect_args={'sslmode':'require'})\n",
    "con=engine.connect()"
   ]
  },
  {
   "cell_type": "markdown",
   "metadata": {},
   "source": [
    "<div class=\"alert alert-block alert-success\">\n",
    "<b>✔️ Комментарий ревьюера:</b> Подключение создано верно, база работает\n",
    "</div>"
   ]
  },
  {
   "cell_type": "markdown",
   "metadata": {},
   "source": [
    "Сохраним таблицы в переменные, чтобы использовать функцию для вывода результата через pandas."
   ]
  },
  {
   "cell_type": "code",
   "execution_count": 2,
   "metadata": {},
   "outputs": [],
   "source": [
    "books = '''SELECT * FROM books LIMIT 5'''\n",
    "authors = '''SELECT * FROM authors LIMIT 5'''\n",
    "publishers = '''SELECT * FROM publishers LIMIT 5'''\n",
    "ratings = '''SELECT * FROM ratings LIMIT 5'''\n",
    "reviews = '''SELECT * FROM reviews LIMIT 5'''"
   ]
  },
  {
   "cell_type": "markdown",
   "metadata": {},
   "source": [
    "Функция для вывода:"
   ]
  },
  {
   "cell_type": "code",
   "execution_count": 3,
   "metadata": {},
   "outputs": [],
   "source": [
    "def table(sql):\n",
    "    return pd.io.sql.read_sql(sql, con = engine)"
   ]
  },
  {
   "cell_type": "markdown",
   "metadata": {},
   "source": [
    "Посмотрим на первые 5 строк таблиц:"
   ]
  },
  {
   "cell_type": "code",
   "execution_count": 4,
   "metadata": {},
   "outputs": [
    {
     "data": {
      "text/html": [
       "<div>\n",
       "<style scoped>\n",
       "    .dataframe tbody tr th:only-of-type {\n",
       "        vertical-align: middle;\n",
       "    }\n",
       "\n",
       "    .dataframe tbody tr th {\n",
       "        vertical-align: top;\n",
       "    }\n",
       "\n",
       "    .dataframe thead th {\n",
       "        text-align: right;\n",
       "    }\n",
       "</style>\n",
       "<table border=\"1\" class=\"dataframe\">\n",
       "  <thead>\n",
       "    <tr style=\"text-align: right;\">\n",
       "      <th></th>\n",
       "      <th>book_id</th>\n",
       "      <th>author_id</th>\n",
       "      <th>title</th>\n",
       "      <th>num_pages</th>\n",
       "      <th>publication_date</th>\n",
       "      <th>publisher_id</th>\n",
       "    </tr>\n",
       "  </thead>\n",
       "  <tbody>\n",
       "    <tr>\n",
       "      <th>0</th>\n",
       "      <td>1</td>\n",
       "      <td>546</td>\n",
       "      <td>'Salem's Lot</td>\n",
       "      <td>594</td>\n",
       "      <td>2005-11-01</td>\n",
       "      <td>93</td>\n",
       "    </tr>\n",
       "    <tr>\n",
       "      <th>1</th>\n",
       "      <td>2</td>\n",
       "      <td>465</td>\n",
       "      <td>1 000 Places to See Before You Die</td>\n",
       "      <td>992</td>\n",
       "      <td>2003-05-22</td>\n",
       "      <td>336</td>\n",
       "    </tr>\n",
       "    <tr>\n",
       "      <th>2</th>\n",
       "      <td>3</td>\n",
       "      <td>407</td>\n",
       "      <td>13 Little Blue Envelopes (Little Blue Envelope...</td>\n",
       "      <td>322</td>\n",
       "      <td>2010-12-21</td>\n",
       "      <td>135</td>\n",
       "    </tr>\n",
       "    <tr>\n",
       "      <th>3</th>\n",
       "      <td>4</td>\n",
       "      <td>82</td>\n",
       "      <td>1491: New Revelations of the Americas Before C...</td>\n",
       "      <td>541</td>\n",
       "      <td>2006-10-10</td>\n",
       "      <td>309</td>\n",
       "    </tr>\n",
       "    <tr>\n",
       "      <th>4</th>\n",
       "      <td>5</td>\n",
       "      <td>125</td>\n",
       "      <td>1776</td>\n",
       "      <td>386</td>\n",
       "      <td>2006-07-04</td>\n",
       "      <td>268</td>\n",
       "    </tr>\n",
       "  </tbody>\n",
       "</table>\n",
       "</div>"
      ],
      "text/plain": [
       "   book_id  author_id                                              title  \\\n",
       "0        1        546                                       'Salem's Lot   \n",
       "1        2        465                 1 000 Places to See Before You Die   \n",
       "2        3        407  13 Little Blue Envelopes (Little Blue Envelope...   \n",
       "3        4         82  1491: New Revelations of the Americas Before C...   \n",
       "4        5        125                                               1776   \n",
       "\n",
       "   num_pages publication_date  publisher_id  \n",
       "0        594       2005-11-01            93  \n",
       "1        992       2003-05-22           336  \n",
       "2        322       2010-12-21           135  \n",
       "3        541       2006-10-10           309  \n",
       "4        386       2006-07-04           268  "
      ]
     },
     "execution_count": 4,
     "metadata": {},
     "output_type": "execute_result"
    }
   ],
   "source": [
    "table(books)"
   ]
  },
  {
   "cell_type": "code",
   "execution_count": 5,
   "metadata": {},
   "outputs": [
    {
     "data": {
      "text/html": [
       "<div>\n",
       "<style scoped>\n",
       "    .dataframe tbody tr th:only-of-type {\n",
       "        vertical-align: middle;\n",
       "    }\n",
       "\n",
       "    .dataframe tbody tr th {\n",
       "        vertical-align: top;\n",
       "    }\n",
       "\n",
       "    .dataframe thead th {\n",
       "        text-align: right;\n",
       "    }\n",
       "</style>\n",
       "<table border=\"1\" class=\"dataframe\">\n",
       "  <thead>\n",
       "    <tr style=\"text-align: right;\">\n",
       "      <th></th>\n",
       "      <th>publisher_id</th>\n",
       "      <th>publisher</th>\n",
       "    </tr>\n",
       "  </thead>\n",
       "  <tbody>\n",
       "    <tr>\n",
       "      <th>0</th>\n",
       "      <td>1</td>\n",
       "      <td>Ace</td>\n",
       "    </tr>\n",
       "    <tr>\n",
       "      <th>1</th>\n",
       "      <td>2</td>\n",
       "      <td>Ace Book</td>\n",
       "    </tr>\n",
       "    <tr>\n",
       "      <th>2</th>\n",
       "      <td>3</td>\n",
       "      <td>Ace Books</td>\n",
       "    </tr>\n",
       "    <tr>\n",
       "      <th>3</th>\n",
       "      <td>4</td>\n",
       "      <td>Ace Hardcover</td>\n",
       "    </tr>\n",
       "    <tr>\n",
       "      <th>4</th>\n",
       "      <td>5</td>\n",
       "      <td>Addison Wesley Publishing Company</td>\n",
       "    </tr>\n",
       "  </tbody>\n",
       "</table>\n",
       "</div>"
      ],
      "text/plain": [
       "   publisher_id                          publisher\n",
       "0             1                                Ace\n",
       "1             2                           Ace Book\n",
       "2             3                          Ace Books\n",
       "3             4                      Ace Hardcover\n",
       "4             5  Addison Wesley Publishing Company"
      ]
     },
     "execution_count": 5,
     "metadata": {},
     "output_type": "execute_result"
    }
   ],
   "source": [
    "table(publishers)"
   ]
  },
  {
   "cell_type": "code",
   "execution_count": 6,
   "metadata": {},
   "outputs": [
    {
     "data": {
      "text/html": [
       "<div>\n",
       "<style scoped>\n",
       "    .dataframe tbody tr th:only-of-type {\n",
       "        vertical-align: middle;\n",
       "    }\n",
       "\n",
       "    .dataframe tbody tr th {\n",
       "        vertical-align: top;\n",
       "    }\n",
       "\n",
       "    .dataframe thead th {\n",
       "        text-align: right;\n",
       "    }\n",
       "</style>\n",
       "<table border=\"1\" class=\"dataframe\">\n",
       "  <thead>\n",
       "    <tr style=\"text-align: right;\">\n",
       "      <th></th>\n",
       "      <th>rating_id</th>\n",
       "      <th>book_id</th>\n",
       "      <th>username</th>\n",
       "      <th>rating</th>\n",
       "    </tr>\n",
       "  </thead>\n",
       "  <tbody>\n",
       "    <tr>\n",
       "      <th>0</th>\n",
       "      <td>1</td>\n",
       "      <td>1</td>\n",
       "      <td>ryanfranco</td>\n",
       "      <td>4</td>\n",
       "    </tr>\n",
       "    <tr>\n",
       "      <th>1</th>\n",
       "      <td>2</td>\n",
       "      <td>1</td>\n",
       "      <td>grantpatricia</td>\n",
       "      <td>2</td>\n",
       "    </tr>\n",
       "    <tr>\n",
       "      <th>2</th>\n",
       "      <td>3</td>\n",
       "      <td>1</td>\n",
       "      <td>brandtandrea</td>\n",
       "      <td>5</td>\n",
       "    </tr>\n",
       "    <tr>\n",
       "      <th>3</th>\n",
       "      <td>4</td>\n",
       "      <td>2</td>\n",
       "      <td>lorichen</td>\n",
       "      <td>3</td>\n",
       "    </tr>\n",
       "    <tr>\n",
       "      <th>4</th>\n",
       "      <td>5</td>\n",
       "      <td>2</td>\n",
       "      <td>mariokeller</td>\n",
       "      <td>2</td>\n",
       "    </tr>\n",
       "  </tbody>\n",
       "</table>\n",
       "</div>"
      ],
      "text/plain": [
       "   rating_id  book_id       username  rating\n",
       "0          1        1     ryanfranco       4\n",
       "1          2        1  grantpatricia       2\n",
       "2          3        1   brandtandrea       5\n",
       "3          4        2       lorichen       3\n",
       "4          5        2    mariokeller       2"
      ]
     },
     "execution_count": 6,
     "metadata": {},
     "output_type": "execute_result"
    }
   ],
   "source": [
    "table(ratings)"
   ]
  },
  {
   "cell_type": "code",
   "execution_count": 7,
   "metadata": {
    "scrolled": true
   },
   "outputs": [
    {
     "data": {
      "text/html": [
       "<div>\n",
       "<style scoped>\n",
       "    .dataframe tbody tr th:only-of-type {\n",
       "        vertical-align: middle;\n",
       "    }\n",
       "\n",
       "    .dataframe tbody tr th {\n",
       "        vertical-align: top;\n",
       "    }\n",
       "\n",
       "    .dataframe thead th {\n",
       "        text-align: right;\n",
       "    }\n",
       "</style>\n",
       "<table border=\"1\" class=\"dataframe\">\n",
       "  <thead>\n",
       "    <tr style=\"text-align: right;\">\n",
       "      <th></th>\n",
       "      <th>review_id</th>\n",
       "      <th>book_id</th>\n",
       "      <th>username</th>\n",
       "      <th>text</th>\n",
       "    </tr>\n",
       "  </thead>\n",
       "  <tbody>\n",
       "    <tr>\n",
       "      <th>0</th>\n",
       "      <td>1</td>\n",
       "      <td>1</td>\n",
       "      <td>brandtandrea</td>\n",
       "      <td>Mention society tell send professor analysis. ...</td>\n",
       "    </tr>\n",
       "    <tr>\n",
       "      <th>1</th>\n",
       "      <td>2</td>\n",
       "      <td>1</td>\n",
       "      <td>ryanfranco</td>\n",
       "      <td>Foot glass pretty audience hit themselves. Amo...</td>\n",
       "    </tr>\n",
       "    <tr>\n",
       "      <th>2</th>\n",
       "      <td>3</td>\n",
       "      <td>2</td>\n",
       "      <td>lorichen</td>\n",
       "      <td>Listen treat keep worry. Miss husband tax but ...</td>\n",
       "    </tr>\n",
       "    <tr>\n",
       "      <th>3</th>\n",
       "      <td>4</td>\n",
       "      <td>3</td>\n",
       "      <td>johnsonamanda</td>\n",
       "      <td>Finally month interesting blue could nature cu...</td>\n",
       "    </tr>\n",
       "    <tr>\n",
       "      <th>4</th>\n",
       "      <td>5</td>\n",
       "      <td>3</td>\n",
       "      <td>scotttamara</td>\n",
       "      <td>Nation purpose heavy give wait song will. List...</td>\n",
       "    </tr>\n",
       "  </tbody>\n",
       "</table>\n",
       "</div>"
      ],
      "text/plain": [
       "   review_id  book_id       username  \\\n",
       "0          1        1   brandtandrea   \n",
       "1          2        1     ryanfranco   \n",
       "2          3        2       lorichen   \n",
       "3          4        3  johnsonamanda   \n",
       "4          5        3    scotttamara   \n",
       "\n",
       "                                                text  \n",
       "0  Mention society tell send professor analysis. ...  \n",
       "1  Foot glass pretty audience hit themselves. Amo...  \n",
       "2  Listen treat keep worry. Miss husband tax but ...  \n",
       "3  Finally month interesting blue could nature cu...  \n",
       "4  Nation purpose heavy give wait song will. List...  "
      ]
     },
     "execution_count": 7,
     "metadata": {},
     "output_type": "execute_result"
    }
   ],
   "source": [
    "table(reviews)"
   ]
  },
  {
   "cell_type": "markdown",
   "metadata": {},
   "source": [
    "<div class=\"alert alert-block alert-success\">\n",
    "    <b>✔️ Комментарий ревьюера:</b> Здорово, что, просматривая исследуемые таблицы, используешь метод LIMIT для ограничения вывода\n",
    "</div>"
   ]
  },
  {
   "cell_type": "markdown",
   "metadata": {},
   "source": [
    "## Задание 1: Посчитайте, сколько книг вышло после 1 января 2000 года;"
   ]
  },
  {
   "cell_type": "code",
   "execution_count": 8,
   "metadata": {},
   "outputs": [
    {
     "data": {
      "text/html": [
       "<div>\n",
       "<style scoped>\n",
       "    .dataframe tbody tr th:only-of-type {\n",
       "        vertical-align: middle;\n",
       "    }\n",
       "\n",
       "    .dataframe tbody tr th {\n",
       "        vertical-align: top;\n",
       "    }\n",
       "\n",
       "    .dataframe thead th {\n",
       "        text-align: right;\n",
       "    }\n",
       "</style>\n",
       "<table border=\"1\" class=\"dataframe\">\n",
       "  <thead>\n",
       "    <tr style=\"text-align: right;\">\n",
       "      <th></th>\n",
       "      <th>count</th>\n",
       "    </tr>\n",
       "  </thead>\n",
       "  <tbody>\n",
       "    <tr>\n",
       "      <th>0</th>\n",
       "      <td>819</td>\n",
       "    </tr>\n",
       "  </tbody>\n",
       "</table>\n",
       "</div>"
      ],
      "text/plain": [
       "   count\n",
       "0    819"
      ]
     },
     "execution_count": 8,
     "metadata": {},
     "output_type": "execute_result"
    }
   ],
   "source": [
    "books_cnt = '''\n",
    "SELECT COUNT(book_id) \n",
    "FROM books\n",
    "WHERE publication_date > '2000-01-01'\n",
    "'''\n",
    "table(books_cnt)"
   ]
  },
  {
   "cell_type": "markdown",
   "metadata": {},
   "source": [
    "**819 книг** было выпущено после 1 января 2000 года"
   ]
  },
  {
   "cell_type": "markdown",
   "metadata": {},
   "source": [
    "<div class=\"alert alert-block alert-success\">\n",
    "<b>✔️ Комментарий ревьюера:</b> Запрос написан верно, книги подсчитаны\n",
    "</div>"
   ]
  },
  {
   "cell_type": "markdown",
   "metadata": {},
   "source": [
    "## Задание 2: Для каждой книги посчитайте количество обзоров и среднюю оценку;"
   ]
  },
  {
   "cell_type": "markdown",
   "metadata": {},
   "source": [
    "Для подсчёта рейтинга и количества обзоров необходимо присоединить таблицы с рейтингом ratings и обзорами reviews к таблице с книгами books"
   ]
  },
  {
   "cell_type": "code",
   "execution_count": 9,
   "metadata": {},
   "outputs": [
    {
     "data": {
      "text/html": [
       "<div>\n",
       "<style scoped>\n",
       "    .dataframe tbody tr th:only-of-type {\n",
       "        vertical-align: middle;\n",
       "    }\n",
       "\n",
       "    .dataframe tbody tr th {\n",
       "        vertical-align: top;\n",
       "    }\n",
       "\n",
       "    .dataframe thead th {\n",
       "        text-align: right;\n",
       "    }\n",
       "</style>\n",
       "<table border=\"1\" class=\"dataframe\">\n",
       "  <thead>\n",
       "    <tr style=\"text-align: right;\">\n",
       "      <th></th>\n",
       "      <th>title</th>\n",
       "      <th>book_id</th>\n",
       "      <th>avg_rating</th>\n",
       "      <th>reviews_cnt</th>\n",
       "    </tr>\n",
       "  </thead>\n",
       "  <tbody>\n",
       "    <tr>\n",
       "      <th>0</th>\n",
       "      <td>Twilight (Twilight  #1)</td>\n",
       "      <td>948</td>\n",
       "      <td>3.662500</td>\n",
       "      <td>7</td>\n",
       "    </tr>\n",
       "    <tr>\n",
       "      <th>1</th>\n",
       "      <td>Harry Potter and the Prisoner of Azkaban (Harr...</td>\n",
       "      <td>302</td>\n",
       "      <td>4.414634</td>\n",
       "      <td>6</td>\n",
       "    </tr>\n",
       "    <tr>\n",
       "      <th>2</th>\n",
       "      <td>Harry Potter and the Chamber of Secrets (Harry...</td>\n",
       "      <td>299</td>\n",
       "      <td>4.287500</td>\n",
       "      <td>6</td>\n",
       "    </tr>\n",
       "    <tr>\n",
       "      <th>3</th>\n",
       "      <td>The Book Thief</td>\n",
       "      <td>656</td>\n",
       "      <td>4.264151</td>\n",
       "      <td>6</td>\n",
       "    </tr>\n",
       "    <tr>\n",
       "      <th>4</th>\n",
       "      <td>The Glass Castle</td>\n",
       "      <td>734</td>\n",
       "      <td>4.206897</td>\n",
       "      <td>6</td>\n",
       "    </tr>\n",
       "    <tr>\n",
       "      <th>...</th>\n",
       "      <td>...</td>\n",
       "      <td>...</td>\n",
       "      <td>...</td>\n",
       "      <td>...</td>\n",
       "    </tr>\n",
       "    <tr>\n",
       "      <th>995</th>\n",
       "      <td>Disney's Beauty and the Beast (A Little Golden...</td>\n",
       "      <td>191</td>\n",
       "      <td>4.000000</td>\n",
       "      <td>0</td>\n",
       "    </tr>\n",
       "    <tr>\n",
       "      <th>996</th>\n",
       "      <td>Leonardo's Notebooks</td>\n",
       "      <td>387</td>\n",
       "      <td>4.000000</td>\n",
       "      <td>0</td>\n",
       "    </tr>\n",
       "    <tr>\n",
       "      <th>997</th>\n",
       "      <td>Essential Tales and Poems</td>\n",
       "      <td>221</td>\n",
       "      <td>4.000000</td>\n",
       "      <td>0</td>\n",
       "    </tr>\n",
       "    <tr>\n",
       "      <th>998</th>\n",
       "      <td>Anne Rice's The Vampire Lestat: A Graphic Novel</td>\n",
       "      <td>83</td>\n",
       "      <td>3.666667</td>\n",
       "      <td>0</td>\n",
       "    </tr>\n",
       "    <tr>\n",
       "      <th>999</th>\n",
       "      <td>The Natural Way to Draw</td>\n",
       "      <td>808</td>\n",
       "      <td>3.000000</td>\n",
       "      <td>0</td>\n",
       "    </tr>\n",
       "  </tbody>\n",
       "</table>\n",
       "<p>1000 rows × 4 columns</p>\n",
       "</div>"
      ],
      "text/plain": [
       "                                                 title  book_id  avg_rating  \\\n",
       "0                              Twilight (Twilight  #1)      948    3.662500   \n",
       "1    Harry Potter and the Prisoner of Azkaban (Harr...      302    4.414634   \n",
       "2    Harry Potter and the Chamber of Secrets (Harry...      299    4.287500   \n",
       "3                                       The Book Thief      656    4.264151   \n",
       "4                                     The Glass Castle      734    4.206897   \n",
       "..                                                 ...      ...         ...   \n",
       "995  Disney's Beauty and the Beast (A Little Golden...      191    4.000000   \n",
       "996                               Leonardo's Notebooks      387    4.000000   \n",
       "997                          Essential Tales and Poems      221    4.000000   \n",
       "998    Anne Rice's The Vampire Lestat: A Graphic Novel       83    3.666667   \n",
       "999                            The Natural Way to Draw      808    3.000000   \n",
       "\n",
       "     reviews_cnt  \n",
       "0              7  \n",
       "1              6  \n",
       "2              6  \n",
       "3              6  \n",
       "4              6  \n",
       "..           ...  \n",
       "995            0  \n",
       "996            0  \n",
       "997            0  \n",
       "998            0  \n",
       "999            0  \n",
       "\n",
       "[1000 rows x 4 columns]"
      ]
     },
     "execution_count": 9,
     "metadata": {},
     "output_type": "execute_result"
    }
   ],
   "source": [
    "ratings_reviews = '''\n",
    "SELECT books.title AS title,\n",
    "       books.book_id AS book_id,\n",
    "       AVG(ratings.rating) AS avg_rating,\n",
    "       COUNT(DISTINCT reviews.text) AS reviews_cnt\n",
    "FROM books\n",
    "FULL OUTER JOIN reviews ON reviews.book_id = books.book_id\n",
    "FULL OUTER JOIN ratings ON ratings.book_id = books.book_id\n",
    "GROUP BY books.title,\n",
    "         books.book_id\n",
    "ORDER BY reviews_cnt DESC, avg_rating DESC     \n",
    "\n",
    "'''\n",
    "table(ratings_reviews)"
   ]
  },
  {
   "cell_type": "markdown",
   "metadata": {},
   "source": [
    "На первом месте по количеству обзоров **Twilight (Twilight #1)**, хотя рейтинг не самый высокий."
   ]
  },
  {
   "cell_type": "markdown",
   "metadata": {},
   "source": [
    "<div class=\"alert alert-block alert-danger\">\n",
    "<b> ❌ Комментарий ревьюера:</b> Ты посчитала всё верно, но книги без ревью и рейтинга тоже должны попадать в датасет, а сейчас у тебя они отсекаются.\n",
    "</div>\n",
    "\n",
    "<div class=\"alert alert-info\"><b>Комментарий студента:</b> Скорректировала.</div>"
   ]
  },
  {
   "cell_type": "markdown",
   "metadata": {},
   "source": [
    "<div class=\"alert alert-block alert-success\">\n",
    "<b>✔️ Комментарий ревьюера 2:</b> Хорошо\n",
    "</div>"
   ]
  },
  {
   "cell_type": "markdown",
   "metadata": {},
   "source": [
    "## **Задание 3: Определите издательство, которое выпустило наибольшее число книг толще 50 страниц — так вы исключите из анализа брошюры**"
   ]
  },
  {
   "cell_type": "code",
   "execution_count": 10,
   "metadata": {},
   "outputs": [
    {
     "data": {
      "text/html": [
       "<div>\n",
       "<style scoped>\n",
       "    .dataframe tbody tr th:only-of-type {\n",
       "        vertical-align: middle;\n",
       "    }\n",
       "\n",
       "    .dataframe tbody tr th {\n",
       "        vertical-align: top;\n",
       "    }\n",
       "\n",
       "    .dataframe thead th {\n",
       "        text-align: right;\n",
       "    }\n",
       "</style>\n",
       "<table border=\"1\" class=\"dataframe\">\n",
       "  <thead>\n",
       "    <tr style=\"text-align: right;\">\n",
       "      <th></th>\n",
       "      <th>name_publisher</th>\n",
       "      <th>cnt__books</th>\n",
       "    </tr>\n",
       "  </thead>\n",
       "  <tbody>\n",
       "    <tr>\n",
       "      <th>0</th>\n",
       "      <td>Penguin Books</td>\n",
       "      <td>42</td>\n",
       "    </tr>\n",
       "  </tbody>\n",
       "</table>\n",
       "</div>"
      ],
      "text/plain": [
       "  name_publisher  cnt__books\n",
       "0  Penguin Books          42"
      ]
     },
     "execution_count": 10,
     "metadata": {},
     "output_type": "execute_result"
    }
   ],
   "source": [
    "publisher50 = '''\n",
    "SELECT publishers.publisher AS name_publisher,\n",
    "       COUNT(books.book_id) AS cnt__books\n",
    "FROM publishers\n",
    "INNER JOIN books ON books.publisher_id = publishers.publisher_id\n",
    "WHERE books.num_pages > 50\n",
    "GROUP BY name_publisher\n",
    "ORDER BY cnt__books DESC\n",
    "LIMIT 1\n",
    "'''\n",
    "table(publisher50)"
   ]
  },
  {
   "cell_type": "markdown",
   "metadata": {},
   "source": [
    "Наибольшее количество книг более 50 страниц выпустило издательство **Penguin Books** - 42 книги."
   ]
  },
  {
   "cell_type": "markdown",
   "metadata": {},
   "source": [
    "<div class=\"alert alert-block alert-success\">\n",
    "<b>✔️ Комментарий ревьюера:</b> Отлично, у тебя получилось отфильровать данные по условиям\n",
    "</div>"
   ]
  },
  {
   "cell_type": "markdown",
   "metadata": {},
   "source": [
    "## Задание 4: Определите автора с самой высокой средней оценкой книг — учитывайте только книги с 50 и более оценками;"
   ]
  },
  {
   "cell_type": "code",
   "execution_count": 11,
   "metadata": {},
   "outputs": [
    {
     "data": {
      "text/html": [
       "<div>\n",
       "<style scoped>\n",
       "    .dataframe tbody tr th:only-of-type {\n",
       "        vertical-align: middle;\n",
       "    }\n",
       "\n",
       "    .dataframe tbody tr th {\n",
       "        vertical-align: top;\n",
       "    }\n",
       "\n",
       "    .dataframe thead th {\n",
       "        text-align: right;\n",
       "    }\n",
       "</style>\n",
       "<table border=\"1\" class=\"dataframe\">\n",
       "  <thead>\n",
       "    <tr style=\"text-align: right;\">\n",
       "      <th></th>\n",
       "      <th>author</th>\n",
       "      <th>avg_rating</th>\n",
       "    </tr>\n",
       "  </thead>\n",
       "  <tbody>\n",
       "    <tr>\n",
       "      <th>0</th>\n",
       "      <td>J.K. Rowling/Mary GrandPré</td>\n",
       "      <td>4.283844</td>\n",
       "    </tr>\n",
       "  </tbody>\n",
       "</table>\n",
       "</div>"
      ],
      "text/plain": [
       "                       author  avg_rating\n",
       "0  J.K. Rowling/Mary GrandPré    4.283844"
      ]
     },
     "execution_count": 11,
     "metadata": {},
     "output_type": "execute_result"
    }
   ],
   "source": [
    "author_high_rating = '''\n",
    "\n",
    "WITH a AS\n",
    "  (SELECT authors.author AS author,\n",
    "          books.book_id AS id,\n",
    "          AVG(ratings.rating) AS avg_rating,\n",
    "          COUNT(ratings.rating) AS cnt_rating\n",
    "FROM authors\n",
    "INNER JOIN books ON books.author_id = authors.author_id\n",
    "INNER JOIN ratings ON ratings.book_id = books.book_id\n",
    "GROUP BY author,\n",
    "         id\n",
    "HAVING COUNT(ratings.rating) >= 50)\n",
    "\n",
    "SELECT a.author AS author,\n",
    "       AVG(a.avg_rating) AS avg_rating\n",
    "FROM a\n",
    "GROUP BY author\n",
    "ORDER BY avg_rating DESC\n",
    "LIMIT 1    \n",
    "'''\n",
    "table(author_high_rating)"
   ]
  },
  {
   "cell_type": "markdown",
   "metadata": {},
   "source": [
    "Автор с самой высокой средней оценкой книг (50 оценок и более) - **J.K. Rowling/Mary GrandPré**."
   ]
  },
  {
   "cell_type": "markdown",
   "metadata": {},
   "source": [
    "<div class=\"alert alert-block alert-success\">\n",
    "<b>✔️ Комментарий ревьюера:</b> Верное решение! "
   ]
  },
  {
   "cell_type": "markdown",
   "metadata": {},
   "source": [
    "## Задание 5 Посчитайте среднее количество обзоров от пользователей, которые поставили больше 48 оценок."
   ]
  },
  {
   "cell_type": "code",
   "execution_count": 12,
   "metadata": {},
   "outputs": [
    {
     "data": {
      "text/html": [
       "<div>\n",
       "<style scoped>\n",
       "    .dataframe tbody tr th:only-of-type {\n",
       "        vertical-align: middle;\n",
       "    }\n",
       "\n",
       "    .dataframe tbody tr th {\n",
       "        vertical-align: top;\n",
       "    }\n",
       "\n",
       "    .dataframe thead th {\n",
       "        text-align: right;\n",
       "    }\n",
       "</style>\n",
       "<table border=\"1\" class=\"dataframe\">\n",
       "  <thead>\n",
       "    <tr style=\"text-align: right;\">\n",
       "      <th></th>\n",
       "      <th>round</th>\n",
       "    </tr>\n",
       "  </thead>\n",
       "  <tbody>\n",
       "    <tr>\n",
       "      <th>0</th>\n",
       "      <td>24.0</td>\n",
       "    </tr>\n",
       "  </tbody>\n",
       "</table>\n",
       "</div>"
      ],
      "text/plain": [
       "   round\n",
       "0   24.0"
      ]
     },
     "execution_count": 12,
     "metadata": {},
     "output_type": "execute_result"
    }
   ],
   "source": [
    "avg_reviews = '''\n",
    "\n",
    "WITH a AS\n",
    "  (SELECT username,\n",
    "          COUNT(rating_id) as cnt\n",
    "   FROM ratings\n",
    "   GROUP BY username), \n",
    "        \n",
    "b AS \n",
    "  (SELECT COUNT(text)\n",
    "   FROM reviews\n",
    "   FULL OUTER JOIN a ON a.username = reviews.username\n",
    "   WHERE cnt > 48\n",
    "   GROUP BY reviews.username)        \n",
    "\n",
    "\n",
    "SELECT ROUND(avg(count)) \n",
    "FROM b                                 \n",
    "'''\n",
    "table(avg_reviews)"
   ]
  },
  {
   "cell_type": "markdown",
   "metadata": {},
   "source": [
    "Cреднее количество обзоров от пользователей, которые поставили больше 48 оценок - 24 шт."
   ]
  },
  {
   "cell_type": "markdown",
   "metadata": {},
   "source": [
    "<div class=\"alert alert-block alert-success\">\n",
    "<b>✔️ Комментарий ревьюера:</b> Здорово, что ты умеешь писать временные таблицы и используешь округление :)\n",
    "</div>"
   ]
  },
  {
   "cell_type": "markdown",
   "metadata": {},
   "source": [
    "Общий вывод:\n",
    "- после 1 января 2000 года вышло **819 книг**;\n",
    "- в таблице **ratings_reviews** посчитан для каждой книги количество обзоров и средняя оценка: например, лидер по кол-ву обзоров Twilight  (Twilight #1). Согласно составленому рейтингу рекомендуется добавление популярных книг в приложение;\n",
    "- издательство, которое выпустило наибольшее число книг толще 50 страниц - **Penguin Books**;\n",
    "- автор с самой высокой средней оценкой книг(50 и более оценок) - **J.K. Rowling/Mary GrandPré**. Включение авторов с высокой средней оценкой книг также привлечет больше пользователей;\n",
    "- среднее количество обзоров от пользователей, которые поставили больше 48 оценок - **24**.\n",
    "       "
   ]
  },
  {
   "cell_type": "markdown",
   "metadata": {},
   "source": [
    "<div class=\"alert alert-block alert-success\">\n",
    "<b>✔️ Комментарий ревьюера:</b> В выводах отражены все необходимые результаты\n",
    "</div>"
   ]
  },
  {
   "cell_type": "markdown",
   "metadata": {},
   "source": [
    "<div class=\"alert alert-info\"><b>Комментарий студента:</b> Спасибо за ревью!</div>"
   ]
  },
  {
   "cell_type": "code",
   "execution_count": null,
   "metadata": {},
   "outputs": [],
   "source": []
  }
 ],
 "metadata": {
  "ExecuteTimeLog": [
   {
    "duration": 11895,
    "start_time": "2023-06-27T08:52:19.349Z"
   },
   {
    "duration": 97,
    "start_time": "2023-06-27T08:58:45.597Z"
   },
   {
    "duration": 67,
    "start_time": "2023-06-27T09:00:11.650Z"
   },
   {
    "duration": 48,
    "start_time": "2023-06-27T09:02:06.811Z"
   },
   {
    "duration": 3,
    "start_time": "2023-06-27T09:02:06.861Z"
   },
   {
    "duration": 75,
    "start_time": "2023-06-27T09:02:06.865Z"
   },
   {
    "duration": 11,
    "start_time": "2023-06-27T09:02:06.941Z"
   },
   {
    "duration": 117,
    "start_time": "2023-06-27T09:06:58.251Z"
   },
   {
    "duration": 5,
    "start_time": "2023-06-27T09:08:23.103Z"
   },
   {
    "duration": 17,
    "start_time": "2023-06-27T09:08:23.110Z"
   },
   {
    "duration": 105,
    "start_time": "2023-06-27T09:08:23.129Z"
   },
   {
    "duration": 37,
    "start_time": "2023-06-27T09:08:23.237Z"
   },
   {
    "duration": 25,
    "start_time": "2023-06-27T09:09:51.308Z"
   },
   {
    "duration": 8862,
    "start_time": "2023-06-27T09:13:59.347Z"
   },
   {
    "duration": 3,
    "start_time": "2023-06-27T09:14:08.211Z"
   },
   {
    "duration": 81,
    "start_time": "2023-06-27T09:14:08.215Z"
   },
   {
    "duration": 10058,
    "start_time": "2023-06-27T09:14:27.099Z"
   },
   {
    "duration": 17,
    "start_time": "2023-06-27T09:14:37.159Z"
   },
   {
    "duration": 16,
    "start_time": "2023-06-27T09:14:37.177Z"
   },
   {
    "duration": 44,
    "start_time": "2023-06-27T09:14:37.195Z"
   },
   {
    "duration": 12371,
    "start_time": "2023-06-27T09:14:58.366Z"
   },
   {
    "duration": 3,
    "start_time": "2023-06-27T09:15:10.739Z"
   },
   {
    "duration": 8,
    "start_time": "2023-06-27T09:15:10.743Z"
   },
   {
    "duration": 58,
    "start_time": "2023-06-27T09:15:10.753Z"
   },
   {
    "duration": 3,
    "start_time": "2023-06-27T09:17:51.900Z"
   },
   {
    "duration": 2,
    "start_time": "2023-06-27T09:17:54.330Z"
   },
   {
    "duration": 20,
    "start_time": "2023-06-27T09:17:56.372Z"
   },
   {
    "duration": 22,
    "start_time": "2023-06-27T09:18:08.017Z"
   },
   {
    "duration": 16,
    "start_time": "2023-06-27T09:18:59.538Z"
   },
   {
    "duration": 16,
    "start_time": "2023-06-27T09:19:18.302Z"
   },
   {
    "duration": 26,
    "start_time": "2023-06-27T09:19:36.603Z"
   },
   {
    "duration": 48,
    "start_time": "2023-06-27T09:19:53.498Z"
   },
   {
    "duration": 68,
    "start_time": "2023-06-27T09:22:19.903Z"
   },
   {
    "duration": 14,
    "start_time": "2023-06-27T09:22:32.568Z"
   },
   {
    "duration": 12,
    "start_time": "2023-06-27T09:22:45.128Z"
   },
   {
    "duration": 10,
    "start_time": "2023-06-27T09:27:12.317Z"
   },
   {
    "duration": 31,
    "start_time": "2023-06-27T09:27:23.823Z"
   },
   {
    "duration": 12510,
    "start_time": "2023-06-27T09:49:30.621Z"
   },
   {
    "duration": 3,
    "start_time": "2023-06-27T09:49:43.133Z"
   },
   {
    "duration": 56,
    "start_time": "2023-06-27T09:49:43.137Z"
   },
   {
    "duration": 42,
    "start_time": "2023-06-27T09:49:43.195Z"
   },
   {
    "duration": 13,
    "start_time": "2023-06-27T09:49:43.239Z"
   },
   {
    "duration": 41,
    "start_time": "2023-06-27T09:49:43.253Z"
   },
   {
    "duration": 19,
    "start_time": "2023-06-27T09:49:43.295Z"
   },
   {
    "duration": 9,
    "start_time": "2023-06-27T09:49:43.315Z"
   },
   {
    "duration": 50,
    "start_time": "2023-06-27T09:49:43.325Z"
   },
   {
    "duration": 30,
    "start_time": "2023-06-27T09:52:18.550Z"
   },
   {
    "duration": 32,
    "start_time": "2023-06-27T09:54:20.317Z"
   },
   {
    "duration": 37,
    "start_time": "2023-06-27T09:54:47.834Z"
   },
   {
    "duration": 149,
    "start_time": "2023-06-27T09:56:06.805Z"
   },
   {
    "duration": 97,
    "start_time": "2023-06-27T09:56:20.705Z"
   },
   {
    "duration": 46,
    "start_time": "2023-06-27T09:56:36.554Z"
   },
   {
    "duration": 32,
    "start_time": "2023-06-27T09:58:31.104Z"
   },
   {
    "duration": 38,
    "start_time": "2023-06-27T09:59:02.537Z"
   },
   {
    "duration": 34,
    "start_time": "2023-06-27T09:59:17.250Z"
   },
   {
    "duration": 11,
    "start_time": "2023-06-27T10:03:20.054Z"
   },
   {
    "duration": 17,
    "start_time": "2023-06-27T10:03:30.919Z"
   },
   {
    "duration": 11,
    "start_time": "2023-06-27T10:03:56.198Z"
   },
   {
    "duration": 12,
    "start_time": "2023-06-27T10:04:15.782Z"
   },
   {
    "duration": 14,
    "start_time": "2023-06-27T10:04:58.447Z"
   },
   {
    "duration": 18,
    "start_time": "2023-06-27T10:10:13.407Z"
   },
   {
    "duration": 22,
    "start_time": "2023-06-27T10:10:50.018Z"
   },
   {
    "duration": 99,
    "start_time": "2023-06-27T10:12:52.759Z"
   },
   {
    "duration": 94,
    "start_time": "2023-06-27T10:13:15.827Z"
   },
   {
    "duration": 18,
    "start_time": "2023-06-27T10:13:25.214Z"
   },
   {
    "duration": 115,
    "start_time": "2023-06-27T10:14:56.827Z"
   },
   {
    "duration": 97,
    "start_time": "2023-06-27T10:16:34.421Z"
   },
   {
    "duration": 32,
    "start_time": "2023-06-27T10:16:48.560Z"
   },
   {
    "duration": 101,
    "start_time": "2023-06-27T10:17:27.013Z"
   },
   {
    "duration": 104,
    "start_time": "2023-06-27T10:17:36.830Z"
   },
   {
    "duration": 23,
    "start_time": "2023-06-27T10:17:42.452Z"
   },
   {
    "duration": 17,
    "start_time": "2023-06-27T10:18:20.586Z"
   },
   {
    "duration": 119,
    "start_time": "2023-06-27T10:24:31.937Z"
   },
   {
    "duration": 3,
    "start_time": "2023-06-27T10:26:16.174Z"
   },
   {
    "duration": 3,
    "start_time": "2023-06-27T10:26:16.699Z"
   },
   {
    "duration": 13,
    "start_time": "2023-06-27T10:26:17.219Z"
   },
   {
    "duration": 12,
    "start_time": "2023-06-27T10:26:18.510Z"
   },
   {
    "duration": 15,
    "start_time": "2023-06-27T10:26:19.210Z"
   },
   {
    "duration": 13,
    "start_time": "2023-06-27T10:26:19.715Z"
   },
   {
    "duration": 12,
    "start_time": "2023-06-27T10:26:24.294Z"
   },
   {
    "duration": 110,
    "start_time": "2023-06-27T10:35:44.616Z"
   },
   {
    "duration": 8,
    "start_time": "2023-06-27T10:36:19.912Z"
   },
   {
    "duration": 271,
    "start_time": "2023-06-27T10:36:31.801Z"
   },
   {
    "duration": 101,
    "start_time": "2023-06-27T10:37:28.920Z"
   },
   {
    "duration": 116,
    "start_time": "2023-06-27T10:41:32.867Z"
   },
   {
    "duration": 14,
    "start_time": "2023-06-27T10:43:33.809Z"
   },
   {
    "duration": 73,
    "start_time": "2023-06-27T10:46:41.721Z"
   },
   {
    "duration": 80,
    "start_time": "2023-06-27T10:47:04.022Z"
   },
   {
    "duration": 16,
    "start_time": "2023-06-27T10:50:35.617Z"
   },
   {
    "duration": 9363,
    "start_time": "2023-06-27T10:50:40.827Z"
   },
   {
    "duration": 3,
    "start_time": "2023-06-27T10:50:50.192Z"
   },
   {
    "duration": 14,
    "start_time": "2023-06-27T10:50:50.197Z"
   },
   {
    "duration": 49,
    "start_time": "2023-06-27T10:50:50.213Z"
   },
   {
    "duration": 11,
    "start_time": "2023-06-27T10:50:50.264Z"
   },
   {
    "duration": 12,
    "start_time": "2023-06-27T10:50:50.277Z"
   },
   {
    "duration": 11,
    "start_time": "2023-06-27T10:50:50.291Z"
   },
   {
    "duration": 12,
    "start_time": "2023-06-27T10:50:50.304Z"
   },
   {
    "duration": 47,
    "start_time": "2023-06-27T10:50:50.318Z"
   },
   {
    "duration": 12,
    "start_time": "2023-06-27T10:50:50.368Z"
   },
   {
    "duration": 16,
    "start_time": "2023-06-27T10:50:50.382Z"
   },
   {
    "duration": 19,
    "start_time": "2023-06-27T10:50:50.400Z"
   },
   {
    "duration": 30,
    "start_time": "2023-06-27T10:54:42.024Z"
   },
   {
    "duration": 22548,
    "start_time": "2023-06-27T18:47:22.728Z"
   },
   {
    "duration": 4,
    "start_time": "2023-06-27T18:47:45.278Z"
   },
   {
    "duration": 64,
    "start_time": "2023-06-27T18:47:45.284Z"
   },
   {
    "duration": 208,
    "start_time": "2023-06-27T18:47:45.350Z"
   },
   {
    "duration": 102,
    "start_time": "2023-06-27T18:47:45.560Z"
   },
   {
    "duration": 109,
    "start_time": "2023-06-27T18:47:45.665Z"
   },
   {
    "duration": 100,
    "start_time": "2023-06-27T18:47:45.776Z"
   },
   {
    "duration": 93,
    "start_time": "2023-06-27T18:47:45.878Z"
   },
   {
    "duration": 118,
    "start_time": "2023-06-27T18:47:45.974Z"
   },
   {
    "duration": 100,
    "start_time": "2023-06-27T18:47:46.094Z"
   },
   {
    "duration": 97,
    "start_time": "2023-06-27T18:47:46.196Z"
   },
   {
    "duration": 95,
    "start_time": "2023-06-27T18:47:46.295Z"
   },
   {
    "duration": 56,
    "start_time": "2023-06-27T18:55:24.053Z"
   },
   {
    "duration": 16274,
    "start_time": "2023-06-27T18:55:31.317Z"
   },
   {
    "duration": 3,
    "start_time": "2023-06-27T18:55:47.593Z"
   },
   {
    "duration": 6,
    "start_time": "2023-06-27T18:55:47.598Z"
   },
   {
    "duration": 67,
    "start_time": "2023-06-27T18:55:47.605Z"
   },
   {
    "duration": 11,
    "start_time": "2023-06-27T18:55:47.673Z"
   },
   {
    "duration": 11,
    "start_time": "2023-06-27T18:55:47.685Z"
   },
   {
    "duration": 11,
    "start_time": "2023-06-27T18:55:47.698Z"
   },
   {
    "duration": 12,
    "start_time": "2023-06-27T18:55:47.711Z"
   },
   {
    "duration": 36,
    "start_time": "2023-06-27T18:55:47.724Z"
   },
   {
    "duration": 11,
    "start_time": "2023-06-27T18:55:47.762Z"
   },
   {
    "duration": 32,
    "start_time": "2023-06-27T18:55:47.775Z"
   },
   {
    "duration": 14,
    "start_time": "2023-06-27T18:55:47.809Z"
   },
   {
    "duration": 53,
    "start_time": "2023-06-28T02:42:12.186Z"
   },
   {
    "duration": 8803,
    "start_time": "2023-06-28T02:42:19.150Z"
   },
   {
    "duration": 4,
    "start_time": "2023-06-28T02:42:27.955Z"
   },
   {
    "duration": 124,
    "start_time": "2023-06-28T02:42:27.961Z"
   },
   {
    "duration": 126,
    "start_time": "2023-06-28T02:42:28.088Z"
   },
   {
    "duration": 12,
    "start_time": "2023-06-28T02:42:28.216Z"
   },
   {
    "duration": 13,
    "start_time": "2023-06-28T02:42:28.230Z"
   },
   {
    "duration": 13,
    "start_time": "2023-06-28T02:42:28.245Z"
   },
   {
    "duration": 11,
    "start_time": "2023-06-28T02:42:28.260Z"
   },
   {
    "duration": 46,
    "start_time": "2023-06-28T02:42:28.273Z"
   },
   {
    "duration": 12,
    "start_time": "2023-06-28T02:42:28.322Z"
   },
   {
    "duration": 20,
    "start_time": "2023-06-28T02:42:28.336Z"
   },
   {
    "duration": 23,
    "start_time": "2023-06-28T02:42:28.358Z"
   },
   {
    "duration": 191,
    "start_time": "2023-06-28T02:42:51.994Z"
   },
   {
    "duration": 99,
    "start_time": "2023-06-28T02:42:55.997Z"
   },
   {
    "duration": 131,
    "start_time": "2023-06-28T02:43:29.986Z"
   },
   {
    "duration": 45,
    "start_time": "2023-06-28T02:44:59.741Z"
   },
   {
    "duration": 59,
    "start_time": "2023-06-28T02:45:29.145Z"
   },
   {
    "duration": 37,
    "start_time": "2023-06-28T02:47:02.706Z"
   },
   {
    "duration": 51,
    "start_time": "2023-06-28T02:47:41.476Z"
   },
   {
    "duration": 53,
    "start_time": "2023-06-28T02:49:00.813Z"
   },
   {
    "duration": 3,
    "start_time": "2023-06-28T02:49:49.134Z"
   },
   {
    "duration": 4,
    "start_time": "2023-06-28T02:49:50.385Z"
   },
   {
    "duration": 24,
    "start_time": "2023-06-28T02:49:51.301Z"
   },
   {
    "duration": 3,
    "start_time": "2023-06-28T02:50:10.050Z"
   },
   {
    "duration": 3,
    "start_time": "2023-06-28T02:50:10.802Z"
   },
   {
    "duration": 15,
    "start_time": "2023-06-28T02:50:11.521Z"
   },
   {
    "duration": 70,
    "start_time": "2023-06-28T02:52:19.141Z"
   },
   {
    "duration": 8450,
    "start_time": "2023-06-28T02:52:36.389Z"
   },
   {
    "duration": 4,
    "start_time": "2023-06-28T02:52:44.841Z"
   },
   {
    "duration": 6,
    "start_time": "2023-06-28T02:52:44.847Z"
   },
   {
    "duration": 71,
    "start_time": "2023-06-28T02:52:44.855Z"
   },
   {
    "duration": 12,
    "start_time": "2023-06-28T02:52:44.929Z"
   },
   {
    "duration": 12,
    "start_time": "2023-06-28T02:52:44.943Z"
   },
   {
    "duration": 25,
    "start_time": "2023-06-28T02:52:44.956Z"
   },
   {
    "duration": 11,
    "start_time": "2023-06-28T02:52:44.982Z"
   },
   {
    "duration": 52,
    "start_time": "2023-06-28T02:52:44.994Z"
   },
   {
    "duration": 13,
    "start_time": "2023-06-28T02:52:45.048Z"
   },
   {
    "duration": 41,
    "start_time": "2023-06-28T02:52:45.062Z"
   },
   {
    "duration": 30,
    "start_time": "2023-06-28T02:52:45.105Z"
   },
   {
    "duration": 25107,
    "start_time": "2023-06-28T09:10:35.122Z"
   },
   {
    "duration": 7,
    "start_time": "2023-06-28T09:11:00.238Z"
   },
   {
    "duration": 47,
    "start_time": "2023-06-28T09:11:00.249Z"
   },
   {
    "duration": 335,
    "start_time": "2023-06-28T09:11:00.298Z"
   },
   {
    "duration": 138,
    "start_time": "2023-06-28T09:11:00.635Z"
   },
   {
    "duration": 135,
    "start_time": "2023-06-28T09:11:00.775Z"
   },
   {
    "duration": 156,
    "start_time": "2023-06-28T09:11:00.917Z"
   },
   {
    "duration": 118,
    "start_time": "2023-06-28T09:11:01.076Z"
   },
   {
    "duration": 282,
    "start_time": "2023-06-28T09:11:01.196Z"
   },
   {
    "duration": 149,
    "start_time": "2023-06-28T09:11:01.480Z"
   },
   {
    "duration": 132,
    "start_time": "2023-06-28T09:11:01.637Z"
   },
   {
    "duration": 114,
    "start_time": "2023-06-28T09:11:01.771Z"
   }
  ],
  "kernelspec": {
   "display_name": "Python 3 (ipykernel)",
   "language": "python",
   "name": "python3"
  },
  "language_info": {
   "codemirror_mode": {
    "name": "ipython",
    "version": 3
   },
   "file_extension": ".py",
   "mimetype": "text/x-python",
   "name": "python",
   "nbconvert_exporter": "python",
   "pygments_lexer": "ipython3",
   "version": "3.9.13"
  },
  "toc": {
   "base_numbering": 1,
   "nav_menu": {},
   "number_sections": true,
   "sideBar": true,
   "skip_h1_title": true,
   "title_cell": "Table of Contents",
   "title_sidebar": "Contents",
   "toc_cell": false,
   "toc_position": {},
   "toc_section_display": true,
   "toc_window_display": false
  }
 },
 "nbformat": 4,
 "nbformat_minor": 2
}
