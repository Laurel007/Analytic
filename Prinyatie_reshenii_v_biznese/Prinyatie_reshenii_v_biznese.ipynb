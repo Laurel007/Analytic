{
 "cells": [
  {
   "cell_type": "markdown",
   "metadata": {},
   "source": [
    "<div style=\"border-radius: 15px; border: 3px solid indigo; padding: 15px;\">\n",
    "<b>Привет!</b>\n",
    "\n",
    "Меня зовут Вадим, и я буду проверять твой проект. Предлагаю общение на «ты», но если тебе комфортнее на «Вы», обязательно сообщи мне об этом. \n",
    "\n",
    "Моя основная цель — не указать на совершенные тобою ошибки, а поделиться своим опытом и помочь тебе стать аналитиком данных. Тобой проделана большая работа над проектом, давай сделаем его еще лучше. Ниже ты найдешь мои комментарии. Есть несколько правил:<br>\n",
    "- <b>Пожалуйста, не перемещай, не изменяй и не удаляй комментарии.</b>\n",
    "- У комментариев могут быть приписки <b>V2, V3</b> и т.д., которые соответствуют версии проверки. \n",
    "   \n",
    "В тетрадке ты можешь встретить 3 вида моих комментариев:\n",
    "    \n",
    "<div class=\"alert alert-danger\">\n",
    "    <b>❌ Комментарий ревьюера:</b>\n",
    "    \n",
    "Комментарии такого цвета необходимо исправить, без их отработки проект не будет принят.\n",
    "</div>\n",
    "    \n",
    "    \n",
    "<div class=\"alert alert-warning\">\n",
    "    <b>⚠️ Комментарий ревьюера:</b>\n",
    "    \n",
    "На комментарии такого цвета нужно обязательно обратить внимание. Рекомендую учесть их при редактировании проекта и выполнении будущих заданий.\n",
    "</div>\n",
    "    \n",
    "    \n",
    "<div class=\"alert alert-success\">\n",
    "    <b>✅ Комментарий ревьюера:</b>\n",
    "\n",
    "Так отмечены удачные решения и подходы, на которые стоит опираться в будущих проектах.\n",
    "</div>\n",
    "    \n",
    "Предлагаю работать над проектом в диалоге: если ты хочешь ответить на мои комментарии — пиши об этом. Мне будет легче отследить изменения, если ты выделишь свои комментарии вот так:\n",
    "\n",
    "<div class=\"alert alert-info\">\n",
    "<b> Комментарий студента</b>\n",
    "\n",
    "Тут текст.\n",
    "</div>\n",
    "\n",
    "\n",
    "Всё это поможет выполнить повторную проверку твоего проекта оперативнее.\n",
    "</div>"
   ]
  },
  {
   "cell_type": "markdown",
   "metadata": {},
   "source": [
    "<div class=\"alert alert-info\">\n",
    "<b> Комментарий студента</b>\n",
    "\n",
    "Привет! Ок.\n",
    "</div>"
   ]
  },
  {
   "cell_type": "markdown",
   "metadata": {},
   "source": [
    "# Проект:Принятие решений в бизнесе"
   ]
  },
  {
   "cell_type": "markdown",
   "metadata": {},
   "source": [
    "**Описание проекта**\n",
    "\n",
    "Контекст\n",
    "\n",
    "Вы — аналитик крупного интернет-магазина. Вместе с отделом маркетинга вы подготовили список гипотез для увеличения выручки.\n",
    "Приоритизируйте гипотезы, запустите A/B-тест и проанализируйте результаты. \n",
    "\n",
    "*Данные для первой части*\n",
    "\n",
    "Файл `/datasets/hypothesis.csv.` \n",
    "\n",
    "Скачать датасет\n",
    "- `Hypothesis` — краткое описание гипотезы;\n",
    "- `Reach` — охват пользователей по 10-балльной шкале;\n",
    "- `Impact` — влияние на пользователей по 10-балльной шкале;\n",
    "- `Confidence` — уверенность в гипотезе по 10-балльной шкале;\n",
    "- `Efforts` — затраты ресурсов на проверку гипотезы по 10-балльной шкале. Чем больше значение Efforts, тем дороже проверка гипотезы.\n",
    "\n",
    "*Данные для второй части*\n",
    "\n",
    "Файл `/datasets/orders.csv.` Скачать датасет\n",
    "\n",
    "- `transactionId` — идентификатор заказа;\n",
    "- `visitorId` — идентификатор пользователя, совершившего заказ;\n",
    "- `date` — дата, когда был совершён заказ;\n",
    "- `revenue` — выручка заказа;\n",
    "- `group` — группа A/B-теста, в которую попал заказ.\n",
    "\n",
    "Файл `/datasets/visitors.csv.` Скачать датасет\n",
    "\n",
    "- `date` — дата;\n",
    "- `group` — группа A/B-теста;\n",
    "- `visitors` — количество пользователей в указанную дату в указанной группе A/B-теста"
   ]
  },
  {
   "cell_type": "markdown",
   "metadata": {},
   "source": [
    "<div class=\"alert alert-danger\">\n",
    "    <b>❌ Комментарий ревьюера:</b>\n",
    "   \n",
    "Напиши, пожалуйста, введение по проекту. Иначе не понятно о чем проект, какие у него задачи и выполнены они в итоге или нет.\n",
    "</div>"
   ]
  },
  {
   "cell_type": "markdown",
   "metadata": {},
   "source": [
    "<div class=\"alert alert-info\">\n",
    "<b> Комментарий студента</b>\n",
    "\n",
    "Выполнено.\n",
    "</div>"
   ]
  },
  {
   "cell_type": "markdown",
   "metadata": {},
   "source": [
    "<div class=\"alert alert-success\">\n",
    "    <b>✅ Комментарий ревьюера V2:</b>\n",
    "\n",
    "Принято!\n",
    "</div>"
   ]
  },
  {
   "cell_type": "markdown",
   "metadata": {},
   "source": [
    "## Часть. Приоритизация гипотез."
   ]
  },
  {
   "cell_type": "markdown",
   "metadata": {},
   "source": [
    "В файле `/datasets/hypothesis.csv` 9 гипотез по увеличению выручки интернет-магазина с указанными параметрами `Reach`, `Impact`, `Confidence`, `Effort`.\n",
    "\n",
    "**Задача**\n",
    "\n",
    "- Примените фреймворк ICE для приоритизации гипотез. Отсортируйте их по убыванию приоритета.\n",
    "- Примените фреймворк RICE для приоритизации гипотез. Отсортируйте их по убыванию приоритета.\n",
    "- Укажите, как изменилась приоритизация гипотез при применении RICE вместо ICE.Объясните, почему так произошло."
   ]
  },
  {
   "cell_type": "code",
   "execution_count": 1,
   "metadata": {},
   "outputs": [
    {
     "data": {
      "text/html": [
       "<div>\n",
       "<style scoped>\n",
       "    .dataframe tbody tr th:only-of-type {\n",
       "        vertical-align: middle;\n",
       "    }\n",
       "\n",
       "    .dataframe tbody tr th {\n",
       "        vertical-align: top;\n",
       "    }\n",
       "\n",
       "    .dataframe thead th {\n",
       "        text-align: right;\n",
       "    }\n",
       "</style>\n",
       "<table border=\"1\" class=\"dataframe\">\n",
       "  <thead>\n",
       "    <tr style=\"text-align: right;\">\n",
       "      <th></th>\n",
       "      <th>hypothesis</th>\n",
       "      <th>reach</th>\n",
       "      <th>impact</th>\n",
       "      <th>confidence</th>\n",
       "      <th>efforts</th>\n",
       "    </tr>\n",
       "  </thead>\n",
       "  <tbody>\n",
       "    <tr>\n",
       "      <th>0</th>\n",
       "      <td>Добавить два новых канала привлечения трафика, что позволит привлекать на 30% больше пользователей</td>\n",
       "      <td>3</td>\n",
       "      <td>10</td>\n",
       "      <td>8</td>\n",
       "      <td>6</td>\n",
       "    </tr>\n",
       "    <tr>\n",
       "      <th>1</th>\n",
       "      <td>Запустить собственную службу доставки, что сократит срок доставки заказов</td>\n",
       "      <td>2</td>\n",
       "      <td>5</td>\n",
       "      <td>4</td>\n",
       "      <td>10</td>\n",
       "    </tr>\n",
       "    <tr>\n",
       "      <th>2</th>\n",
       "      <td>Добавить блоки рекомендаций товаров на сайт интернет магазина, чтобы повысить конверсию и средний чек заказа</td>\n",
       "      <td>8</td>\n",
       "      <td>3</td>\n",
       "      <td>7</td>\n",
       "      <td>3</td>\n",
       "    </tr>\n",
       "    <tr>\n",
       "      <th>3</th>\n",
       "      <td>Изменить структура категорий, что увеличит конверсию, т.к. пользователи быстрее найдут нужный товар</td>\n",
       "      <td>8</td>\n",
       "      <td>3</td>\n",
       "      <td>3</td>\n",
       "      <td>8</td>\n",
       "    </tr>\n",
       "    <tr>\n",
       "      <th>4</th>\n",
       "      <td>Изменить цвет фона главной страницы, чтобы увеличить вовлеченность пользователей</td>\n",
       "      <td>3</td>\n",
       "      <td>1</td>\n",
       "      <td>1</td>\n",
       "      <td>1</td>\n",
       "    </tr>\n",
       "    <tr>\n",
       "      <th>5</th>\n",
       "      <td>Добавить страницу отзывов клиентов о магазине, что позволит увеличить количество заказов</td>\n",
       "      <td>3</td>\n",
       "      <td>2</td>\n",
       "      <td>2</td>\n",
       "      <td>3</td>\n",
       "    </tr>\n",
       "    <tr>\n",
       "      <th>6</th>\n",
       "      <td>Показать на главной странице баннеры с актуальными акциями и распродажами, чтобы увеличить конверсию</td>\n",
       "      <td>5</td>\n",
       "      <td>3</td>\n",
       "      <td>8</td>\n",
       "      <td>3</td>\n",
       "    </tr>\n",
       "    <tr>\n",
       "      <th>7</th>\n",
       "      <td>Добавить форму подписки на все основные страницы, чтобы собрать базу клиентов для email-рассылок</td>\n",
       "      <td>10</td>\n",
       "      <td>7</td>\n",
       "      <td>8</td>\n",
       "      <td>5</td>\n",
       "    </tr>\n",
       "    <tr>\n",
       "      <th>8</th>\n",
       "      <td>Запустить акцию, дающую скидку на товар в день рождения</td>\n",
       "      <td>1</td>\n",
       "      <td>9</td>\n",
       "      <td>9</td>\n",
       "      <td>5</td>\n",
       "    </tr>\n",
       "  </tbody>\n",
       "</table>\n",
       "</div>"
      ],
      "text/plain": [
       "                                                                                                     hypothesis  \\\n",
       "0            Добавить два новых канала привлечения трафика, что позволит привлекать на 30% больше пользователей   \n",
       "1                                     Запустить собственную службу доставки, что сократит срок доставки заказов   \n",
       "2  Добавить блоки рекомендаций товаров на сайт интернет магазина, чтобы повысить конверсию и средний чек заказа   \n",
       "3           Изменить структура категорий, что увеличит конверсию, т.к. пользователи быстрее найдут нужный товар   \n",
       "4                              Изменить цвет фона главной страницы, чтобы увеличить вовлеченность пользователей   \n",
       "5                      Добавить страницу отзывов клиентов о магазине, что позволит увеличить количество заказов   \n",
       "6          Показать на главной странице баннеры с актуальными акциями и распродажами, чтобы увеличить конверсию   \n",
       "7              Добавить форму подписки на все основные страницы, чтобы собрать базу клиентов для email-рассылок   \n",
       "8                                                       Запустить акцию, дающую скидку на товар в день рождения   \n",
       "\n",
       "   reach  impact  confidence  efforts  \n",
       "0      3      10           8        6  \n",
       "1      2       5           4       10  \n",
       "2      8       3           7        3  \n",
       "3      8       3           3        8  \n",
       "4      3       1           1        1  \n",
       "5      3       2           2        3  \n",
       "6      5       3           8        3  \n",
       "7     10       7           8        5  \n",
       "8      1       9           9        5  "
      ]
     },
     "execution_count": 1,
     "metadata": {},
     "output_type": "execute_result"
    }
   ],
   "source": [
    "import pandas as pd\n",
    "pd.set_option('display.max_colwidth', None)#снятие ограничений на ширину столбцов\n",
    "\n",
    "try:\n",
    "    data = pd.read_csv('/datasets/hypothesis.csv')\n",
    "except:\n",
    "    data = pd.read_csv('hypothesis.csv')\n",
    "    \n",
    "data.columns = data.columns.str.lower()\n",
    "data"
   ]
  },
  {
   "cell_type": "markdown",
   "metadata": {},
   "source": [
    "<div class=\"alert alert-success\">\n",
    "    <b>✅ Комментарий ревьюера:</b>\n",
    "\n",
    "Молодец что настраиваешь вывод таблицы полностью!\n",
    "</div>"
   ]
  },
  {
   "cell_type": "markdown",
   "metadata": {},
   "source": [
    "### Задача: примените фреймворк ICE для приоритизации гипотез. Отсортируйте их по убыванию приоритета."
   ]
  },
  {
   "cell_type": "code",
   "execution_count": 2,
   "metadata": {},
   "outputs": [
    {
     "data": {
      "text/html": [
       "<div>\n",
       "<style scoped>\n",
       "    .dataframe tbody tr th:only-of-type {\n",
       "        vertical-align: middle;\n",
       "    }\n",
       "\n",
       "    .dataframe tbody tr th {\n",
       "        vertical-align: top;\n",
       "    }\n",
       "\n",
       "    .dataframe thead th {\n",
       "        text-align: right;\n",
       "    }\n",
       "</style>\n",
       "<table border=\"1\" class=\"dataframe\">\n",
       "  <thead>\n",
       "    <tr style=\"text-align: right;\">\n",
       "      <th></th>\n",
       "      <th>hypothesis</th>\n",
       "      <th>ICE</th>\n",
       "    </tr>\n",
       "  </thead>\n",
       "  <tbody>\n",
       "    <tr>\n",
       "      <th>8</th>\n",
       "      <td>Запустить акцию, дающую скидку на товар в день рождения</td>\n",
       "      <td>16.2</td>\n",
       "    </tr>\n",
       "    <tr>\n",
       "      <th>0</th>\n",
       "      <td>Добавить два новых канала привлечения трафика, что позволит привлекать на 30% больше пользователей</td>\n",
       "      <td>13.3</td>\n",
       "    </tr>\n",
       "    <tr>\n",
       "      <th>7</th>\n",
       "      <td>Добавить форму подписки на все основные страницы, чтобы собрать базу клиентов для email-рассылок</td>\n",
       "      <td>11.2</td>\n",
       "    </tr>\n",
       "    <tr>\n",
       "      <th>6</th>\n",
       "      <td>Показать на главной странице баннеры с актуальными акциями и распродажами, чтобы увеличить конверсию</td>\n",
       "      <td>8.0</td>\n",
       "    </tr>\n",
       "    <tr>\n",
       "      <th>2</th>\n",
       "      <td>Добавить блоки рекомендаций товаров на сайт интернет магазина, чтобы повысить конверсию и средний чек заказа</td>\n",
       "      <td>7.0</td>\n",
       "    </tr>\n",
       "    <tr>\n",
       "      <th>1</th>\n",
       "      <td>Запустить собственную службу доставки, что сократит срок доставки заказов</td>\n",
       "      <td>2.0</td>\n",
       "    </tr>\n",
       "    <tr>\n",
       "      <th>5</th>\n",
       "      <td>Добавить страницу отзывов клиентов о магазине, что позволит увеличить количество заказов</td>\n",
       "      <td>1.3</td>\n",
       "    </tr>\n",
       "    <tr>\n",
       "      <th>3</th>\n",
       "      <td>Изменить структура категорий, что увеличит конверсию, т.к. пользователи быстрее найдут нужный товар</td>\n",
       "      <td>1.1</td>\n",
       "    </tr>\n",
       "    <tr>\n",
       "      <th>4</th>\n",
       "      <td>Изменить цвет фона главной страницы, чтобы увеличить вовлеченность пользователей</td>\n",
       "      <td>1.0</td>\n",
       "    </tr>\n",
       "  </tbody>\n",
       "</table>\n",
       "</div>"
      ],
      "text/plain": [
       "                                                                                                     hypothesis  \\\n",
       "8                                                       Запустить акцию, дающую скидку на товар в день рождения   \n",
       "0            Добавить два новых канала привлечения трафика, что позволит привлекать на 30% больше пользователей   \n",
       "7              Добавить форму подписки на все основные страницы, чтобы собрать базу клиентов для email-рассылок   \n",
       "6          Показать на главной странице баннеры с актуальными акциями и распродажами, чтобы увеличить конверсию   \n",
       "2  Добавить блоки рекомендаций товаров на сайт интернет магазина, чтобы повысить конверсию и средний чек заказа   \n",
       "1                                     Запустить собственную службу доставки, что сократит срок доставки заказов   \n",
       "5                      Добавить страницу отзывов клиентов о магазине, что позволит увеличить количество заказов   \n",
       "3           Изменить структура категорий, что увеличит конверсию, т.к. пользователи быстрее найдут нужный товар   \n",
       "4                              Изменить цвет фона главной страницы, чтобы увеличить вовлеченность пользователей   \n",
       "\n",
       "    ICE  \n",
       "8  16.2  \n",
       "0  13.3  \n",
       "7  11.2  \n",
       "6   8.0  \n",
       "2   7.0  \n",
       "1   2.0  \n",
       "5   1.3  \n",
       "3   1.1  \n",
       "4   1.0  "
      ]
     },
     "metadata": {},
     "output_type": "display_data"
    }
   ],
   "source": [
    "data ['ICE'] = round((data ['impact'] * data ['confidence'])/data ['efforts'],1)\n",
    "\n",
    "display(data.loc[:,['hypothesis','ICE']].sort_values(by='ICE', ascending=False))"
   ]
  },
  {
   "cell_type": "markdown",
   "metadata": {},
   "source": [
    "<div class=\"alert alert-success\">\n",
    "    <b>✅ Комментарий ревьюера:</b>\n",
    "\n",
    "Расчеты корректны!\n",
    "</div>"
   ]
  },
  {
   "cell_type": "markdown",
   "metadata": {},
   "source": [
    "<div class=\"alert alert-warning\">\n",
    "    <b>⚠️ Комментарий ревьюера:</b>\n",
    "    \n",
    "Рекомендую округлить результаты ICE до 1 символа после запятой.\n",
    "</div>"
   ]
  },
  {
   "cell_type": "markdown",
   "metadata": {},
   "source": [
    "<div class=\"alert alert-info\">\n",
    "<b> Комментарий студента</b>\n",
    "\n",
    "Выполнено.\n",
    "</div>"
   ]
  },
  {
   "cell_type": "markdown",
   "metadata": {},
   "source": [
    "### Задача: примените фреймворк RICE для приоритизации гипотез. Отсортируйте их по убыванию приоритета."
   ]
  },
  {
   "cell_type": "code",
   "execution_count": 3,
   "metadata": {},
   "outputs": [
    {
     "data": {
      "text/html": [
       "<div>\n",
       "<style scoped>\n",
       "    .dataframe tbody tr th:only-of-type {\n",
       "        vertical-align: middle;\n",
       "    }\n",
       "\n",
       "    .dataframe tbody tr th {\n",
       "        vertical-align: top;\n",
       "    }\n",
       "\n",
       "    .dataframe thead th {\n",
       "        text-align: right;\n",
       "    }\n",
       "</style>\n",
       "<table border=\"1\" class=\"dataframe\">\n",
       "  <thead>\n",
       "    <tr style=\"text-align: right;\">\n",
       "      <th></th>\n",
       "      <th>hypothesis</th>\n",
       "      <th>RICE</th>\n",
       "    </tr>\n",
       "  </thead>\n",
       "  <tbody>\n",
       "    <tr>\n",
       "      <th>7</th>\n",
       "      <td>Добавить форму подписки на все основные страницы, чтобы собрать базу клиентов для email-рассылок</td>\n",
       "      <td>112.0</td>\n",
       "    </tr>\n",
       "    <tr>\n",
       "      <th>2</th>\n",
       "      <td>Добавить блоки рекомендаций товаров на сайт интернет магазина, чтобы повысить конверсию и средний чек заказа</td>\n",
       "      <td>56.0</td>\n",
       "    </tr>\n",
       "    <tr>\n",
       "      <th>0</th>\n",
       "      <td>Добавить два новых канала привлечения трафика, что позволит привлекать на 30% больше пользователей</td>\n",
       "      <td>40.0</td>\n",
       "    </tr>\n",
       "    <tr>\n",
       "      <th>6</th>\n",
       "      <td>Показать на главной странице баннеры с актуальными акциями и распродажами, чтобы увеличить конверсию</td>\n",
       "      <td>40.0</td>\n",
       "    </tr>\n",
       "    <tr>\n",
       "      <th>8</th>\n",
       "      <td>Запустить акцию, дающую скидку на товар в день рождения</td>\n",
       "      <td>16.2</td>\n",
       "    </tr>\n",
       "    <tr>\n",
       "      <th>3</th>\n",
       "      <td>Изменить структура категорий, что увеличит конверсию, т.к. пользователи быстрее найдут нужный товар</td>\n",
       "      <td>9.0</td>\n",
       "    </tr>\n",
       "    <tr>\n",
       "      <th>1</th>\n",
       "      <td>Запустить собственную службу доставки, что сократит срок доставки заказов</td>\n",
       "      <td>4.0</td>\n",
       "    </tr>\n",
       "    <tr>\n",
       "      <th>5</th>\n",
       "      <td>Добавить страницу отзывов клиентов о магазине, что позволит увеличить количество заказов</td>\n",
       "      <td>4.0</td>\n",
       "    </tr>\n",
       "    <tr>\n",
       "      <th>4</th>\n",
       "      <td>Изменить цвет фона главной страницы, чтобы увеличить вовлеченность пользователей</td>\n",
       "      <td>3.0</td>\n",
       "    </tr>\n",
       "  </tbody>\n",
       "</table>\n",
       "</div>"
      ],
      "text/plain": [
       "                                                                                                     hypothesis  \\\n",
       "7              Добавить форму подписки на все основные страницы, чтобы собрать базу клиентов для email-рассылок   \n",
       "2  Добавить блоки рекомендаций товаров на сайт интернет магазина, чтобы повысить конверсию и средний чек заказа   \n",
       "0            Добавить два новых канала привлечения трафика, что позволит привлекать на 30% больше пользователей   \n",
       "6          Показать на главной странице баннеры с актуальными акциями и распродажами, чтобы увеличить конверсию   \n",
       "8                                                       Запустить акцию, дающую скидку на товар в день рождения   \n",
       "3           Изменить структура категорий, что увеличит конверсию, т.к. пользователи быстрее найдут нужный товар   \n",
       "1                                     Запустить собственную службу доставки, что сократит срок доставки заказов   \n",
       "5                      Добавить страницу отзывов клиентов о магазине, что позволит увеличить количество заказов   \n",
       "4                              Изменить цвет фона главной страницы, чтобы увеличить вовлеченность пользователей   \n",
       "\n",
       "    RICE  \n",
       "7  112.0  \n",
       "2   56.0  \n",
       "0   40.0  \n",
       "6   40.0  \n",
       "8   16.2  \n",
       "3    9.0  \n",
       "1    4.0  \n",
       "5    4.0  \n",
       "4    3.0  "
      ]
     },
     "metadata": {},
     "output_type": "display_data"
    }
   ],
   "source": [
    "data ['RICE'] = (data ['reach'] * data ['impact'] * data ['confidence'] )/data ['efforts']\n",
    "\n",
    "display(data.loc[:,['hypothesis','RICE']].sort_values(by='RICE', ascending=False))"
   ]
  },
  {
   "cell_type": "markdown",
   "metadata": {},
   "source": [
    "### Задача: укажите, как изменилась приоритизация гипотез при применении RICE вместо ICE. Объясните, почему так произошло."
   ]
  },
  {
   "cell_type": "markdown",
   "metadata": {},
   "source": [
    "При применении метода приоритезации гипотезы *RICE* учитывается охват аудитории, которых затронет это изменение. Так как гипотеза № 7 имеет больший охват, чем гипотеза № 8, то при использовании метода *RICE* она получила больший приоритет. Если не учитывать скольких пользователей затронет изменение (метод *ICE*), то гипотеза № 8 будет соответсвенно."
   ]
  },
  {
   "cell_type": "markdown",
   "metadata": {},
   "source": [
    "<div class=\"alert alert-success\">\n",
    "    <b>✅ Комментарий ревьюера:</b>\n",
    "\n",
    "Все верно, дело в охвате!\n",
    "</div>"
   ]
  },
  {
   "cell_type": "markdown",
   "metadata": {},
   "source": [
    "## Часть. Анализ A/B-теста"
   ]
  },
  {
   "cell_type": "markdown",
   "metadata": {},
   "source": [
    "Вы провели A/B-тест и получили результаты, которые описаны в файлах /datasets/orders.csv и /datasets/visitors.csv.\n",
    "\n",
    "**Задача**\n",
    "\n",
    "Проанализируйте A/B-тест:\n",
    "- Постройте график кумулятивной выручки по группам. Сделайте выводы и предположения.\n",
    "- Постройте график кумулятивного среднего чека по группам. Сделайте выводы и предположения.\n",
    "- Постройте график относительного изменения кумулятивного среднего чека группы B к группе A. Сделайте выводы и предположения.\n",
    "- Постройте график кумулятивного среднего количества заказов на посетителя по группам. Сделайте выводы и предположения.\n",
    "- Постройте график относительного изменения кумулятивного среднего количества заказов на посетителя группы B к группе A. Сделайте выводы и предположения.\n",
    "- Постройте точечный график количества заказов по пользователям. Сделайте выводы и предположения.\n",
    "- Посчитайте 95-й и 99-й перцентили количества заказов на пользователя. Выберите границу для определения аномальных пользователей.\n",
    "- Постройте точечный график стоимостей заказов. Сделайте выводы и предположения.\n",
    "- Посчитайте 95-й и 99-й перцентили стоимости заказов. Выберите границу для определения аномальных заказов.\n",
    "- Посчитайте статистическую значимость различий в среднем количестве заказов на посетителя между группами по «сырым» данным. Сделайте выводы и предположения.\n",
    "- Посчитайте статистическую значимость различий в среднем чеке заказа между группами по «сырым» данным. Сделайте выводы и предположения.\n",
    "- Посчитайте статистическую значимость различий в среднем количестве заказов на посетителя между группами по «очищенным» данным. Сделайте выводы и предположения.\n",
    "- Посчитайте статистическую значимость различий в среднем чеке заказа между группами по «очищенным» данным. Сделайте выводы и предположения.\n",
    "- Примите решение по результатам теста и объясните его. Варианты решений:\n",
    "1. Остановить тест, зафиксировать победу одной из групп.\n",
    "2. Остановить тест, зафиксировать отсутствие различий между группами.\n",
    "3. Продолжить тест."
   ]
  },
  {
   "cell_type": "code",
   "execution_count": 4,
   "metadata": {},
   "outputs": [],
   "source": [
    "#импорт необходимых библиотек\n",
    "import pandas as pd\n",
    "import datetime as dt\n",
    "import numpy as np\n",
    "import matplotlib.pyplot as plt\n",
    "from pandas.plotting import register_matplotlib_converters\n",
    "import warnings\n",
    "import seaborn as sns\n",
    "import scipy.stats as stats\n",
    "\n",
    "#чтение файлов\n",
    "try:\n",
    "    orders, visitors = (\n",
    "        pd.read_csv('/datasets/orders.csv'),\n",
    "        pd.read_csv('/datasets/visitors.csv')\n",
    "    )\n",
    "    \n",
    "except:\n",
    "    orders, visitors = (\n",
    "        pd.read_csv('orders.csv'),\n",
    "        pd.read_csv('visitors.csv')\n",
    "    )"
   ]
  },
  {
   "cell_type": "markdown",
   "metadata": {},
   "source": [
    "Предобработка файла *orders*"
   ]
  },
  {
   "cell_type": "code",
   "execution_count": 5,
   "metadata": {},
   "outputs": [
    {
     "data": {
      "text/html": [
       "<div>\n",
       "<style scoped>\n",
       "    .dataframe tbody tr th:only-of-type {\n",
       "        vertical-align: middle;\n",
       "    }\n",
       "\n",
       "    .dataframe tbody tr th {\n",
       "        vertical-align: top;\n",
       "    }\n",
       "\n",
       "    .dataframe thead th {\n",
       "        text-align: right;\n",
       "    }\n",
       "</style>\n",
       "<table border=\"1\" class=\"dataframe\">\n",
       "  <thead>\n",
       "    <tr style=\"text-align: right;\">\n",
       "      <th></th>\n",
       "      <th>transactionId</th>\n",
       "      <th>visitorId</th>\n",
       "      <th>date</th>\n",
       "      <th>revenue</th>\n",
       "      <th>group</th>\n",
       "    </tr>\n",
       "  </thead>\n",
       "  <tbody>\n",
       "    <tr>\n",
       "      <th>0</th>\n",
       "      <td>3667963787</td>\n",
       "      <td>3312258926</td>\n",
       "      <td>2019-08-15</td>\n",
       "      <td>1650</td>\n",
       "      <td>B</td>\n",
       "    </tr>\n",
       "    <tr>\n",
       "      <th>1</th>\n",
       "      <td>2804400009</td>\n",
       "      <td>3642806036</td>\n",
       "      <td>2019-08-15</td>\n",
       "      <td>730</td>\n",
       "      <td>B</td>\n",
       "    </tr>\n",
       "    <tr>\n",
       "      <th>2</th>\n",
       "      <td>2961555356</td>\n",
       "      <td>4069496402</td>\n",
       "      <td>2019-08-15</td>\n",
       "      <td>400</td>\n",
       "      <td>A</td>\n",
       "    </tr>\n",
       "    <tr>\n",
       "      <th>3</th>\n",
       "      <td>3797467345</td>\n",
       "      <td>1196621759</td>\n",
       "      <td>2019-08-15</td>\n",
       "      <td>9759</td>\n",
       "      <td>B</td>\n",
       "    </tr>\n",
       "    <tr>\n",
       "      <th>4</th>\n",
       "      <td>2282983706</td>\n",
       "      <td>2322279887</td>\n",
       "      <td>2019-08-15</td>\n",
       "      <td>2308</td>\n",
       "      <td>B</td>\n",
       "    </tr>\n",
       "  </tbody>\n",
       "</table>\n",
       "</div>"
      ],
      "text/plain": [
       "   transactionId   visitorId        date  revenue group\n",
       "0     3667963787  3312258926  2019-08-15     1650     B\n",
       "1     2804400009  3642806036  2019-08-15      730     B\n",
       "2     2961555356  4069496402  2019-08-15      400     A\n",
       "3     3797467345  1196621759  2019-08-15     9759     B\n",
       "4     2282983706  2322279887  2019-08-15     2308     B"
      ]
     },
     "execution_count": 5,
     "metadata": {},
     "output_type": "execute_result"
    }
   ],
   "source": [
    "orders.head(5)"
   ]
  },
  {
   "cell_type": "code",
   "execution_count": 6,
   "metadata": {},
   "outputs": [
    {
     "name": "stdout",
     "output_type": "stream",
     "text": [
      "<class 'pandas.core.frame.DataFrame'>\n",
      "RangeIndex: 1197 entries, 0 to 1196\n",
      "Data columns (total 5 columns):\n",
      " #   Column         Non-Null Count  Dtype \n",
      "---  ------         --------------  ----- \n",
      " 0   transactionId  1197 non-null   int64 \n",
      " 1   visitorId      1197 non-null   int64 \n",
      " 2   date           1197 non-null   object\n",
      " 3   revenue        1197 non-null   int64 \n",
      " 4   group          1197 non-null   object\n",
      "dtypes: int64(3), object(2)\n",
      "memory usage: 46.9+ KB\n"
     ]
    }
   ],
   "source": [
    "orders.info()"
   ]
  },
  {
   "cell_type": "code",
   "execution_count": 7,
   "metadata": {},
   "outputs": [
    {
     "name": "stdout",
     "output_type": "stream",
     "text": [
      "Кол-во дубликатов: 0\n",
      "Кол-во пропусов: transactionId    0\n",
      "visitorId        0\n",
      "date             0\n",
      "revenue          0\n",
      "group            0\n",
      "dtype: int64\n"
     ]
    }
   ],
   "source": [
    "print('Кол-во дубликатов:', orders.duplicated().sum())\n",
    "print('Кол-во пропусов:', orders.isna().sum())"
   ]
  },
  {
   "cell_type": "code",
   "execution_count": 8,
   "metadata": {},
   "outputs": [],
   "source": [
    "orders = orders.rename(columns={'transactionId': 'transaction_Id','visitorId': 'visitor_Id' }) #переименование столбцов\n",
    "orders.columns = orders.columns.str.lower() #все строчные\n",
    "orders['date'] = orders['date'].map(\n",
    "    lambda x: dt.datetime.strptime(x, '%Y-%m-%d')\n",
    ")#изменение типа данных"
   ]
  },
  {
   "cell_type": "markdown",
   "metadata": {},
   "source": [
    "Проверим в таблице имеются ли пользователи, которые попали в 2 группы:"
   ]
  },
  {
   "cell_type": "code",
   "execution_count": 9,
   "metadata": {},
   "outputs": [
    {
     "name": "stdout",
     "output_type": "stream",
     "text": [
      "Количество пользователей в двух группах: 58\n",
      "Всего пользователей в тесте: 1031\n"
     ]
    }
   ],
   "source": [
    "# проверим группы на совпадения пользователей\n",
    "v_a = orders[orders['group'] == 'A']['visitor_id']\n",
    "v_b = orders[orders['group'] == 'B']['visitor_id']\n",
    "orders_ab = orders.query('visitor_id in @v_a and visitor_id in @v_b')\n",
    "print('Количество пользователей в двух группах:', orders_ab['visitor_id'].nunique())\n",
    "print('Всего пользователей в тесте:', orders['visitor_id'].nunique())"
   ]
  },
  {
   "cell_type": "markdown",
   "metadata": {},
   "source": [
    "Такие пользователи есть, но не в большом количестве (6%) и так как удалить их из таблицы visitors мы не можем, поэтому оставим все без изменений."
   ]
  },
  {
   "cell_type": "markdown",
   "metadata": {},
   "source": [
    "<div class=\"alert alert-success\">\n",
    "    <b>✅ Комментарий ревьюера:</b>\n",
    "\n",
    "Абсолютно верный анализ!\n",
    "</div>"
   ]
  },
  {
   "cell_type": "markdown",
   "metadata": {},
   "source": [
    "Предобработка файла *visitors*"
   ]
  },
  {
   "cell_type": "code",
   "execution_count": 10,
   "metadata": {},
   "outputs": [
    {
     "data": {
      "text/html": [
       "<div>\n",
       "<style scoped>\n",
       "    .dataframe tbody tr th:only-of-type {\n",
       "        vertical-align: middle;\n",
       "    }\n",
       "\n",
       "    .dataframe tbody tr th {\n",
       "        vertical-align: top;\n",
       "    }\n",
       "\n",
       "    .dataframe thead th {\n",
       "        text-align: right;\n",
       "    }\n",
       "</style>\n",
       "<table border=\"1\" class=\"dataframe\">\n",
       "  <thead>\n",
       "    <tr style=\"text-align: right;\">\n",
       "      <th></th>\n",
       "      <th>date</th>\n",
       "      <th>group</th>\n",
       "      <th>visitors</th>\n",
       "    </tr>\n",
       "  </thead>\n",
       "  <tbody>\n",
       "    <tr>\n",
       "      <th>0</th>\n",
       "      <td>2019-08-01</td>\n",
       "      <td>A</td>\n",
       "      <td>719</td>\n",
       "    </tr>\n",
       "    <tr>\n",
       "      <th>1</th>\n",
       "      <td>2019-08-02</td>\n",
       "      <td>A</td>\n",
       "      <td>619</td>\n",
       "    </tr>\n",
       "    <tr>\n",
       "      <th>2</th>\n",
       "      <td>2019-08-03</td>\n",
       "      <td>A</td>\n",
       "      <td>507</td>\n",
       "    </tr>\n",
       "    <tr>\n",
       "      <th>3</th>\n",
       "      <td>2019-08-04</td>\n",
       "      <td>A</td>\n",
       "      <td>717</td>\n",
       "    </tr>\n",
       "    <tr>\n",
       "      <th>4</th>\n",
       "      <td>2019-08-05</td>\n",
       "      <td>A</td>\n",
       "      <td>756</td>\n",
       "    </tr>\n",
       "  </tbody>\n",
       "</table>\n",
       "</div>"
      ],
      "text/plain": [
       "         date group  visitors\n",
       "0  2019-08-01     A       719\n",
       "1  2019-08-02     A       619\n",
       "2  2019-08-03     A       507\n",
       "3  2019-08-04     A       717\n",
       "4  2019-08-05     A       756"
      ]
     },
     "execution_count": 10,
     "metadata": {},
     "output_type": "execute_result"
    }
   ],
   "source": [
    "visitors.head(5)"
   ]
  },
  {
   "cell_type": "code",
   "execution_count": 11,
   "metadata": {},
   "outputs": [
    {
     "name": "stdout",
     "output_type": "stream",
     "text": [
      "<class 'pandas.core.frame.DataFrame'>\n",
      "RangeIndex: 62 entries, 0 to 61\n",
      "Data columns (total 3 columns):\n",
      " #   Column    Non-Null Count  Dtype \n",
      "---  ------    --------------  ----- \n",
      " 0   date      62 non-null     object\n",
      " 1   group     62 non-null     object\n",
      " 2   visitors  62 non-null     int64 \n",
      "dtypes: int64(1), object(2)\n",
      "memory usage: 1.6+ KB\n"
     ]
    }
   ],
   "source": [
    "visitors.info()"
   ]
  },
  {
   "cell_type": "code",
   "execution_count": 12,
   "metadata": {},
   "outputs": [
    {
     "name": "stdout",
     "output_type": "stream",
     "text": [
      "Кол-во дубликатов: 0\n",
      "Кол-во пропусов: date        0\n",
      "group       0\n",
      "visitors    0\n",
      "dtype: int64\n"
     ]
    }
   ],
   "source": [
    "print('Кол-во дубликатов:', visitors.duplicated().sum())\n",
    "print('Кол-во пропусов:', visitors.isna().sum())"
   ]
  },
  {
   "cell_type": "code",
   "execution_count": 13,
   "metadata": {},
   "outputs": [],
   "source": [
    "visitors['date'] = visitors['date'].map(\n",
    "    lambda x: dt.datetime.strptime(x, '%Y-%m-%d')\n",
    ")#изменение типа данных"
   ]
  },
  {
   "cell_type": "markdown",
   "metadata": {},
   "source": [
    "<div class=\"alert alert-success\">\n",
    "    <b>✅ Комментарий ревьюера:</b>\n",
    "\n",
    "Предобработка принята! Рекомендую только написать вывод по блоку.\n",
    "</div>"
   ]
  },
  {
   "cell_type": "markdown",
   "metadata": {},
   "source": [
    "Вывод: \n",
    "- в представленных файлах по итогу предобработки пропусков и дубликатов не выявлено,\n",
    "- столбцы date были приведены к соответствующему формату,\n",
    "- названия столбцов были приведены к нижнему регистру.\n",
    "Можно приступать к анализу данных."
   ]
  },
  {
   "cell_type": "markdown",
   "metadata": {},
   "source": [
    "### Постройте график кумулятивной выручки по группам. Сделайте выводы и предположения."
   ]
  },
  {
   "cell_type": "code",
   "execution_count": 14,
   "metadata": {},
   "outputs": [
    {
     "data": {
      "text/plain": [
       "<matplotlib.legend.Legend at 0x7ff0f340c9a0>"
      ]
     },
     "execution_count": 14,
     "metadata": {},
     "output_type": "execute_result"
    },
    {
     "data": {
      "image/png": "[encoded data removed]",
      "text/plain": [
       "<Figure size 648x360 with 1 Axes>"
      ]
     },
     "metadata": {
      "needs_background": "light"
     },
     "output_type": "display_data"
    }
   ],
   "source": [
    "datesGroups = orders[['date','group']].drop_duplicates() \n",
    "\n",
    "ordersAggregated = datesGroups.apply(\n",
    "    lambda x: orders[np.logical_and(\n",
    "        orders['date'] <= x['date'], orders['group'] == x['group'])]\\\n",
    ".agg({'date' : 'max', 'group' : 'max', 'transaction_id' : 'nunique', 'visitor_id' : 'nunique', 'revenue' : 'sum'}), axis=1).sort_values(by=['date','group'])\n",
    "\n",
    "visitorsAggregated = datesGroups.apply(\n",
    "    lambda x: visitors[np.logical_and(\n",
    "        visitors['date'] <= x['date'], visitors['group'] == x['group'])].agg(\n",
    "        {'date' : 'max', 'group' : 'max', 'visitors' : 'sum'}), axis=1).sort_values(by=['date','group'])\n",
    "\n",
    "cumulativeData = ordersAggregated.merge(visitorsAggregated, left_on=['date', 'group'], right_on=['date', 'group'])\n",
    "cumulativeData.columns = ['date', 'group', 'orders', 'buyers', 'revenue', 'visitors']\n",
    "\n",
    "cumulativeData = ordersAggregated.merge(\n",
    "    visitorsAggregated, left_on=['date', 'group'], right_on=['date', 'group']\n",
    ")\n",
    "\n",
    "cumulativeData.columns = [\n",
    "    'date',\n",
    "    'group',\n",
    "    'orders',\n",
    "    'buyers',\n",
    "    'revenue',\n",
    "    'visitors',\n",
    "]\n",
    "\n",
    "#построим график\n",
    "plt.figure(figsize=(9,5))\n",
    "\n",
    "ax=sns.lineplot(x='date', y='revenue', hue='group', data=cumulativeData)\n",
    "\n",
    "plt.title('Кумулятивная выручка по группам')\n",
    "plt.xlabel('Дата')\n",
    "plt.ylabel('Выручка')\n",
    "plt.legend()"
   ]
  },
  {
   "cell_type": "markdown",
   "metadata": {},
   "source": [
    "<div class=\"alert alert-success\">\n",
    "    <b>✅ Комментарий ревьюера:</b>\n",
    "\n",
    "График построен и оформлен корректно!\n",
    "</div>"
   ]
  },
  {
   "cell_type": "markdown",
   "metadata": {},
   "source": [
    "На графике видно, что кумулятивная выручка группы B выше, чем у группы А. В целом выручка группы А растёт линейно, исключение небольшой пик 13 августа. А вот выручка группы В в районе 18-19 августа показала резкий скачок, что может говорить о крупном заказе."
   ]
  },
  {
   "cell_type": "markdown",
   "metadata": {},
   "source": [
    "<div class=\"alert alert-danger\">\n",
    "    <b>❌ Комментарий ревьюера:</b>\n",
    "    \n",
    "Согласен, но в выводе не проанализирован резкий рост группы В 18-19 августа. Дополни, пожалуйста, вывод описанием этого события и сделай предположение что могло стать его причиной.\n",
    "</div>"
   ]
  },
  {
   "cell_type": "markdown",
   "metadata": {},
   "source": [
    "<div class=\"alert alert-info\">\n",
    "<b> Комментарий студента</b>\n",
    "\n",
    "Выполнено.\n",
    "</div>"
   ]
  },
  {
   "cell_type": "markdown",
   "metadata": {},
   "source": [
    "<div class=\"alert alert-success\">\n",
    "    <b>✅ Комментарий ревьюера V2:</b>\n",
    "\n",
    "Принято!\n",
    "</div>"
   ]
  },
  {
   "cell_type": "markdown",
   "metadata": {},
   "source": [
    "### Постройте график кумулятивного среднего чека по группам. Сделайте выводы и предположения."
   ]
  },
  {
   "cell_type": "code",
   "execution_count": 15,
   "metadata": {},
   "outputs": [
    {
     "data": {
      "text/plain": [
       "<matplotlib.legend.Legend at 0x7ff0f2fc6d00>"
      ]
     },
     "execution_count": 15,
     "metadata": {},
     "output_type": "execute_result"
    },
    {
     "data": {
      "image/png": "[encoded data removed]",
      "text/plain": [
       "<Figure size 648x360 with 1 Axes>"
      ]
     },
     "metadata": {
      "needs_background": "light"
     },
     "output_type": "display_data"
    }
   ],
   "source": [
    "# датафрейм с кумулятивным количеством заказов и кумулятивной выручкой по дням в группе А\n",
    "cumulativeRevenueA = cumulativeData[cumulativeData['group']=='A'][['date','revenue', 'orders']]\n",
    "\n",
    "# датафрейм с кумулятивным количеством заказов и кумулятивной выручкой по дням в группе B\n",
    "cumulativeRevenueB = cumulativeData[cumulativeData['group']=='B'][['date','revenue', 'orders']]\n",
    "\n",
    "plt.figure(figsize=(9,5))\n",
    "plt.plot(cumulativeRevenueA['date'], cumulativeRevenueA['revenue']/cumulativeRevenueA['orders'], label='A')\n",
    "plt.plot(cumulativeRevenueB['date'], cumulativeRevenueB['revenue']/cumulativeRevenueB['orders'], label='B')\n",
    "\n",
    "plt.title('Кумулятивный средний чек по группам')\n",
    "plt.xlabel('Дата')\n",
    "plt.ylabel('Средний чек')\n",
    "plt.legend()"
   ]
  },
  {
   "cell_type": "markdown",
   "metadata": {},
   "source": [
    "На графике видно, что средний чек у группы А более менее стабилен в сравнении с В. На графике группы В видны резкие скачки, что говорит о крупных покупках."
   ]
  },
  {
   "cell_type": "markdown",
   "metadata": {},
   "source": [
    "<div class=\"alert alert-success\">\n",
    "    <b>✅ Комментарий ревьюера:</b>\n",
    "\n",
    "Очень уж лаконичный вывод, но все верно.\n",
    "</div>"
   ]
  },
  {
   "cell_type": "markdown",
   "metadata": {},
   "source": [
    "### Постройте график относительного изменения кумулятивного среднего чека группы B к группе A. Сделайте выводы и предположения."
   ]
  },
  {
   "cell_type": "code",
   "execution_count": 16,
   "metadata": {},
   "outputs": [
    {
     "data": {
      "text/plain": [
       "Text(0, 0.5, 'Средний чек')"
      ]
     },
     "execution_count": 16,
     "metadata": {},
     "output_type": "execute_result"
    },
    {
     "data": {
      "image/png": "[encoded data removed]",
      "text/plain": [
       "<Figure size 648x360 with 1 Axes>"
      ]
     },
     "metadata": {
      "needs_background": "light"
     },
     "output_type": "display_data"
    }
   ],
   "source": [
    "# собираем данные в одном датафрейме\n",
    "mergedCumulativeRevenue = cumulativeRevenueA.merge(cumulativeRevenueB, left_on='date', right_on='date', how='left', suffixes=['A', 'B'])\n",
    "\n",
    "plt.figure(figsize=(9,5))\n",
    "# cтроим отношение средних чеков\n",
    "plt.plot(mergedCumulativeRevenue['date'], (mergedCumulativeRevenue['revenueB']/mergedCumulativeRevenue['ordersB'])/(mergedCumulativeRevenue['revenueA']/mergedCumulativeRevenue['ordersA'])-1)\n",
    "\n",
    "# добавляем ось X\n",
    "plt.axhline(y=0, color='black', linestyle='--')\n",
    "plt.title('Относительное изменение среднего чека группы В к А')\n",
    "plt.xlabel('Дата')\n",
    "plt.ylabel('Средний чек')\n"
   ]
  },
  {
   "cell_type": "markdown",
   "metadata": {},
   "source": [
    "График резко скачет в нескольких точках - определённо, имеют место какие-то выбросы и крупные заказы."
   ]
  },
  {
   "cell_type": "markdown",
   "metadata": {},
   "source": [
    "<div class=\"alert alert-success\">\n",
    "    <b>✅ Комментарий ревьюера:</b>\n",
    "\n",
    "Согласен!\n",
    "</div>"
   ]
  },
  {
   "cell_type": "markdown",
   "metadata": {},
   "source": [
    "### Постройте график кумулятивного среднего количества заказов на посетителя по группам. Сделайте выводы и предположения."
   ]
  },
  {
   "cell_type": "code",
   "execution_count": 17,
   "metadata": {},
   "outputs": [
    {
     "data": {
      "text/plain": [
       "<matplotlib.legend.Legend at 0x7ff0f2fd87c0>"
      ]
     },
     "execution_count": 17,
     "metadata": {},
     "output_type": "execute_result"
    },
    {
     "data": {
      "image/png": "[encoded data removed]",
      "text/plain": [
       "<Figure size 648x360 with 1 Axes>"
      ]
     },
     "metadata": {
      "needs_background": "light"
     },
     "output_type": "display_data"
    }
   ],
   "source": [
    "# считаем кумулятивное среднее количество заказов на посетителя\n",
    "cumulativeData['avg_orders'] = cumulativeData['orders']/cumulativeData['visitors']\n",
    "\n",
    "# отделяем данные по группе A\n",
    "cumulativeDataA = cumulativeData[cumulativeData['group']=='A']\n",
    "\n",
    "# отделяем данные по группе B\n",
    "cumulativeDataB = cumulativeData[cumulativeData['group']=='B']\n",
    "\n",
    "plt.figure(figsize=(9,5))\n",
    "# строим графики\n",
    "plt.plot(cumulativeDataA['date'], cumulativeDataA['avg_orders'], label='A')\n",
    "plt.plot(cumulativeDataB['date'], cumulativeDataB['avg_orders'], label='B')\n",
    "plt.title('Распределение кумулятивного среднего количества заказов на посетителя')\n",
    "plt.ylabel('Кум-ное среднее кол-во заказов на посетителя')\n",
    "plt.xlabel('Дата')\n",
    "plt.legend()"
   ]
  },
  {
   "cell_type": "markdown",
   "metadata": {},
   "source": [
    "<div class=\"alert alert-danger\">\n",
    "    <b>❌ Комментарий ревьюера:</b>\n",
    "    \n",
    "Подпиши, пожалуйста, ось У на графике.\n",
    "</div>"
   ]
  },
  {
   "cell_type": "markdown",
   "metadata": {},
   "source": [
    "<div class=\"alert alert-info\">\n",
    "<b> Комментарий студента</b>\n",
    "\n",
    "Выполнено.\n",
    "</div>"
   ]
  },
  {
   "cell_type": "markdown",
   "metadata": {},
   "source": [
    "<div class=\"alert alert-success\">\n",
    "    <b>✅ Комментарий ревьюера V2:</b>\n",
    "\n",
    "Принято!\n",
    "</div>"
   ]
  },
  {
   "cell_type": "markdown",
   "metadata": {},
   "source": [
    "В начале месяца есть колебания на графике и у группы В и у группы А, затем значения выровнялись. У группы B кумулятивное среднее количество заказов выше, чем у группы А."
   ]
  },
  {
   "cell_type": "markdown",
   "metadata": {},
   "source": [
    "<div class=\"alert alert-success\">\n",
    "    <b>✅ Комментарий ревьюера:</b>\n",
    "\n",
    "Вывод принят!\n",
    "</div>"
   ]
  },
  {
   "cell_type": "markdown",
   "metadata": {},
   "source": [
    "### Постройте график относительного изменения кумулятивного среднего количества заказов на посетителя группы B к группе A. Сделайте выводы и предположения."
   ]
  },
  {
   "cell_type": "code",
   "execution_count": 18,
   "metadata": {},
   "outputs": [
    {
     "data": {
      "text/plain": [
       "<matplotlib.lines.Line2D at 0x7ff0e76e82b0>"
      ]
     },
     "execution_count": 18,
     "metadata": {},
     "output_type": "execute_result"
    },
    {
     "data": {
      "image/png": "[encoded data removed]",
      "text/plain": [
       "<Figure size 648x360 with 1 Axes>"
      ]
     },
     "metadata": {
      "needs_background": "light"
     },
     "output_type": "display_data"
    }
   ],
   "source": [
    "mergedCumulativeConversions = cumulativeDataA[['date','avg_orders']]\\\n",
    ".merge(cumulativeDataB[['date','avg_orders']], left_on='date', right_on='date', how='left', suffixes=['A', 'B'])\n",
    "\n",
    "plt.figure(figsize=(9,5))\n",
    "plt.plot(mergedCumulativeConversions['date'], mergedCumulativeConversions['avg_ordersB']/mergedCumulativeConversions['avg_ordersA']-1)\n",
    "plt.title('Относительное изменение кумулятивного среднего количества заказов на посетителя')\n",
    "plt.xlabel('Дата')\n",
    "\n",
    "plt.axhline(y=0, color='black', linestyle='--')\n",
    "plt.axhline(y=0.15, color='grey', linestyle='--')"
   ]
  },
  {
   "cell_type": "markdown",
   "metadata": {},
   "source": [
    "В начале графика группа В проигрывала группе А, что говорит о типичном эффекте \"подглядывания\" (кумулятивная метрика еще не накопила достаточно наблюдений и подвержена колебаниям). Затем произошёл рост среднего количества заказов в группе В. И дальнейшие изменение кумулятивного среднего количества заказов на посетителя происходило более стабильно (в пределах от 10 до 20%)."
   ]
  },
  {
   "cell_type": "markdown",
   "metadata": {},
   "source": [
    "<div class=\"alert alert-danger\">\n",
    "    <b>❌ Комментарий ревьюера:</b>\n",
    "    \n",
    "Не совсем согласен с тобой: колебания в начале графика это типичный эффект \"подглядывания\" (кумулятивная метрика еще не накопила достаточно наблюдений и подвержена колебаниям), но в конце мы видим что график довольно стабилен. Также, если сравнить относительный график количества заказов с относительным графиком среднего чека, где происходят колебания от -20% до +50%, даже начальные колебания здесь не выглядят впечатляюще.\n",
    "</div>"
   ]
  },
  {
   "cell_type": "markdown",
   "metadata": {},
   "source": [
    "<div class=\"alert alert-info\">\n",
    "<b> Комментарий студента</b>\n",
    "\n",
    "Выполнено.\n",
    "</div>"
   ]
  },
  {
   "cell_type": "markdown",
   "metadata": {},
   "source": [
    "<div class=\"alert alert-success\">\n",
    "    <b>✅ Комментарий ревьюера V2:</b>\n",
    "\n",
    "Принято!\n",
    "</div>"
   ]
  },
  {
   "cell_type": "markdown",
   "metadata": {},
   "source": [
    "### Постройте точечный график количества заказов по пользователям. Сделайте выводы и предположения."
   ]
  },
  {
   "cell_type": "code",
   "execution_count": 19,
   "metadata": {},
   "outputs": [
    {
     "name": "stdout",
     "output_type": "stream",
     "text": [
      "      visitor_id  orders\n",
      "1023  4256040402      11\n",
      "591   2458001652      11\n",
      "569   2378935119       9\n",
      "487   2038680547       8\n",
      "44     199603092       5\n",
      "744   3062433592       5\n",
      "55     237748145       5\n",
      "917   3803269165       5\n",
      "299   1230306981       5\n",
      "897   3717692402       5\n"
     ]
    },
    {
     "data": {
      "text/plain": [
       "Text(0, 0.5, 'Количество заказов')"
      ]
     },
     "execution_count": 19,
     "metadata": {},
     "output_type": "execute_result"
    },
    {
     "data": {
      "image/png": "[encoded data removed]",
      "text/plain": [
       "<Figure size 648x360 with 1 Axes>"
      ]
     },
     "metadata": {
      "needs_background": "light"
     },
     "output_type": "display_data"
    }
   ],
   "source": [
    "ordersByUsers = (\n",
    "    orders.groupby('visitor_id', as_index=False)\n",
    "    .agg({'transaction_id': 'nunique'})\n",
    ")\n",
    "ordersByUsers.columns = ['visitor_id', 'orders']\n",
    "\n",
    "print(ordersByUsers.sort_values(by='orders', ascending=False).head(10))\n",
    "\n",
    "# серия из чисел от 0 до количества наблюдений в ordersByUsers\n",
    "plt.figure(figsize=(9,5))\n",
    "x_values = pd.Series(range(0, len(ordersByUsers)))\n",
    "plt.scatter(x_values, ordersByUsers['orders']) \n",
    "plt.title('Распределение количества заказов по пользователям')\n",
    "plt.xlabel('Пользователи')\n",
    "plt.ylabel('Количество заказов')"
   ]
  },
  {
   "cell_type": "markdown",
   "metadata": {},
   "source": [
    "<div class=\"alert alert-danger\">\n",
    "    <b>❌ Комментарий ревьюера:</b>\n",
    "    \n",
    "Дооформи, пожалуйста, графики в этом блоке: нужно сделать заголовки и подписать оси.\n",
    "</div>"
   ]
  },
  {
   "cell_type": "markdown",
   "metadata": {},
   "source": [
    "<div class=\"alert alert-success\">\n",
    "    <b>✅ Комментарий ревьюера V2:</b>\n",
    "\n",
    "Спасибо!\n",
    "</div>"
   ]
  },
  {
   "cell_type": "markdown",
   "metadata": {},
   "source": [
    "На графике видно, что большинство пользователей сделали один заказ. Много пользователей и с 2-3 заказами. Также есть и те, кто успел сделать за месяц одиннадцать заказов."
   ]
  },
  {
   "cell_type": "markdown",
   "metadata": {},
   "source": [
    "<div class=\"alert alert-success\">\n",
    "    <b>✅ Комментарий ревьюера:</b>\n",
    "\n",
    "Вывод принят!\n",
    "</div>"
   ]
  },
  {
   "cell_type": "markdown",
   "metadata": {},
   "source": [
    "### Посчитайте 95-й и 99-й перцентили количества заказов на пользователя. Выберите границу для определения аномальных пользователей."
   ]
  },
  {
   "cell_type": "code",
   "execution_count": 20,
   "metadata": {},
   "outputs": [
    {
     "name": "stdout",
     "output_type": "stream",
     "text": [
      "[2. 4.]\n"
     ]
    }
   ],
   "source": [
    "print(np.percentile(ordersByUsers['orders'], [95, 99]))"
   ]
  },
  {
   "cell_type": "markdown",
   "metadata": {},
   "source": [
    "Не более 5% пользователей совершали больше 2-х покупок в течение месяца. И только 1% - 4 и более.\n",
    "Примем за верхнюю границу 4 заказа на одного пользователя."
   ]
  },
  {
   "cell_type": "markdown",
   "metadata": {},
   "source": [
    "<div class=\"alert alert-success\">\n",
    "    <b>✅ Комментарий ревьюера:</b>\n",
    "\n",
    "Согласен с твоим решением!\n",
    "</div>"
   ]
  },
  {
   "cell_type": "markdown",
   "metadata": {},
   "source": [
    "### Постройте точечный график стоимостей заказов. Сделайте выводы и предположения."
   ]
  },
  {
   "cell_type": "code",
   "execution_count": 21,
   "metadata": {},
   "outputs": [
    {
     "data": {
      "text/plain": [
       "Text(0.5, 0, 'Пользователи')"
      ]
     },
     "execution_count": 21,
     "metadata": {},
     "output_type": "execute_result"
    },
    {
     "data": {
      "image/png": "[encoded data removed]",
      "text/plain": [
       "<Figure size 648x360 with 1 Axes>"
      ]
     },
     "metadata": {
      "needs_background": "light"
     },
     "output_type": "display_data"
    }
   ],
   "source": [
    "plt.figure(figsize=(9,5))\n",
    "x_values = pd.Series(range(0,len(orders['revenue'])))\n",
    "plt.scatter(x_values, orders['revenue'], alpha=0.5)\n",
    "plt.title('Распределение стоимости заказов')\n",
    "plt.ylabel('Стоимость заказа')\n",
    "plt.xlabel('Пользователи')"
   ]
  },
  {
   "cell_type": "markdown",
   "metadata": {},
   "source": [
    "На графике чётко виден крупный заказ, который вызвал всплеск на графиках кумулятивных метрик. Так же есть другие весомые заказы, которые могут повлиять на результат исследований. Посмотрим на график без выбросов."
   ]
  },
  {
   "cell_type": "code",
   "execution_count": 22,
   "metadata": {},
   "outputs": [
    {
     "data": {
      "text/plain": [
       "Text(0.5, 0, 'Пользователи')"
      ]
     },
     "execution_count": 22,
     "metadata": {},
     "output_type": "execute_result"
    },
    {
     "data": {
      "image/png": "[encoded data removed]",
      "text/plain": [
       "<Figure size 648x360 with 1 Axes>"
      ]
     },
     "metadata": {
      "needs_background": "light"
     },
     "output_type": "display_data"
    }
   ],
   "source": [
    "# строим точечную диаграмму без выбросов,ограничев ось Y\n",
    "plt.figure(figsize=(9,5))\n",
    "plt.ylim(0, 150000)\n",
    "plt.scatter(x_values, orders['revenue'], alpha=0.5)\n",
    "plt.title('Распределение стоимости заказов')\n",
    "plt.ylabel('Стоимость заказа')\n",
    "plt.xlabel('Пользователи')"
   ]
  },
  {
   "cell_type": "markdown",
   "metadata": {},
   "source": [
    "На графике видно, что большая часть заказов в пределах 20000. Единичные заказы от 70000 до 100000."
   ]
  },
  {
   "cell_type": "markdown",
   "metadata": {},
   "source": [
    "<div class=\"alert alert-warning\">\n",
    "    <b>⚠️ Комментарий ревьюера:</b>\n",
    "    \n",
    "Все верно, из-за двух выбросов график стал неинформативным. Давай сделаем еще один график без выбросов.\n",
    "</div>"
   ]
  },
  {
   "cell_type": "markdown",
   "metadata": {},
   "source": [
    "<div class=\"alert alert-info\">\n",
    "<b> Комментарий студента</b>\n",
    "\n",
    "Выполнено.\n",
    "</div>"
   ]
  },
  {
   "cell_type": "markdown",
   "metadata": {},
   "source": [
    "<div class=\"alert alert-success\">\n",
    "    <b>✅ Комментарий ревьюера V2:</b>\n",
    "\n",
    "Супер!\n",
    "</div>"
   ]
  },
  {
   "cell_type": "markdown",
   "metadata": {},
   "source": [
    "### Посчитайте 95-й и 99-й перцентили стоимости заказов. Выберите границу для определения аномальных заказов."
   ]
  },
  {
   "cell_type": "code",
   "execution_count": 23,
   "metadata": {},
   "outputs": [
    {
     "name": "stdout",
     "output_type": "stream",
     "text": [
      "[28000.  58233.2]\n"
     ]
    }
   ],
   "source": [
    "print(np.percentile(orders['revenue'], [95, 99])) "
   ]
  },
  {
   "cell_type": "markdown",
   "metadata": {},
   "source": [
    "Выбирем границу по величине 99% перцентиля (58233)"
   ]
  },
  {
   "cell_type": "markdown",
   "metadata": {},
   "source": [
    "<div class=\"alert alert-success\">\n",
    "    <b>✅ Комментарий ревьюера:</b>\n",
    "\n",
    "Принято!\n",
    "</div>"
   ]
  },
  {
   "cell_type": "markdown",
   "metadata": {},
   "source": [
    "### Посчитайте статистическую значимость различий в среднем количестве заказов на посетителя между группами по «сырым» данным. Сделайте выводы и предположения."
   ]
  },
  {
   "cell_type": "markdown",
   "metadata": {},
   "source": [
    "Посчитаем статистическую значимость различий в среднем числе заказов на пользователя и среднем чеке между группами по «сырым» данным — без удаления аномальных пользователей. Уровень значимости (alpha) = 0,05. \n",
    "\n",
    "Сформулируем гипотезы:\n",
    "\n",
    "*Нулевая гипотеза по \"сырым\" данным*: различий в среднем количестве заказов между группами нет.\n",
    "\n",
    "*Альтернативная гипотеза по \"сырым\" данным*: различия в среднем между группами есть."
   ]
  },
  {
   "cell_type": "markdown",
   "metadata": {},
   "source": [
    "<div class=\"alert alert-success\">\n",
    "    <b>✅ Комментарий ревьюера:</b>\n",
    "\n",
    "Гипотезы сформулированы верно!\n",
    "</div>"
   ]
  },
  {
   "cell_type": "markdown",
   "metadata": {},
   "source": [
    "<div class=\"alert alert-danger\">\n",
    "    <b>❌ Комментарий ревьюера:</b>\n",
    "    \n",
    "Укажи, пожалуйста, какой уровень значимости (alpha) устанавливаешь. Чаще всего в таких исследованиях мы выбираем значение 0.05, но его значение не фиксировано, может меняться исследователем.\n",
    "</div>"
   ]
  },
  {
   "cell_type": "markdown",
   "metadata": {},
   "source": [
    "<div class=\"alert alert-info\">\n",
    "<b> Комментарий студента</b>\n",
    "\n",
    "Выполнено.\n",
    "</div>"
   ]
  },
  {
   "cell_type": "markdown",
   "metadata": {},
   "source": [
    "<div class=\"alert alert-danger\">\n",
    "    <b>❌ Комментарий ревьюера V2:</b>\n",
    "    \n",
    "`Уровень значимости (alpha) = 0,5.` - поправь, пожалуйста, видимо ты имеешь ввиду значение 0.05, а не 0.5.\n",
    "</div>"
   ]
  },
  {
   "cell_type": "code",
   "execution_count": 24,
   "metadata": {},
   "outputs": [
    {
     "name": "stdout",
     "output_type": "stream",
     "text": [
      "P-value: 0.017\n",
      "Относительный прирост В к А: 0.138\n"
     ]
    }
   ],
   "source": [
    "visitorsADaily = visitors[visitors['group'] == 'A'][['date', 'visitors']]\n",
    "visitorsADaily.columns = ['date', 'visitorsPerDateA']\n",
    "\n",
    "visitorsACummulative = visitorsADaily.apply(\n",
    "    lambda x: visitorsADaily[visitorsADaily['date'] <= x['date']].agg(\n",
    "        {'date': 'max', 'visitorsPerDateA': 'sum'}\n",
    "    ),\n",
    "    axis=1,\n",
    ")\n",
    "visitorsACummulative.columns = ['date', 'visitorsCummulativeA']\n",
    "\n",
    "visitorsBDaily = visitors[visitors['group'] == 'B'][['date', 'visitors']]\n",
    "visitorsBDaily.columns = ['date', 'visitorsPerDateB']\n",
    "\n",
    "visitorsBCummulative = visitorsBDaily.apply(\n",
    "    lambda x: visitorsBDaily[visitorsBDaily['date'] <= x['date']].agg(\n",
    "        {'date': 'max', 'visitorsPerDateB': 'sum'}\n",
    "    ),\n",
    "    axis=1,\n",
    ")\n",
    "visitorsBCummulative.columns = ['date', 'visitorsCummulativeB']\n",
    "\n",
    "ordersADaily = (\n",
    "    orders[orders['group'] == 'A'][['date', 'transaction_id', 'visitor_id', 'revenue']]\n",
    "    .groupby('date', as_index=False)\n",
    "    .agg({'transaction_id': pd.Series.nunique, 'revenue': 'sum'})\n",
    ")\n",
    "ordersADaily.columns = ['date', 'ordersPerDateA', 'revenuePerDateA']\n",
    "\n",
    "ordersACummulative = ordersADaily.apply(\n",
    "    lambda x: ordersADaily[ordersADaily['date'] <= x['date']].agg(\n",
    "        {'date': 'max', 'ordersPerDateA': 'sum', 'revenuePerDateA': 'sum'}\n",
    "    ),\n",
    "    axis=1,\n",
    ").sort_values(by=['date'])\n",
    "ordersACummulative.columns = [\n",
    "    'date',\n",
    "    'ordersCummulativeA',\n",
    "    'revenueCummulativeA',\n",
    "]\n",
    "\n",
    "ordersBDaily = (\n",
    "    orders[orders['group'] == 'B'][['date', 'transaction_id', 'visitor_id', 'revenue']]\n",
    "    .groupby('date', as_index=False)\n",
    "    .agg({'transaction_id': pd.Series.nunique, 'revenue': 'sum'})\n",
    ")\n",
    "ordersBDaily.columns = ['date', 'ordersPerDateB', 'revenuePerDateB']\n",
    "\n",
    "ordersBCummulative = ordersBDaily.apply(\n",
    "    lambda x: ordersBDaily[ordersBDaily['date'] <= x['date']].agg(\n",
    "        {'date': 'max', 'ordersPerDateB': 'sum', 'revenuePerDateB': 'sum'}\n",
    "    ),\n",
    "    axis=1,\n",
    ").sort_values(by=['date'])\n",
    "ordersBCummulative.columns = [\n",
    "    'date',\n",
    "    'ordersCummulativeB',\n",
    "    'revenueCummulativeB',\n",
    "]\n",
    "\n",
    "data = (\n",
    "    ordersADaily.merge(\n",
    "        ordersBDaily, left_on='date', right_on='date', how='left'\n",
    "    )\n",
    "    .merge(ordersACummulative, left_on='date', right_on='date', how='left')\n",
    "    .merge(ordersBCummulative, left_on='date', right_on='date', how='left')\n",
    "    .merge(visitorsADaily, left_on='date', right_on='date', how='left')\n",
    "    .merge(visitorsBDaily, left_on='date', right_on='date', how='left')\n",
    "    .merge(visitorsACummulative, left_on='date', right_on='date', how='left')\n",
    "    .merge(visitorsBCummulative, left_on='date', right_on='date', how='left')\n",
    ")\n",
    "\n",
    "\n",
    "ordersByUsersA = (\n",
    "    orders[orders['group'] == 'A']\n",
    "    .groupby('visitor_id', as_index=False)\n",
    "    .agg({'transaction_id': pd.Series.nunique})\n",
    ")\n",
    "ordersByUsersA.columns = ['visitor_id', 'orders']\n",
    "\n",
    "ordersByUsersB = (\n",
    "    orders[orders['group'] == 'B']\n",
    "    .groupby('visitor_id', as_index=False)\n",
    "    .agg({'transaction_id': pd.Series.nunique})\n",
    ")\n",
    "ordersByUsersB.columns = ['visitor_id', 'orders']\n",
    "\n",
    "sampleA = pd.concat(\n",
    "    [\n",
    "        ordersByUsersA['orders'],\n",
    "        pd.Series(\n",
    "            0,\n",
    "            index=np.arange(\n",
    "                data['visitorsPerDateA'].sum() - len(ordersByUsersA['orders'])\n",
    "            ),\n",
    "            name='orders',\n",
    "        ),\n",
    "    ],\n",
    "    axis=0,\n",
    ")\n",
    "\n",
    "sampleB = pd.concat(\n",
    "    [\n",
    "        ordersByUsersB['orders'],\n",
    "        pd.Series(\n",
    "            0,\n",
    "            index=np.arange(\n",
    "                data['visitorsPerDateB'].sum() - len(ordersByUsersB['orders'])\n",
    "            ),\n",
    "            name='orders',\n",
    "        ),\n",
    "    ],\n",
    "    axis=0,\n",
    ")\n",
    "\n",
    "print('P-value:',\"{0:.3f}\".format(stats.mannwhitneyu(sampleA, sampleB)[1]))\n",
    "\n",
    "print('Относительный прирост В к А:',\"{0:.3f}\".format(sampleB.mean() / sampleA.mean() - 1))"
   ]
  },
  {
   "cell_type": "markdown",
   "metadata": {},
   "source": [
    "<div class=\"alert alert-success\">\n",
    "    <b>✅ Комментарий ревьюера:</b>\n",
    "\n",
    "Расчеты корректны!\n",
    "</div>"
   ]
  },
  {
   "cell_type": "markdown",
   "metadata": {},
   "source": [
    "<div class=\"alert alert-warning\">\n",
    "    <b>⚠️ Комментарий ревьюера:</b>\n",
    "    \n",
    "Давай подпишем цифры на выходе. Сторонний человек, просматривая твой проект, не поймет что это за цифры и как на основе них ты приняла решение. То же самое нужно сделать и для других проверок.\n",
    "    \n",
    "Также, построение таблицы data в целом не требуется. Из этой таблицы берется только количество посетителей, которое можно взять напрямую из visitors. И уж точно её не стоит выводить на экран.\n",
    "</div>"
   ]
  },
  {
   "cell_type": "markdown",
   "metadata": {},
   "source": [
    "<div class=\"alert alert-info\">\n",
    "<b> Комментарий студента</b>\n",
    "\n",
    "Выполнено.\n",
    "</div>"
   ]
  },
  {
   "cell_type": "markdown",
   "metadata": {},
   "source": [
    "<div class=\"alert alert-success\">\n",
    "    <b>✅ Комментарий ревьюера V2:</b>\n",
    "\n",
    "Спасибо!\n",
    "</div>"
   ]
  },
  {
   "cell_type": "markdown",
   "metadata": {},
   "source": [
    "По \"сырым\" данным различия между группами есть.\n",
    "P-value = 0.017, что меньше 0.05. Значит, нулевую гипотезу о том, что статистически значимых различий в среднем количестве между группами нет, отвергаем. Относительный выигрыш группы B равен 13.8% — второе число в выводе."
   ]
  },
  {
   "cell_type": "markdown",
   "metadata": {},
   "source": [
    "<div class=\"alert alert-success\">\n",
    "    <b>✅ Комментарий ревьюера:</b>\n",
    "\n",
    "Вывод принят!\n",
    "</div>"
   ]
  },
  {
   "cell_type": "markdown",
   "metadata": {},
   "source": [
    "### Посчитайте статистическую значимость различий в среднем чеке заказа между группами по «сырым» данным. Сделайте выводы и предположения."
   ]
  },
  {
   "cell_type": "markdown",
   "metadata": {},
   "source": [
    "*Нулевая гипотеза по \"сырым\" данным*: различий в среднем чеке между группами нет. \n",
    "\n",
    "*Альтернативная гипотеза по \"сырым\" данным*: различия в среднем чеке между группами есть. "
   ]
  },
  {
   "cell_type": "code",
   "execution_count": 25,
   "metadata": {},
   "outputs": [
    {
     "name": "stdout",
     "output_type": "stream",
     "text": [
      "P-value: 0.729\n",
      "Относительный прирост В к А: 0.259\n"
     ]
    }
   ],
   "source": [
    "print('P-value:','{0:.3f}'.format(stats.mannwhitneyu(orders[orders['group']=='A']['revenue'], orders[orders['group']=='B']['revenue'])[1]))\n",
    "print('Относительный прирост В к А:','{0:.3f}'.format(orders[orders['group']=='B']['revenue'].mean()/orders[orders['group']=='A']['revenue'].mean()-1))"
   ]
  },
  {
   "cell_type": "markdown",
   "metadata": {},
   "source": [
    "P-value значительно больше 0.05. Значит, причин отвергать нулевую гипотезу и считать, что в среднем чеке есть различия, нет. При этом средний чек группы B значительно выше среднего чека группы A - 25.9%."
   ]
  },
  {
   "cell_type": "markdown",
   "metadata": {},
   "source": [
    "<div class=\"alert alert-success\">\n",
    "    <b>✅ Комментарий ревьюера:</b>\n",
    "\n",
    "Проверка корректна!\n",
    "</div>"
   ]
  },
  {
   "cell_type": "markdown",
   "metadata": {},
   "source": [
    "### Посчитайте статистическую значимость различий в среднем количестве заказов на посетителя между группами по «очищенным» данным. Сделайте выводы и предположения."
   ]
  },
  {
   "cell_type": "markdown",
   "metadata": {},
   "source": [
    "Определим сколько \"аномальных\" пользователей:"
   ]
  },
  {
   "cell_type": "code",
   "execution_count": 26,
   "metadata": {},
   "outputs": [
    {
     "name": "stdout",
     "output_type": "stream",
     "text": [
      "1099     148427295\n",
      "949      887908475\n",
      "744      888512513\n",
      "1103    1164614297\n",
      "1136    1307669133\n",
      "Name: visitor_id, dtype: int64\n",
      "15\n"
     ]
    }
   ],
   "source": [
    "usersWithManyOrders = pd.concat(\n",
    "    [\n",
    "        ordersByUsersA[ordersByUsersA['orders'] > 4]['visitor_id'],\n",
    "        ordersByUsersB[ordersByUsersB['orders'] > 4]['visitor_id'],\n",
    "    ],\n",
    "    axis=0,\n",
    ")\n",
    "usersWithExpensiveOrders = orders[orders['revenue'] > 58233]['visitor_id']\n",
    "abnormalUsers = (\n",
    "    pd.concat([usersWithManyOrders, usersWithExpensiveOrders], axis=0)\n",
    "    .drop_duplicates()\n",
    "    .sort_values()\n",
    ")\n",
    "print(abnormalUsers.head(5))\n",
    "print(abnormalUsers.shape[0])"
   ]
  },
  {
   "cell_type": "markdown",
   "metadata": {},
   "source": [
    "Всего 15 аномальных пользователей.\n",
    "Узнаем, как их действия повлияли на результаты теста. Посчитаем статистическую значимость различий по очищенным данным. "
   ]
  },
  {
   "cell_type": "markdown",
   "metadata": {},
   "source": [
    "*Нулевая гипотеза по \"очищенным\" данным*: различий в среднем количестве заказов между группами нет.\n",
    "\n",
    "*Альтернативная гипотеза по \"очищенным\" данным*: различия в среднем между группами есть."
   ]
  },
  {
   "cell_type": "markdown",
   "metadata": {},
   "source": [
    "<div class=\"alert alert-danger\">\n",
    "    <b>❌ Комментарий ревьюера:</b>\n",
    "    \n",
    "При каждой проверке обязательно указывать проверяемые гипотезы. Чтобы гипотезы не повторялись полностью, в тексте гипотезы можно указать по каким данным (\"сырым\" или \"отфильтрованным\") идет проверка.\n",
    "    \n",
    "Сформулируй, пожалуйста, гипотезы здесь и в следующей проверке.\n",
    "</div>"
   ]
  },
  {
   "cell_type": "markdown",
   "metadata": {},
   "source": [
    "<div class=\"alert alert-info\">\n",
    "<b> Комментарий студента</b>\n",
    "\n",
    "Выполнено.\n",
    "</div>"
   ]
  },
  {
   "cell_type": "markdown",
   "metadata": {},
   "source": [
    "<div class=\"alert alert-success\">\n",
    "    <b>✅ Комментарий ревьюера V2:</b>\n",
    "\n",
    "Принято!\n",
    "</div>"
   ]
  },
  {
   "cell_type": "code",
   "execution_count": 27,
   "metadata": {},
   "outputs": [
    {
     "name": "stdout",
     "output_type": "stream",
     "text": [
      "P-value: 0.01438\n",
      "Относительный прирост В к А: 0.153\n"
     ]
    }
   ],
   "source": [
    "sampleAFiltered = pd.concat(\n",
    "    [\n",
    "        ordersByUsersA[\n",
    "            np.logical_not(ordersByUsersA['visitor_id'].isin(abnormalUsers))\n",
    "        ]['orders'],\n",
    "        pd.Series(\n",
    "            0,\n",
    "            index=np.arange(\n",
    "                data['visitorsPerDateA'].sum() - len(ordersByUsersA['orders'])\n",
    "            ),\n",
    "            name='orders',\n",
    "        ),\n",
    "    ],\n",
    "    axis=0,\n",
    ")\n",
    "\n",
    "sampleBFiltered = pd.concat(\n",
    "    [\n",
    "        ordersByUsersB[\n",
    "            np.logical_not(ordersByUsersB['visitor_id'].isin(abnormalUsers))\n",
    "        ]['orders'],\n",
    "        pd.Series(\n",
    "            0,\n",
    "            index=np.arange(\n",
    "                data['visitorsPerDateB'].sum() - len(ordersByUsersB['orders'])\n",
    "            ),\n",
    "            name='orders',\n",
    "        ),\n",
    "    ],\n",
    "    axis=0,\n",
    ")\n",
    "\n",
    "print('P-value:','{0:.5f}'.format(stats.mannwhitneyu(sampleAFiltered, sampleBFiltered)[1]))\n",
    "print('Относительный прирост В к А:','{0:.3f}'.format(sampleBFiltered.mean()/sampleAFiltered.mean()-1))"
   ]
  },
  {
   "cell_type": "markdown",
   "metadata": {},
   "source": [
    "Результаты по среднему количеству заказов по \"очищенным\" данным значительно не изменились. Относительный прирост стал выше всего на 1,5%."
   ]
  },
  {
   "cell_type": "markdown",
   "metadata": {},
   "source": [
    "<div class=\"alert alert-success\">\n",
    "    <b>✅ Комментарий ревьюера:</b>\n",
    "\n",
    "Вывод принят!\n",
    "</div>"
   ]
  },
  {
   "cell_type": "markdown",
   "metadata": {},
   "source": [
    "### Посчитайте статистическую значимость различий в среднем чеке заказа между группами по «очищенным» данным. Сделайте выводы и предположения."
   ]
  },
  {
   "cell_type": "markdown",
   "metadata": {},
   "source": [
    "*Нулевая гипотеза по \"очищенным\" данным*: различий в среднем чеке между группами нет. \n",
    "\n",
    "*Альтернативная гипотеза по \"очищенным\" данным*: различия в среднем чеке между группами есть."
   ]
  },
  {
   "cell_type": "code",
   "execution_count": 28,
   "metadata": {},
   "outputs": [
    {
     "name": "stdout",
     "output_type": "stream",
     "text": [
      "P-value: 0.851\n",
      "Относительный прирост В к А: -0.006\n"
     ]
    }
   ],
   "source": [
    "print('P-value:',\n",
    "    '{0:.3f}'.format(\n",
    "        stats.mannwhitneyu(\n",
    "            orders[\n",
    "                np.logical_and(\n",
    "                    orders['group'] == 'A',\n",
    "                    np.logical_not(orders['visitor_id'].isin(abnormalUsers)),\n",
    "                )\n",
    "            ]['revenue'],\n",
    "            orders[\n",
    "                np.logical_and(\n",
    "                    orders['group'] == 'B',\n",
    "                    np.logical_not(orders['visitor_id'].isin(abnormalUsers)),\n",
    "                )\n",
    "            ]['revenue'],\n",
    "        )[1]\n",
    "    )\n",
    ")\n",
    "\n",
    "print('Относительный прирост В к А:',\n",
    "    \"{0:.3f}\".format(\n",
    "        orders[\n",
    "            np.logical_and(\n",
    "                orders['group'] == 'B',\n",
    "                np.logical_not(orders['visitor_id'].isin(abnormalUsers)),\n",
    "            )\n",
    "        ]['revenue'].mean()\n",
    "        / orders[\n",
    "            np.logical_and(\n",
    "                orders['group'] == 'A',\n",
    "                np.logical_not(orders['visitor_id'].isin(abnormalUsers)),\n",
    "            )\n",
    "        ]['revenue'].mean()\n",
    "        - 1\n",
    "    )\n",
    ")"
   ]
  },
  {
   "cell_type": "markdown",
   "metadata": {},
   "source": [
    "P-value значительно больше 0.05. Значит, причин отвергать нулевую гипотезу и считать, что в среднем чеке есть различия, нет. По разнице средних чеков групп различий практически нет."
   ]
  },
  {
   "cell_type": "markdown",
   "metadata": {},
   "source": [
    "<div class=\"alert alert-success\">\n",
    "    <b>✅ Комментарий ревьюера:</b>\n",
    "\n",
    "Согласен с твоим выводом.\n",
    "</div>"
   ]
  },
  {
   "cell_type": "markdown",
   "metadata": {},
   "source": [
    "### Примите решение по результатам теста и объясните его. Варианты решений:\n",
    "1. Остановить тест, зафиксировать победу одной из групп.\n",
    "2. Остановить тест, зафиксировать отсутствие различий между группами.\n",
    "3. Продолжить тест."
   ]
  },
  {
   "cell_type": "markdown",
   "metadata": {},
   "source": [
    "На основании предоставленных данных интернет-магазином был проведено исследование и вынесены следующие рекомендации:\n",
    "\n",
    "1. В части **приоритизации гипотез** из списка следует в первую очередь обратить внимание на следующие гипотезы:\n",
    "\n",
    "- Запустить акцию, дающую скидку на товар в день рождения,\n",
    "- Добавить два новых канала привлечения трафика, что позволит привлекать на 30% больше пользователей,\n",
    "- Добавить форму подписки на все основные страницы, чтобы собрать базу клиентов для email-рассылок;\n",
    "\n",
    "Если при приоритезации гипотез учесть охват пользователей интернет-магазина, то следует обратить внимание на эти гипотезы:\n",
    "\n",
    "- Добавить форму подписки на все основные страницы, чтобы собрать базу клиентов для email-рассылок\",\n",
    "- Добавить блоки рекомендаций товаров на сайт интернет магазина, чтобы повысить конверсию и средний чек заказа\",\n",
    "- Добавить два новых канала привлечения трафика, что позволит привлекать на 30% больше пользователей\",\n",
    "- Показать на главной странице баннеры с актуальными акциями и распродажами, чтобы увеличить конверсию\".\n",
    "\n",
    "2. В части **анализа А/В теста**:\n",
    "\n",
    "- График относительного изменения кумулятивного среднего чека группы B к группе A показывает, что результаты группы В стабильно лучше группы А.\n",
    "\n",
    "- Есть статистическое значимое различие в среднем количестве заказов на посетителя между группами по \"сырым\" и по \"очищенным\" данным от аномальных значений. Относительная значимость группы В выше, чем в А, на 14-15%.\n",
    "\n",
    "- Нет статистически значимого различия по среднему чеку между группами по данным после фильтрации аномалий.\n",
    "\n",
    "На основании вышеизложенного рекомендуется остановить тест, зафиксировав победу группы B."
   ]
  },
  {
   "cell_type": "markdown",
   "metadata": {},
   "source": [
    "<div class=\"alert alert-success\">\n",
    "    <b>✅ Комментарий ревьюера:</b>\n",
    "\n",
    "Итоговый вывод принят!\n",
    "</div>"
   ]
  },
  {
   "cell_type": "markdown",
   "metadata": {},
   "source": [
    "<div class=\"alert alert-success\">\n",
    "    <b>✅ Комментарий ревьюера V2:</b>\n",
    "\n",
    "Проект принимаю, только поправь, пожалуйста, опечатку в уровне значимости.\n",
    "    \n",
    "В остальном - у тебя получился отличный проект! Успехов в дальнейшем обучении!\n",
    "</div>"
   ]
  },
  {
   "cell_type": "code",
   "execution_count": null,
   "metadata": {},
   "outputs": [],
   "source": []
  }
 ],
 "metadata": {
  "ExecuteTimeLog": [
   {
    "duration": 479,
    "start_time": "2023-04-19T09:13:06.653Z"
   },
   {
    "duration": 33,
    "start_time": "2023-04-19T09:13:19.165Z"
   },
   {
    "duration": 81,
    "start_time": "2023-04-19T09:13:38.358Z"
   },
   {
    "duration": 962,
    "start_time": "2023-04-19T09:14:03.918Z"
   },
   {
    "duration": 34,
    "start_time": "2023-04-19T09:15:23.998Z"
   },
   {
    "duration": 28,
    "start_time": "2023-04-19T09:15:29.433Z"
   },
   {
    "duration": 35,
    "start_time": "2023-04-19T09:15:38.230Z"
   },
   {
    "duration": 11,
    "start_time": "2023-04-19T09:15:46.226Z"
   },
   {
    "duration": 11,
    "start_time": "2023-04-19T09:18:22.494Z"
   },
   {
    "duration": 9,
    "start_time": "2023-04-19T09:18:25.658Z"
   },
   {
    "duration": 7,
    "start_time": "2023-04-19T09:35:45.132Z"
   },
   {
    "duration": 1359,
    "start_time": "2023-04-20T01:40:41.852Z"
   },
   {
    "duration": 361,
    "start_time": "2023-04-20T01:41:28.197Z"
   },
   {
    "duration": 13,
    "start_time": "2023-04-20T01:43:28.173Z"
   },
   {
    "duration": 89,
    "start_time": "2023-04-20T01:47:43.907Z"
   },
   {
    "duration": 628,
    "start_time": "2023-04-20T01:48:35.867Z"
   },
   {
    "duration": 332,
    "start_time": "2023-04-20T01:50:28.337Z"
   },
   {
    "duration": 7,
    "start_time": "2023-04-20T01:52:17.569Z"
   },
   {
    "duration": 428,
    "start_time": "2023-04-20T01:52:47.295Z"
   },
   {
    "duration": 8,
    "start_time": "2023-04-20T01:52:47.725Z"
   },
   {
    "duration": 10,
    "start_time": "2023-04-20T01:52:47.734Z"
   },
   {
    "duration": 296,
    "start_time": "2023-04-20T01:52:47.745Z"
   },
   {
    "duration": 10,
    "start_time": "2023-04-20T01:52:48.042Z"
   },
   {
    "duration": 355,
    "start_time": "2023-04-20T01:52:48.053Z"
   },
   {
    "duration": 0,
    "start_time": "2023-04-20T01:52:48.409Z"
   },
   {
    "duration": 0,
    "start_time": "2023-04-20T01:52:48.410Z"
   },
   {
    "duration": 465,
    "start_time": "2023-04-20T15:49:52.210Z"
   },
   {
    "duration": 11,
    "start_time": "2023-04-20T15:49:52.678Z"
   },
   {
    "duration": 9,
    "start_time": "2023-04-20T15:49:52.691Z"
   },
   {
    "duration": 583,
    "start_time": "2023-04-20T15:49:52.701Z"
   },
   {
    "duration": 61,
    "start_time": "2023-04-20T15:49:56.146Z"
   },
   {
    "duration": 22,
    "start_time": "2023-04-20T15:49:57.754Z"
   },
   {
    "duration": 11,
    "start_time": "2023-04-20T15:50:44.130Z"
   },
   {
    "duration": 13,
    "start_time": "2023-04-20T15:51:49.135Z"
   },
   {
    "duration": 383,
    "start_time": "2023-04-20T15:51:53.776Z"
   },
   {
    "duration": 11,
    "start_time": "2023-04-20T15:51:54.490Z"
   },
   {
    "duration": 209,
    "start_time": "2023-04-20T15:52:22.986Z"
   },
   {
    "duration": 233,
    "start_time": "2023-04-20T15:53:55.903Z"
   },
   {
    "duration": 460,
    "start_time": "2023-04-20T15:57:53.852Z"
   },
   {
    "duration": 8,
    "start_time": "2023-04-20T15:57:54.314Z"
   },
   {
    "duration": 30,
    "start_time": "2023-04-20T15:57:54.324Z"
   },
   {
    "duration": 332,
    "start_time": "2023-04-20T15:57:54.356Z"
   },
   {
    "duration": 11,
    "start_time": "2023-04-20T15:57:54.690Z"
   },
   {
    "duration": 26,
    "start_time": "2023-04-20T15:57:54.703Z"
   },
   {
    "duration": 372,
    "start_time": "2023-04-20T15:57:54.731Z"
   },
   {
    "duration": 0,
    "start_time": "2023-04-20T15:57:55.105Z"
   },
   {
    "duration": 0,
    "start_time": "2023-04-20T15:57:55.105Z"
   },
   {
    "duration": 0,
    "start_time": "2023-04-20T15:57:55.106Z"
   },
   {
    "duration": 11,
    "start_time": "2023-04-20T15:58:12.584Z"
   },
   {
    "duration": 10,
    "start_time": "2023-04-20T15:58:20.625Z"
   },
   {
    "duration": 665,
    "start_time": "2023-04-20T16:00:45.216Z"
   },
   {
    "duration": 604,
    "start_time": "2023-04-20T16:01:35.740Z"
   },
   {
    "duration": 628,
    "start_time": "2023-04-20T16:01:53.688Z"
   },
   {
    "duration": 265,
    "start_time": "2023-04-20T16:03:19.384Z"
   },
   {
    "duration": 4,
    "start_time": "2023-04-20T16:04:53.494Z"
   },
   {
    "duration": 5,
    "start_time": "2023-04-20T16:05:09.229Z"
   },
   {
    "duration": 469,
    "start_time": "2023-04-20T16:15:11.214Z"
   },
   {
    "duration": 10,
    "start_time": "2023-04-20T16:15:11.685Z"
   },
   {
    "duration": 8,
    "start_time": "2023-04-20T16:15:11.697Z"
   },
   {
    "duration": 298,
    "start_time": "2023-04-20T16:15:11.708Z"
   },
   {
    "duration": 10,
    "start_time": "2023-04-20T16:15:12.008Z"
   },
   {
    "duration": 20,
    "start_time": "2023-04-20T16:15:12.019Z"
   },
   {
    "duration": 6,
    "start_time": "2023-04-20T16:15:49.298Z"
   },
   {
    "duration": 6,
    "start_time": "2023-04-20T16:16:13.038Z"
   },
   {
    "duration": 310,
    "start_time": "2023-04-20T16:16:22.786Z"
   },
   {
    "duration": 11,
    "start_time": "2023-04-20T16:16:38.230Z"
   },
   {
    "duration": 7,
    "start_time": "2023-04-20T16:24:59.646Z"
   },
   {
    "duration": 6,
    "start_time": "2023-04-20T16:25:57.735Z"
   },
   {
    "duration": 9,
    "start_time": "2023-04-20T16:29:37.447Z"
   },
   {
    "duration": 8,
    "start_time": "2023-04-20T16:29:55.606Z"
   },
   {
    "duration": 10,
    "start_time": "2023-04-20T16:30:11.228Z"
   },
   {
    "duration": 9,
    "start_time": "2023-04-20T16:30:34.305Z"
   },
   {
    "duration": 9,
    "start_time": "2023-04-20T16:30:59.043Z"
   },
   {
    "duration": 9,
    "start_time": "2023-04-20T16:30:59.904Z"
   },
   {
    "duration": 488,
    "start_time": "2023-04-20T16:31:37.198Z"
   },
   {
    "duration": 14,
    "start_time": "2023-04-20T16:31:37.691Z"
   },
   {
    "duration": 11,
    "start_time": "2023-04-20T16:31:37.707Z"
   },
   {
    "duration": 281,
    "start_time": "2023-04-20T16:31:54.301Z"
   },
   {
    "duration": 9,
    "start_time": "2023-04-20T16:31:57.489Z"
   },
   {
    "duration": 11,
    "start_time": "2023-04-20T16:32:03.748Z"
   },
   {
    "duration": 7,
    "start_time": "2023-04-20T16:32:07.548Z"
   },
   {
    "duration": 8,
    "start_time": "2023-04-20T16:32:10.605Z"
   },
   {
    "duration": 8,
    "start_time": "2023-04-20T16:32:12.325Z"
   },
   {
    "duration": 10,
    "start_time": "2023-04-20T16:32:34.889Z"
   },
   {
    "duration": 8,
    "start_time": "2023-04-20T16:34:04.087Z"
   },
   {
    "duration": 10,
    "start_time": "2023-04-20T16:34:06.049Z"
   },
   {
    "duration": 276,
    "start_time": "2023-04-20T16:34:10.018Z"
   },
   {
    "duration": 425,
    "start_time": "2023-04-20T16:35:35.316Z"
   },
   {
    "duration": 9,
    "start_time": "2023-04-20T16:35:35.743Z"
   },
   {
    "duration": 9,
    "start_time": "2023-04-20T16:35:35.753Z"
   },
   {
    "duration": 290,
    "start_time": "2023-04-20T16:35:35.764Z"
   },
   {
    "duration": 14,
    "start_time": "2023-04-20T16:35:36.056Z"
   },
   {
    "duration": 16,
    "start_time": "2023-04-20T16:35:36.071Z"
   },
   {
    "duration": 458,
    "start_time": "2023-04-20T16:35:36.089Z"
   },
   {
    "duration": 0,
    "start_time": "2023-04-20T16:35:36.548Z"
   },
   {
    "duration": 0,
    "start_time": "2023-04-20T16:35:36.550Z"
   },
   {
    "duration": 0,
    "start_time": "2023-04-20T16:35:36.551Z"
   },
   {
    "duration": 0,
    "start_time": "2023-04-20T16:35:36.552Z"
   },
   {
    "duration": 7,
    "start_time": "2023-04-20T16:36:00.578Z"
   },
   {
    "duration": 8,
    "start_time": "2023-04-20T16:36:10.809Z"
   },
   {
    "duration": 8,
    "start_time": "2023-04-20T16:36:28.397Z"
   },
   {
    "duration": 400,
    "start_time": "2023-04-20T16:36:43.016Z"
   },
   {
    "duration": 11,
    "start_time": "2023-04-20T16:36:43.418Z"
   },
   {
    "duration": 11,
    "start_time": "2023-04-20T16:36:43.431Z"
   },
   {
    "duration": 313,
    "start_time": "2023-04-20T16:36:43.444Z"
   },
   {
    "duration": 23,
    "start_time": "2023-04-20T16:36:43.759Z"
   },
   {
    "duration": 16,
    "start_time": "2023-04-20T16:36:43.783Z"
   },
   {
    "duration": 17,
    "start_time": "2023-04-20T16:36:43.801Z"
   },
   {
    "duration": 30,
    "start_time": "2023-04-20T16:36:43.819Z"
   },
   {
    "duration": 24,
    "start_time": "2023-04-20T16:36:43.850Z"
   },
   {
    "duration": 453,
    "start_time": "2023-04-20T16:37:49.947Z"
   },
   {
    "duration": 8,
    "start_time": "2023-04-20T16:37:50.401Z"
   },
   {
    "duration": 14,
    "start_time": "2023-04-20T16:37:50.411Z"
   },
   {
    "duration": 284,
    "start_time": "2023-04-20T16:37:50.427Z"
   },
   {
    "duration": 9,
    "start_time": "2023-04-20T16:37:50.712Z"
   },
   {
    "duration": 32,
    "start_time": "2023-04-20T16:37:50.722Z"
   },
   {
    "duration": 8,
    "start_time": "2023-04-20T16:37:50.756Z"
   },
   {
    "duration": 15,
    "start_time": "2023-04-20T16:37:50.765Z"
   },
   {
    "duration": 13,
    "start_time": "2023-04-20T16:37:50.781Z"
   },
   {
    "duration": 21,
    "start_time": "2023-04-20T16:37:50.796Z"
   },
   {
    "duration": 29,
    "start_time": "2023-04-20T16:37:50.819Z"
   },
   {
    "duration": 10,
    "start_time": "2023-04-20T16:37:54.540Z"
   },
   {
    "duration": 264,
    "start_time": "2023-04-20T16:47:51.717Z"
   },
   {
    "duration": 456,
    "start_time": "2023-04-20T16:48:42.436Z"
   },
   {
    "duration": 9,
    "start_time": "2023-04-20T16:48:42.893Z"
   },
   {
    "duration": 23,
    "start_time": "2023-04-20T16:48:42.904Z"
   },
   {
    "duration": 306,
    "start_time": "2023-04-20T16:48:42.929Z"
   },
   {
    "duration": 8,
    "start_time": "2023-04-20T16:48:43.236Z"
   },
   {
    "duration": 20,
    "start_time": "2023-04-20T16:48:43.246Z"
   },
   {
    "duration": 10,
    "start_time": "2023-04-20T16:48:45.298Z"
   },
   {
    "duration": 3,
    "start_time": "2023-04-20T16:48:46.402Z"
   },
   {
    "duration": 6,
    "start_time": "2023-04-20T16:48:48.196Z"
   },
   {
    "duration": 280,
    "start_time": "2023-04-20T16:48:51.998Z"
   },
   {
    "duration": 6,
    "start_time": "2023-04-20T16:49:13.800Z"
   },
   {
    "duration": 236,
    "start_time": "2023-04-20T16:49:18.448Z"
   },
   {
    "duration": 34,
    "start_time": "2023-04-20T16:50:13.488Z"
   },
   {
    "duration": 7,
    "start_time": "2023-04-20T16:51:34.352Z"
   },
   {
    "duration": 10,
    "start_time": "2023-04-20T16:51:44.399Z"
   },
   {
    "duration": 37,
    "start_time": "2023-04-20T16:52:15.328Z"
   },
   {
    "duration": 441,
    "start_time": "2023-04-20T16:52:36.378Z"
   },
   {
    "duration": 10,
    "start_time": "2023-04-20T16:52:36.821Z"
   },
   {
    "duration": 18,
    "start_time": "2023-04-20T16:52:36.832Z"
   },
   {
    "duration": 295,
    "start_time": "2023-04-20T16:52:36.852Z"
   },
   {
    "duration": 9,
    "start_time": "2023-04-20T16:52:37.148Z"
   },
   {
    "duration": 22,
    "start_time": "2023-04-20T16:52:37.158Z"
   },
   {
    "duration": 23,
    "start_time": "2023-04-20T16:52:37.182Z"
   },
   {
    "duration": 18,
    "start_time": "2023-04-20T16:52:37.207Z"
   },
   {
    "duration": 20,
    "start_time": "2023-04-20T16:52:37.227Z"
   },
   {
    "duration": 35,
    "start_time": "2023-04-20T16:52:37.250Z"
   },
   {
    "duration": 28,
    "start_time": "2023-04-20T16:52:37.287Z"
   },
   {
    "duration": 22,
    "start_time": "2023-04-20T16:52:37.317Z"
   },
   {
    "duration": 149,
    "start_time": "2023-04-20T16:52:37.340Z"
   },
   {
    "duration": 36,
    "start_time": "2023-04-20T16:57:36.069Z"
   },
   {
    "duration": 11,
    "start_time": "2023-04-20T16:58:52.025Z"
   },
   {
    "duration": 268,
    "start_time": "2023-04-20T16:59:48.822Z"
   },
   {
    "duration": 527,
    "start_time": "2023-04-20T17:00:59.305Z"
   },
   {
    "duration": 409,
    "start_time": "2023-04-20T17:03:35.011Z"
   },
   {
    "duration": 9,
    "start_time": "2023-04-20T17:03:35.422Z"
   },
   {
    "duration": 15,
    "start_time": "2023-04-20T17:03:35.433Z"
   },
   {
    "duration": 299,
    "start_time": "2023-04-20T17:03:35.450Z"
   },
   {
    "duration": 9,
    "start_time": "2023-04-20T17:03:35.751Z"
   },
   {
    "duration": 14,
    "start_time": "2023-04-20T17:03:35.761Z"
   },
   {
    "duration": 7,
    "start_time": "2023-04-20T17:03:35.777Z"
   },
   {
    "duration": 31,
    "start_time": "2023-04-20T17:03:35.785Z"
   },
   {
    "duration": 16,
    "start_time": "2023-04-20T17:03:35.817Z"
   },
   {
    "duration": 13,
    "start_time": "2023-04-20T17:03:35.835Z"
   },
   {
    "duration": 18,
    "start_time": "2023-04-20T17:03:35.849Z"
   },
   {
    "duration": 19,
    "start_time": "2023-04-20T17:03:35.869Z"
   },
   {
    "duration": 25,
    "start_time": "2023-04-20T17:03:35.890Z"
   },
   {
    "duration": 563,
    "start_time": "2023-04-20T17:04:16.705Z"
   },
   {
    "duration": 11,
    "start_time": "2023-04-20T17:05:22.498Z"
   },
   {
    "duration": 13,
    "start_time": "2023-04-20T17:06:16.702Z"
   },
   {
    "duration": 488,
    "start_time": "2023-04-20T17:07:50.688Z"
   },
   {
    "duration": 11,
    "start_time": "2023-04-20T17:08:14.147Z"
   },
   {
    "duration": 58,
    "start_time": "2023-04-20T17:09:36.999Z"
   },
   {
    "duration": 507,
    "start_time": "2023-04-20T17:09:43.060Z"
   },
   {
    "duration": 14,
    "start_time": "2023-04-20T17:09:43.569Z"
   },
   {
    "duration": 27,
    "start_time": "2023-04-20T17:09:43.585Z"
   },
   {
    "duration": 354,
    "start_time": "2023-04-20T17:09:43.614Z"
   },
   {
    "duration": 9,
    "start_time": "2023-04-20T17:09:43.969Z"
   },
   {
    "duration": 19,
    "start_time": "2023-04-20T17:09:43.980Z"
   },
   {
    "duration": 21,
    "start_time": "2023-04-20T17:09:44.001Z"
   },
   {
    "duration": 10,
    "start_time": "2023-04-20T17:09:44.023Z"
   },
   {
    "duration": 22,
    "start_time": "2023-04-20T17:09:44.035Z"
   },
   {
    "duration": 19,
    "start_time": "2023-04-20T17:09:44.059Z"
   },
   {
    "duration": 24,
    "start_time": "2023-04-20T17:09:44.080Z"
   },
   {
    "duration": 30,
    "start_time": "2023-04-20T17:09:44.106Z"
   },
   {
    "duration": 39,
    "start_time": "2023-04-20T17:09:44.138Z"
   },
   {
    "duration": 541,
    "start_time": "2023-04-20T17:09:47.304Z"
   },
   {
    "duration": 467,
    "start_time": "2023-04-20T17:12:05.567Z"
   },
   {
    "duration": 12,
    "start_time": "2023-04-20T17:12:30.516Z"
   },
   {
    "duration": 10,
    "start_time": "2023-04-20T17:13:12.166Z"
   },
   {
    "duration": 407,
    "start_time": "2023-04-20T17:17:27.192Z"
   },
   {
    "duration": 421,
    "start_time": "2023-04-20T17:18:59.996Z"
   },
   {
    "duration": 407,
    "start_time": "2023-04-20T17:19:23.699Z"
   },
   {
    "duration": 51,
    "start_time": "2023-04-20T17:20:49.615Z"
   },
   {
    "duration": 338,
    "start_time": "2023-04-20T17:20:56.660Z"
   },
   {
    "duration": 439,
    "start_time": "2023-04-20T17:21:35.798Z"
   },
   {
    "duration": 395,
    "start_time": "2023-04-20T17:22:00.957Z"
   },
   {
    "duration": 10,
    "start_time": "2023-04-20T17:27:06.399Z"
   },
   {
    "duration": 460,
    "start_time": "2023-04-20T17:45:15.275Z"
   },
   {
    "duration": 665,
    "start_time": "2023-04-20T17:45:37.595Z"
   },
   {
    "duration": 442,
    "start_time": "2023-04-20T17:45:56.602Z"
   },
   {
    "duration": 10,
    "start_time": "2023-04-20T17:45:57.047Z"
   },
   {
    "duration": 10,
    "start_time": "2023-04-20T17:45:57.059Z"
   },
   {
    "duration": 339,
    "start_time": "2023-04-20T17:45:57.072Z"
   },
   {
    "duration": 11,
    "start_time": "2023-04-20T17:45:57.414Z"
   },
   {
    "duration": 17,
    "start_time": "2023-04-20T17:45:57.427Z"
   },
   {
    "duration": 7,
    "start_time": "2023-04-20T17:45:57.446Z"
   },
   {
    "duration": 7,
    "start_time": "2023-04-20T17:45:57.456Z"
   },
   {
    "duration": 19,
    "start_time": "2023-04-20T17:45:57.465Z"
   },
   {
    "duration": 19,
    "start_time": "2023-04-20T17:45:57.495Z"
   },
   {
    "duration": 14,
    "start_time": "2023-04-20T17:45:57.519Z"
   },
   {
    "duration": 15,
    "start_time": "2023-04-20T17:45:57.536Z"
   },
   {
    "duration": 13,
    "start_time": "2023-04-20T17:45:57.555Z"
   },
   {
    "duration": 14,
    "start_time": "2023-04-20T17:46:00.214Z"
   },
   {
    "duration": 604,
    "start_time": "2023-04-20T17:46:25.302Z"
   },
   {
    "duration": 486,
    "start_time": "2023-04-20T17:47:42.934Z"
   },
   {
    "duration": 15,
    "start_time": "2023-04-20T17:52:04.859Z"
   },
   {
    "duration": 484,
    "start_time": "2023-04-20T17:53:13.884Z"
   },
   {
    "duration": 432,
    "start_time": "2023-04-20T17:53:32.351Z"
   },
   {
    "duration": 488,
    "start_time": "2023-04-20T17:53:50.339Z"
   },
   {
    "duration": 13,
    "start_time": "2023-04-20T17:53:50.829Z"
   },
   {
    "duration": 24,
    "start_time": "2023-04-20T17:53:50.844Z"
   },
   {
    "duration": 369,
    "start_time": "2023-04-20T17:53:50.874Z"
   },
   {
    "duration": 15,
    "start_time": "2023-04-20T17:53:51.246Z"
   },
   {
    "duration": 26,
    "start_time": "2023-04-20T17:53:51.263Z"
   },
   {
    "duration": 7,
    "start_time": "2023-04-20T17:53:51.291Z"
   },
   {
    "duration": 18,
    "start_time": "2023-04-20T17:53:51.301Z"
   },
   {
    "duration": 17,
    "start_time": "2023-04-20T17:53:51.321Z"
   },
   {
    "duration": 18,
    "start_time": "2023-04-20T17:53:51.341Z"
   },
   {
    "duration": 26,
    "start_time": "2023-04-20T17:53:51.361Z"
   },
   {
    "duration": 19,
    "start_time": "2023-04-20T17:53:51.389Z"
   },
   {
    "duration": 14,
    "start_time": "2023-04-20T17:53:51.410Z"
   },
   {
    "duration": 494,
    "start_time": "2023-04-20T17:53:51.426Z"
   },
   {
    "duration": 342,
    "start_time": "2023-04-20T17:54:09.785Z"
   },
   {
    "duration": 592,
    "start_time": "2023-04-20T17:54:36.763Z"
   },
   {
    "duration": 662,
    "start_time": "2023-04-20T17:54:52.704Z"
   },
   {
    "duration": 546,
    "start_time": "2023-04-20T17:55:04.459Z"
   },
   {
    "duration": 457,
    "start_time": "2023-04-20T17:55:26.780Z"
   },
   {
    "duration": 7,
    "start_time": "2023-04-20T18:00:48.100Z"
   },
   {
    "duration": 8,
    "start_time": "2023-04-20T18:01:01.819Z"
   },
   {
    "duration": 9,
    "start_time": "2023-04-20T18:01:09.835Z"
   },
   {
    "duration": 9,
    "start_time": "2023-04-20T18:03:05.128Z"
   },
   {
    "duration": 13,
    "start_time": "2023-04-20T18:03:26.224Z"
   },
   {
    "duration": 7,
    "start_time": "2023-04-20T18:03:49.616Z"
   },
   {
    "duration": 1004,
    "start_time": "2023-04-20T18:04:46.496Z"
   },
   {
    "duration": 7,
    "start_time": "2023-04-20T18:05:07.304Z"
   },
   {
    "duration": 122,
    "start_time": "2023-04-20T18:06:06.324Z"
   },
   {
    "duration": 161,
    "start_time": "2023-04-20T18:09:01.244Z"
   },
   {
    "duration": 495,
    "start_time": "2023-04-20T18:12:17.385Z"
   },
   {
    "duration": 23,
    "start_time": "2023-04-20T18:12:17.889Z"
   },
   {
    "duration": 12,
    "start_time": "2023-04-20T18:12:17.916Z"
   },
   {
    "duration": 365,
    "start_time": "2023-04-20T18:12:17.930Z"
   },
   {
    "duration": 10,
    "start_time": "2023-04-20T18:12:18.298Z"
   },
   {
    "duration": 12,
    "start_time": "2023-04-20T18:12:18.309Z"
   },
   {
    "duration": 6,
    "start_time": "2023-04-20T18:12:18.322Z"
   },
   {
    "duration": 10,
    "start_time": "2023-04-20T18:12:18.329Z"
   },
   {
    "duration": 114,
    "start_time": "2023-04-20T18:12:18.340Z"
   },
   {
    "duration": 110,
    "start_time": "2023-04-20T18:12:30.791Z"
   },
   {
    "duration": 6,
    "start_time": "2023-04-20T18:12:41.325Z"
   },
   {
    "duration": 20,
    "start_time": "2023-04-20T18:12:52.380Z"
   },
   {
    "duration": 12,
    "start_time": "2023-04-20T18:13:00.609Z"
   },
   {
    "duration": 16,
    "start_time": "2023-04-20T18:13:04.761Z"
   },
   {
    "duration": 17,
    "start_time": "2023-04-20T18:13:07.491Z"
   },
   {
    "duration": 465,
    "start_time": "2023-04-20T18:13:13.833Z"
   },
   {
    "duration": 8,
    "start_time": "2023-04-20T18:13:20.710Z"
   },
   {
    "duration": 98,
    "start_time": "2023-04-20T18:13:50.954Z"
   },
   {
    "duration": 423,
    "start_time": "2023-04-20T18:14:12.114Z"
   },
   {
    "duration": 9,
    "start_time": "2023-04-20T18:14:12.539Z"
   },
   {
    "duration": 25,
    "start_time": "2023-04-20T18:14:12.549Z"
   },
   {
    "duration": 333,
    "start_time": "2023-04-20T18:14:12.583Z"
   },
   {
    "duration": 12,
    "start_time": "2023-04-20T18:14:12.918Z"
   },
   {
    "duration": 12,
    "start_time": "2023-04-20T18:14:12.932Z"
   },
   {
    "duration": 8,
    "start_time": "2023-04-20T18:14:12.946Z"
   },
   {
    "duration": 33,
    "start_time": "2023-04-20T18:14:12.956Z"
   },
   {
    "duration": 119,
    "start_time": "2023-04-20T18:14:12.993Z"
   },
   {
    "duration": 6,
    "start_time": "2023-04-20T18:14:13.114Z"
   },
   {
    "duration": 15,
    "start_time": "2023-04-20T18:14:13.122Z"
   },
   {
    "duration": 23,
    "start_time": "2023-04-20T18:14:13.139Z"
   },
   {
    "duration": 48,
    "start_time": "2023-04-20T18:14:13.167Z"
   },
   {
    "duration": 25,
    "start_time": "2023-04-20T18:14:13.217Z"
   },
   {
    "duration": 487,
    "start_time": "2023-04-20T18:14:13.245Z"
   },
   {
    "duration": 10,
    "start_time": "2023-04-20T18:14:13.734Z"
   },
   {
    "duration": 440,
    "start_time": "2023-04-20T18:15:51.159Z"
   },
   {
    "duration": 7,
    "start_time": "2023-04-20T18:16:32.846Z"
   },
   {
    "duration": 427,
    "start_time": "2023-04-20T18:16:40.407Z"
   },
   {
    "duration": 9,
    "start_time": "2023-04-20T18:16:40.837Z"
   },
   {
    "duration": 9,
    "start_time": "2023-04-20T18:16:40.847Z"
   },
   {
    "duration": 331,
    "start_time": "2023-04-20T18:16:40.858Z"
   },
   {
    "duration": 12,
    "start_time": "2023-04-20T18:16:41.196Z"
   },
   {
    "duration": 17,
    "start_time": "2023-04-20T18:16:41.210Z"
   },
   {
    "duration": 6,
    "start_time": "2023-04-20T18:16:41.228Z"
   },
   {
    "duration": 14,
    "start_time": "2023-04-20T18:16:41.235Z"
   },
   {
    "duration": 171,
    "start_time": "2023-04-20T18:16:41.251Z"
   },
   {
    "duration": 6,
    "start_time": "2023-04-20T18:16:41.426Z"
   },
   {
    "duration": 10,
    "start_time": "2023-04-20T18:16:41.434Z"
   },
   {
    "duration": 11,
    "start_time": "2023-04-20T18:16:41.445Z"
   },
   {
    "duration": 16,
    "start_time": "2023-04-20T18:16:41.458Z"
   },
   {
    "duration": 17,
    "start_time": "2023-04-20T18:16:41.485Z"
   },
   {
    "duration": 470,
    "start_time": "2023-04-20T18:16:41.504Z"
   },
   {
    "duration": 14,
    "start_time": "2023-04-20T18:16:41.984Z"
   },
   {
    "duration": 106,
    "start_time": "2023-04-20T18:17:22.499Z"
   },
   {
    "duration": 15,
    "start_time": "2023-04-20T18:19:09.646Z"
   },
   {
    "duration": 9,
    "start_time": "2023-04-20T18:19:18.126Z"
   },
   {
    "duration": 512,
    "start_time": "2023-04-20T18:20:00.340Z"
   },
   {
    "duration": 20,
    "start_time": "2023-04-20T18:20:00.854Z"
   },
   {
    "duration": 17,
    "start_time": "2023-04-20T18:20:00.883Z"
   },
   {
    "duration": 365,
    "start_time": "2023-04-20T18:20:00.903Z"
   },
   {
    "duration": 14,
    "start_time": "2023-04-20T18:20:01.270Z"
   },
   {
    "duration": 42,
    "start_time": "2023-04-20T18:20:01.286Z"
   },
   {
    "duration": 30,
    "start_time": "2023-04-20T18:20:01.330Z"
   },
   {
    "duration": 36,
    "start_time": "2023-04-20T18:20:01.363Z"
   },
   {
    "duration": 177,
    "start_time": "2023-04-20T18:20:01.401Z"
   },
   {
    "duration": 7,
    "start_time": "2023-04-20T18:20:01.585Z"
   },
   {
    "duration": 36,
    "start_time": "2023-04-20T18:20:01.593Z"
   },
   {
    "duration": 45,
    "start_time": "2023-04-20T18:20:01.631Z"
   },
   {
    "duration": 29,
    "start_time": "2023-04-20T18:20:01.679Z"
   },
   {
    "duration": 48,
    "start_time": "2023-04-20T18:20:01.710Z"
   },
   {
    "duration": 480,
    "start_time": "2023-04-20T18:20:32.952Z"
   },
   {
    "duration": 14,
    "start_time": "2023-04-20T18:20:36.528Z"
   },
   {
    "duration": 485,
    "start_time": "2023-04-20T18:21:42.230Z"
   },
   {
    "duration": 13,
    "start_time": "2023-04-20T18:21:42.717Z"
   },
   {
    "duration": 9,
    "start_time": "2023-04-20T18:21:42.732Z"
   },
   {
    "duration": 350,
    "start_time": "2023-04-20T18:21:42.744Z"
   },
   {
    "duration": 15,
    "start_time": "2023-04-20T18:21:43.099Z"
   },
   {
    "duration": 24,
    "start_time": "2023-04-20T18:21:43.116Z"
   },
   {
    "duration": 8,
    "start_time": "2023-04-20T18:21:43.141Z"
   },
   {
    "duration": 29,
    "start_time": "2023-04-20T18:21:43.151Z"
   },
   {
    "duration": 140,
    "start_time": "2023-04-20T18:21:43.185Z"
   },
   {
    "duration": 2,
    "start_time": "2023-04-20T18:21:43.328Z"
   },
   {
    "duration": 12,
    "start_time": "2023-04-20T18:21:43.332Z"
   },
   {
    "duration": 35,
    "start_time": "2023-04-20T18:21:43.346Z"
   },
   {
    "duration": 13,
    "start_time": "2023-04-20T18:21:43.387Z"
   },
   {
    "duration": 13,
    "start_time": "2023-04-20T18:21:43.403Z"
   },
   {
    "duration": 518,
    "start_time": "2023-04-20T18:21:43.418Z"
   },
   {
    "duration": 28,
    "start_time": "2023-04-20T18:21:43.938Z"
   },
   {
    "duration": 441,
    "start_time": "2023-04-20T18:22:34.000Z"
   },
   {
    "duration": 10,
    "start_time": "2023-04-20T18:22:34.443Z"
   },
   {
    "duration": 10,
    "start_time": "2023-04-20T18:22:34.455Z"
   },
   {
    "duration": 327,
    "start_time": "2023-04-20T18:22:34.473Z"
   },
   {
    "duration": 14,
    "start_time": "2023-04-20T18:22:34.803Z"
   },
   {
    "duration": 26,
    "start_time": "2023-04-20T18:22:34.819Z"
   },
   {
    "duration": 21,
    "start_time": "2023-04-20T18:22:34.847Z"
   },
   {
    "duration": 30,
    "start_time": "2023-04-20T18:22:34.875Z"
   },
   {
    "duration": 124,
    "start_time": "2023-04-20T18:22:34.907Z"
   },
   {
    "duration": 6,
    "start_time": "2023-04-20T18:22:35.035Z"
   },
   {
    "duration": 33,
    "start_time": "2023-04-20T18:22:35.042Z"
   },
   {
    "duration": 28,
    "start_time": "2023-04-20T18:22:35.079Z"
   },
   {
    "duration": 17,
    "start_time": "2023-04-20T18:22:35.109Z"
   },
   {
    "duration": 18,
    "start_time": "2023-04-20T18:22:35.128Z"
   },
   {
    "duration": 480,
    "start_time": "2023-04-20T18:22:35.147Z"
   },
   {
    "duration": 9,
    "start_time": "2023-04-20T18:22:35.628Z"
   },
   {
    "duration": 616,
    "start_time": "2023-04-20T18:29:04.626Z"
   },
   {
    "duration": 432,
    "start_time": "2023-04-20T18:29:24.125Z"
   },
   {
    "duration": 543,
    "start_time": "2023-04-20T18:38:58.650Z"
   },
   {
    "duration": 484,
    "start_time": "2023-04-20T18:39:12.602Z"
   },
   {
    "duration": 525,
    "start_time": "2023-04-20T18:39:46.386Z"
   },
   {
    "duration": 473,
    "start_time": "2023-04-20T18:40:51.345Z"
   },
   {
    "duration": 531,
    "start_time": "2023-04-20T18:42:28.515Z"
   },
   {
    "duration": 537,
    "start_time": "2023-04-20T18:43:39.314Z"
   },
   {
    "duration": 466,
    "start_time": "2023-04-20T18:49:04.257Z"
   },
   {
    "duration": 507,
    "start_time": "2023-04-20T18:49:22.363Z"
   },
   {
    "duration": 439,
    "start_time": "2023-04-20T18:51:35.231Z"
   },
   {
    "duration": 444,
    "start_time": "2023-04-20T18:54:08.332Z"
   },
   {
    "duration": 10,
    "start_time": "2023-04-20T18:54:08.777Z"
   },
   {
    "duration": 11,
    "start_time": "2023-04-20T18:54:08.788Z"
   },
   {
    "duration": 30,
    "start_time": "2023-04-20T18:54:10.716Z"
   },
   {
    "duration": 7,
    "start_time": "2023-04-20T18:54:10.748Z"
   },
   {
    "duration": 9,
    "start_time": "2023-04-20T18:54:10.757Z"
   },
   {
    "duration": 749,
    "start_time": "2023-04-20T18:54:10.767Z"
   },
   {
    "duration": 9,
    "start_time": "2023-04-20T18:54:11.518Z"
   },
   {
    "duration": 14,
    "start_time": "2023-04-20T18:54:11.528Z"
   },
   {
    "duration": 6,
    "start_time": "2023-04-20T18:54:11.544Z"
   },
   {
    "duration": 12,
    "start_time": "2023-04-20T18:54:11.551Z"
   },
   {
    "duration": 109,
    "start_time": "2023-04-20T18:54:11.564Z"
   },
   {
    "duration": 4,
    "start_time": "2023-04-20T18:54:11.676Z"
   },
   {
    "duration": 10,
    "start_time": "2023-04-20T18:54:11.682Z"
   },
   {
    "duration": 11,
    "start_time": "2023-04-20T18:54:11.693Z"
   },
   {
    "duration": 10,
    "start_time": "2023-04-20T18:54:11.705Z"
   },
   {
    "duration": 8,
    "start_time": "2023-04-20T18:54:11.716Z"
   },
   {
    "duration": 624,
    "start_time": "2023-04-20T18:54:11.726Z"
   },
   {
    "duration": 385,
    "start_time": "2023-04-20T18:54:12.352Z"
   },
   {
    "duration": 7,
    "start_time": "2023-04-20T18:54:43.100Z"
   },
   {
    "duration": 309,
    "start_time": "2023-04-20T18:57:18.057Z"
   },
   {
    "duration": 207,
    "start_time": "2023-04-20T19:00:12.486Z"
   },
   {
    "duration": 212,
    "start_time": "2023-04-20T19:00:27.201Z"
   },
   {
    "duration": 229,
    "start_time": "2023-04-20T19:00:54.137Z"
   },
   {
    "duration": 237,
    "start_time": "2023-04-20T19:02:14.493Z"
   },
   {
    "duration": 206,
    "start_time": "2023-04-20T19:03:12.401Z"
   },
   {
    "duration": 184,
    "start_time": "2023-04-20T19:10:59.482Z"
   },
   {
    "duration": 210,
    "start_time": "2023-04-20T19:11:36.282Z"
   },
   {
    "duration": 9,
    "start_time": "2023-04-20T19:15:32.538Z"
   },
   {
    "duration": 7,
    "start_time": "2023-04-20T19:17:26.190Z"
   },
   {
    "duration": 17,
    "start_time": "2023-04-20T19:20:06.459Z"
   },
   {
    "duration": 7,
    "start_time": "2023-04-20T19:24:18.275Z"
   },
   {
    "duration": 7,
    "start_time": "2023-04-20T19:24:21.276Z"
   },
   {
    "duration": 10,
    "start_time": "2023-04-20T19:24:35.979Z"
   },
   {
    "duration": 12,
    "start_time": "2023-04-20T19:25:19.926Z"
   },
   {
    "duration": 217,
    "start_time": "2023-04-20T19:25:41.940Z"
   },
   {
    "duration": 9,
    "start_time": "2023-04-20T19:26:29.091Z"
   },
   {
    "duration": 13,
    "start_time": "2023-04-20T19:26:37.923Z"
   },
   {
    "duration": 439,
    "start_time": "2023-04-20T19:26:58.077Z"
   },
   {
    "duration": 10,
    "start_time": "2023-04-20T19:26:58.517Z"
   },
   {
    "duration": 11,
    "start_time": "2023-04-20T19:26:58.529Z"
   },
   {
    "duration": 867,
    "start_time": "2023-04-20T19:26:58.542Z"
   },
   {
    "duration": 11,
    "start_time": "2023-04-20T19:26:59.412Z"
   },
   {
    "duration": 13,
    "start_time": "2023-04-20T19:26:59.425Z"
   },
   {
    "duration": 495,
    "start_time": "2023-04-20T19:26:59.440Z"
   },
   {
    "duration": 0,
    "start_time": "2023-04-20T19:26:59.937Z"
   },
   {
    "duration": 0,
    "start_time": "2023-04-20T19:26:59.938Z"
   },
   {
    "duration": 0,
    "start_time": "2023-04-20T19:26:59.940Z"
   },
   {
    "duration": 0,
    "start_time": "2023-04-20T19:26:59.941Z"
   },
   {
    "duration": 0,
    "start_time": "2023-04-20T19:26:59.942Z"
   },
   {
    "duration": 0,
    "start_time": "2023-04-20T19:26:59.943Z"
   },
   {
    "duration": 0,
    "start_time": "2023-04-20T19:26:59.944Z"
   },
   {
    "duration": 0,
    "start_time": "2023-04-20T19:26:59.946Z"
   },
   {
    "duration": 0,
    "start_time": "2023-04-20T19:26:59.947Z"
   },
   {
    "duration": 0,
    "start_time": "2023-04-20T19:26:59.948Z"
   },
   {
    "duration": 6,
    "start_time": "2023-04-20T19:27:58.185Z"
   },
   {
    "duration": 31,
    "start_time": "2023-04-20T19:28:20.526Z"
   },
   {
    "duration": 10,
    "start_time": "2023-04-20T19:28:20.559Z"
   },
   {
    "duration": 20,
    "start_time": "2023-04-20T19:28:20.571Z"
   },
   {
    "duration": 50,
    "start_time": "2023-04-20T19:28:20.593Z"
   },
   {
    "duration": 7,
    "start_time": "2023-04-20T19:28:20.645Z"
   },
   {
    "duration": 18,
    "start_time": "2023-04-20T19:28:20.654Z"
   },
   {
    "duration": 6,
    "start_time": "2023-04-20T19:28:20.676Z"
   },
   {
    "duration": 8,
    "start_time": "2023-04-20T19:28:20.683Z"
   },
   {
    "duration": 125,
    "start_time": "2023-04-20T19:28:20.693Z"
   },
   {
    "duration": 6,
    "start_time": "2023-04-20T19:28:20.821Z"
   },
   {
    "duration": 21,
    "start_time": "2023-04-20T19:28:20.828Z"
   },
   {
    "duration": 27,
    "start_time": "2023-04-20T19:28:20.851Z"
   },
   {
    "duration": 22,
    "start_time": "2023-04-20T19:28:20.880Z"
   },
   {
    "duration": 10,
    "start_time": "2023-04-20T19:28:20.903Z"
   },
   {
    "duration": 226,
    "start_time": "2023-04-20T19:28:20.914Z"
   },
   {
    "duration": 0,
    "start_time": "2023-04-20T19:28:21.142Z"
   },
   {
    "duration": 0,
    "start_time": "2023-04-20T19:28:21.144Z"
   },
   {
    "duration": 4,
    "start_time": "2023-04-20T19:32:38.194Z"
   },
   {
    "duration": 429,
    "start_time": "2023-04-20T19:34:12.790Z"
   },
   {
    "duration": 9,
    "start_time": "2023-04-20T19:34:13.221Z"
   },
   {
    "duration": 8,
    "start_time": "2023-04-20T19:34:13.232Z"
   },
   {
    "duration": 958,
    "start_time": "2023-04-20T19:34:13.242Z"
   },
   {
    "duration": 9,
    "start_time": "2023-04-20T19:34:14.203Z"
   },
   {
    "duration": 16,
    "start_time": "2023-04-20T19:34:14.213Z"
   },
   {
    "duration": 11,
    "start_time": "2023-04-20T19:34:14.231Z"
   },
   {
    "duration": 12,
    "start_time": "2023-04-20T19:34:14.243Z"
   },
   {
    "duration": 133,
    "start_time": "2023-04-20T19:34:14.257Z"
   },
   {
    "duration": 11,
    "start_time": "2023-04-20T19:34:14.392Z"
   },
   {
    "duration": 14,
    "start_time": "2023-04-20T19:34:14.405Z"
   },
   {
    "duration": 14,
    "start_time": "2023-04-20T19:34:14.422Z"
   },
   {
    "duration": 11,
    "start_time": "2023-04-20T19:34:14.437Z"
   },
   {
    "duration": 22,
    "start_time": "2023-04-20T19:34:14.451Z"
   },
   {
    "duration": 493,
    "start_time": "2023-04-20T19:34:14.475Z"
   },
   {
    "duration": 0,
    "start_time": "2023-04-20T19:34:14.971Z"
   },
   {
    "duration": 0,
    "start_time": "2023-04-20T19:34:14.972Z"
   },
   {
    "duration": 17,
    "start_time": "2023-04-20T19:35:48.703Z"
   },
   {
    "duration": 9,
    "start_time": "2023-04-20T19:39:20.623Z"
   },
   {
    "duration": 765,
    "start_time": "2023-04-20T19:39:36.528Z"
   },
   {
    "duration": 12,
    "start_time": "2023-04-20T19:39:37.295Z"
   },
   {
    "duration": 11,
    "start_time": "2023-04-20T19:39:37.309Z"
   },
   {
    "duration": 1715,
    "start_time": "2023-04-20T19:39:37.322Z"
   },
   {
    "duration": 11,
    "start_time": "2023-04-20T19:39:39.039Z"
   },
   {
    "duration": 37,
    "start_time": "2023-04-20T19:39:39.052Z"
   },
   {
    "duration": 13,
    "start_time": "2023-04-20T19:39:39.091Z"
   },
   {
    "duration": 25,
    "start_time": "2023-04-20T19:39:39.105Z"
   },
   {
    "duration": 126,
    "start_time": "2023-04-20T19:39:39.132Z"
   },
   {
    "duration": 12,
    "start_time": "2023-04-20T19:39:39.261Z"
   },
   {
    "duration": 11,
    "start_time": "2023-04-20T19:39:39.275Z"
   },
   {
    "duration": 10,
    "start_time": "2023-04-20T19:39:39.288Z"
   },
   {
    "duration": 8,
    "start_time": "2023-04-20T19:39:39.300Z"
   },
   {
    "duration": 21,
    "start_time": "2023-04-20T19:39:39.309Z"
   },
   {
    "duration": 661,
    "start_time": "2023-04-20T19:39:39.332Z"
   },
   {
    "duration": 154,
    "start_time": "2023-04-20T19:39:39.995Z"
   },
   {
    "duration": 18,
    "start_time": "2023-04-20T19:39:40.151Z"
   },
   {
    "duration": 520,
    "start_time": "2023-04-20T19:42:09.836Z"
   },
   {
    "duration": 185,
    "start_time": "2023-04-20T19:43:07.613Z"
   },
   {
    "duration": 301,
    "start_time": "2023-04-20T19:44:00.484Z"
   },
   {
    "duration": 278,
    "start_time": "2023-04-20T19:45:29.753Z"
   },
   {
    "duration": 397,
    "start_time": "2023-04-20T19:46:53.301Z"
   },
   {
    "duration": 323,
    "start_time": "2023-04-20T19:47:03.046Z"
   },
   {
    "duration": 487,
    "start_time": "2023-04-21T14:52:28.451Z"
   },
   {
    "duration": 9,
    "start_time": "2023-04-21T14:52:36.895Z"
   },
   {
    "duration": 10,
    "start_time": "2023-04-21T14:53:34.595Z"
   },
   {
    "duration": 60,
    "start_time": "2023-04-21T15:07:07.789Z"
   },
   {
    "duration": 381,
    "start_time": "2023-04-21T15:07:18.910Z"
   },
   {
    "duration": 9,
    "start_time": "2023-04-21T15:07:19.293Z"
   },
   {
    "duration": 8,
    "start_time": "2023-04-21T15:07:19.303Z"
   },
   {
    "duration": 999,
    "start_time": "2023-04-21T15:07:19.313Z"
   },
   {
    "duration": 9,
    "start_time": "2023-04-21T15:07:20.314Z"
   },
   {
    "duration": 13,
    "start_time": "2023-04-21T15:07:20.324Z"
   },
   {
    "duration": 10,
    "start_time": "2023-04-21T15:07:20.339Z"
   },
   {
    "duration": 12,
    "start_time": "2023-04-21T15:07:20.350Z"
   },
   {
    "duration": 109,
    "start_time": "2023-04-21T15:07:20.364Z"
   },
   {
    "duration": 15,
    "start_time": "2023-04-21T15:07:20.476Z"
   },
   {
    "duration": 5,
    "start_time": "2023-04-21T15:09:15.382Z"
   },
   {
    "duration": 7,
    "start_time": "2023-04-21T15:09:17.206Z"
   },
   {
    "duration": 11,
    "start_time": "2023-04-21T15:09:20.758Z"
   },
   {
    "duration": 6,
    "start_time": "2023-04-21T15:10:02.934Z"
   },
   {
    "duration": 11,
    "start_time": "2023-04-21T15:10:33.158Z"
   },
   {
    "duration": 4,
    "start_time": "2023-04-21T15:10:39.302Z"
   },
   {
    "duration": 10,
    "start_time": "2023-04-21T15:10:39.850Z"
   },
   {
    "duration": 558,
    "start_time": "2023-04-21T15:13:54.354Z"
   },
   {
    "duration": 104,
    "start_time": "2023-04-21T15:49:16.281Z"
   },
   {
    "duration": 15,
    "start_time": "2023-04-21T15:50:05.470Z"
   },
   {
    "duration": 430,
    "start_time": "2023-04-21T15:50:52.262Z"
   },
   {
    "duration": 9,
    "start_time": "2023-04-21T15:50:52.694Z"
   },
   {
    "duration": 7,
    "start_time": "2023-04-21T15:50:52.704Z"
   },
   {
    "duration": 786,
    "start_time": "2023-04-21T15:50:52.713Z"
   },
   {
    "duration": 10,
    "start_time": "2023-04-21T15:50:53.501Z"
   },
   {
    "duration": 13,
    "start_time": "2023-04-21T15:50:53.512Z"
   },
   {
    "duration": 6,
    "start_time": "2023-04-21T15:50:53.526Z"
   },
   {
    "duration": 14,
    "start_time": "2023-04-21T15:50:53.533Z"
   },
   {
    "duration": 109,
    "start_time": "2023-04-21T15:50:53.549Z"
   },
   {
    "duration": 12,
    "start_time": "2023-04-21T15:50:53.662Z"
   },
   {
    "duration": 6,
    "start_time": "2023-04-21T15:50:53.676Z"
   },
   {
    "duration": 7,
    "start_time": "2023-04-21T15:50:53.685Z"
   },
   {
    "duration": 25,
    "start_time": "2023-04-21T15:50:53.694Z"
   },
   {
    "duration": 14,
    "start_time": "2023-04-21T15:50:53.720Z"
   },
   {
    "duration": 5,
    "start_time": "2023-04-21T15:50:53.736Z"
   },
   {
    "duration": 569,
    "start_time": "2023-04-21T15:50:53.742Z"
   },
   {
    "duration": 110,
    "start_time": "2023-04-21T15:50:54.313Z"
   },
   {
    "duration": 0,
    "start_time": "2023-04-21T15:50:54.424Z"
   },
   {
    "duration": 220,
    "start_time": "2023-04-21T15:51:51.714Z"
   },
   {
    "duration": 308,
    "start_time": "2023-04-21T15:59:38.070Z"
   },
   {
    "duration": 416,
    "start_time": "2023-04-21T16:01:14.981Z"
   },
   {
    "duration": 9,
    "start_time": "2023-04-21T16:01:15.400Z"
   },
   {
    "duration": 8,
    "start_time": "2023-04-21T16:01:15.410Z"
   },
   {
    "duration": 786,
    "start_time": "2023-04-21T16:01:15.420Z"
   },
   {
    "duration": 8,
    "start_time": "2023-04-21T16:01:16.207Z"
   },
   {
    "duration": 14,
    "start_time": "2023-04-21T16:01:16.217Z"
   },
   {
    "duration": 7,
    "start_time": "2023-04-21T16:01:16.232Z"
   },
   {
    "duration": 12,
    "start_time": "2023-04-21T16:01:16.240Z"
   },
   {
    "duration": 4,
    "start_time": "2023-04-21T16:01:16.253Z"
   },
   {
    "duration": 4,
    "start_time": "2023-04-21T16:01:16.259Z"
   },
   {
    "duration": 3,
    "start_time": "2023-04-21T16:01:16.265Z"
   },
   {
    "duration": 8,
    "start_time": "2023-04-21T16:01:16.269Z"
   },
   {
    "duration": 10,
    "start_time": "2023-04-21T16:01:16.278Z"
   },
   {
    "duration": 11,
    "start_time": "2023-04-21T16:01:16.289Z"
   },
   {
    "duration": 4,
    "start_time": "2023-04-21T16:01:16.301Z"
   },
   {
    "duration": 614,
    "start_time": "2023-04-21T16:01:16.306Z"
   },
   {
    "duration": 208,
    "start_time": "2023-04-21T16:01:16.922Z"
   },
   {
    "duration": 373,
    "start_time": "2023-04-21T16:01:17.132Z"
   },
   {
    "duration": 166,
    "start_time": "2023-04-21T16:07:50.750Z"
   },
   {
    "duration": 174,
    "start_time": "2023-04-21T16:08:28.969Z"
   },
   {
    "duration": 226,
    "start_time": "2023-04-21T16:11:38.194Z"
   },
   {
    "duration": 208,
    "start_time": "2023-04-21T16:12:24.093Z"
   },
   {
    "duration": 109,
    "start_time": "2023-04-21T16:15:45.758Z"
   },
   {
    "duration": 807,
    "start_time": "2023-04-21T16:17:00.590Z"
   },
   {
    "duration": 279,
    "start_time": "2023-04-21T16:17:30.206Z"
   },
   {
    "duration": 47,
    "start_time": "2023-04-21T16:39:30.592Z"
   },
   {
    "duration": 46,
    "start_time": "2023-04-21T16:39:41.977Z"
   },
   {
    "duration": 46,
    "start_time": "2023-04-21T16:39:53.060Z"
   },
   {
    "duration": 208,
    "start_time": "2023-04-21T16:40:04.964Z"
   },
   {
    "duration": 47,
    "start_time": "2023-04-21T16:42:13.518Z"
   },
   {
    "duration": 218,
    "start_time": "2023-04-21T16:42:20.919Z"
   },
   {
    "duration": 357,
    "start_time": "2023-04-21T16:47:09.069Z"
   },
   {
    "duration": 343,
    "start_time": "2023-04-21T16:48:31.433Z"
   },
   {
    "duration": 294,
    "start_time": "2023-04-21T16:52:21.991Z"
   },
   {
    "duration": 343,
    "start_time": "2023-04-21T16:52:48.941Z"
   },
   {
    "duration": 13,
    "start_time": "2023-04-21T16:56:05.153Z"
   },
   {
    "duration": 12,
    "start_time": "2023-04-21T16:56:20.933Z"
   },
   {
    "duration": 11,
    "start_time": "2023-04-21T16:56:35.419Z"
   },
   {
    "duration": 13,
    "start_time": "2023-04-21T16:58:55.577Z"
   },
   {
    "duration": 117,
    "start_time": "2023-04-21T16:59:51.011Z"
   },
   {
    "duration": 4,
    "start_time": "2023-04-21T17:04:01.047Z"
   },
   {
    "duration": 4,
    "start_time": "2023-04-21T17:04:28.045Z"
   },
   {
    "duration": 5,
    "start_time": "2023-04-21T17:06:27.074Z"
   },
   {
    "duration": 4,
    "start_time": "2023-04-21T17:06:48.894Z"
   },
   {
    "duration": 12,
    "start_time": "2023-04-21T17:08:20.286Z"
   },
   {
    "duration": 715,
    "start_time": "2023-04-21T17:08:31.534Z"
   },
   {
    "duration": 139,
    "start_time": "2023-04-21T17:08:37.666Z"
   },
   {
    "duration": 101,
    "start_time": "2023-04-21T17:09:44.426Z"
   },
   {
    "duration": 130,
    "start_time": "2023-04-21T17:10:03.221Z"
   },
   {
    "duration": 129,
    "start_time": "2023-04-21T17:10:24.807Z"
   },
   {
    "duration": 127,
    "start_time": "2023-04-21T17:10:50.590Z"
   },
   {
    "duration": 229,
    "start_time": "2023-04-21T17:10:59.743Z"
   },
   {
    "duration": 4,
    "start_time": "2023-04-21T17:24:32.317Z"
   },
   {
    "duration": 405,
    "start_time": "2023-04-21T17:27:41.302Z"
   },
   {
    "duration": 8,
    "start_time": "2023-04-21T17:27:41.709Z"
   },
   {
    "duration": 8,
    "start_time": "2023-04-21T17:27:41.719Z"
   },
   {
    "duration": 771,
    "start_time": "2023-04-21T17:27:41.729Z"
   },
   {
    "duration": 8,
    "start_time": "2023-04-21T17:27:42.501Z"
   },
   {
    "duration": 11,
    "start_time": "2023-04-21T17:27:42.510Z"
   },
   {
    "duration": 7,
    "start_time": "2023-04-21T17:27:42.522Z"
   },
   {
    "duration": 13,
    "start_time": "2023-04-21T17:27:42.530Z"
   },
   {
    "duration": 3,
    "start_time": "2023-04-21T17:27:42.544Z"
   },
   {
    "duration": 4,
    "start_time": "2023-04-21T17:27:42.549Z"
   },
   {
    "duration": 4,
    "start_time": "2023-04-21T17:27:42.554Z"
   },
   {
    "duration": 7,
    "start_time": "2023-04-21T17:27:42.560Z"
   },
   {
    "duration": 13,
    "start_time": "2023-04-21T17:27:42.569Z"
   },
   {
    "duration": 7,
    "start_time": "2023-04-21T17:27:42.583Z"
   },
   {
    "duration": 4,
    "start_time": "2023-04-21T17:27:42.592Z"
   },
   {
    "duration": 603,
    "start_time": "2023-04-21T17:27:42.597Z"
   },
   {
    "duration": 214,
    "start_time": "2023-04-21T17:27:43.202Z"
   },
   {
    "duration": 300,
    "start_time": "2023-04-21T17:27:43.418Z"
   },
   {
    "duration": 231,
    "start_time": "2023-04-21T17:27:43.720Z"
   },
   {
    "duration": 326,
    "start_time": "2023-04-21T17:27:43.953Z"
   },
   {
    "duration": 143,
    "start_time": "2023-04-21T17:27:44.280Z"
   },
   {
    "duration": 4,
    "start_time": "2023-04-21T17:27:44.425Z"
   },
   {
    "duration": 161,
    "start_time": "2023-04-21T17:27:44.431Z"
   },
   {
    "duration": 5,
    "start_time": "2023-04-21T17:27:44.594Z"
   },
   {
    "duration": 9,
    "start_time": "2023-04-21T17:28:31.834Z"
   },
   {
    "duration": 11,
    "start_time": "2023-04-21T17:28:53.821Z"
   },
   {
    "duration": 31,
    "start_time": "2023-04-21T17:29:34.993Z"
   },
   {
    "duration": 11,
    "start_time": "2023-04-21T17:29:38.195Z"
   },
   {
    "duration": 11,
    "start_time": "2023-04-21T17:29:42.502Z"
   },
   {
    "duration": 94,
    "start_time": "2023-04-21T17:33:45.694Z"
   },
   {
    "duration": 11,
    "start_time": "2023-04-21T17:33:51.538Z"
   },
   {
    "duration": 8,
    "start_time": "2023-04-21T17:34:06.826Z"
   },
   {
    "duration": 5,
    "start_time": "2023-04-21T17:34:12.234Z"
   },
   {
    "duration": 83,
    "start_time": "2023-04-21T17:38:01.383Z"
   },
   {
    "duration": 51,
    "start_time": "2023-04-22T16:08:12.912Z"
   },
   {
    "duration": 445,
    "start_time": "2023-04-22T16:09:30.259Z"
   },
   {
    "duration": 12,
    "start_time": "2023-04-22T16:09:30.705Z"
   },
   {
    "duration": 24,
    "start_time": "2023-04-22T16:09:30.718Z"
   },
   {
    "duration": 969,
    "start_time": "2023-04-22T16:09:30.744Z"
   },
   {
    "duration": 8,
    "start_time": "2023-04-22T16:09:31.715Z"
   },
   {
    "duration": 37,
    "start_time": "2023-04-22T16:09:31.724Z"
   },
   {
    "duration": 21,
    "start_time": "2023-04-22T16:09:31.762Z"
   },
   {
    "duration": 14,
    "start_time": "2023-04-22T16:09:31.785Z"
   },
   {
    "duration": 21,
    "start_time": "2023-04-22T16:09:31.800Z"
   },
   {
    "duration": 16,
    "start_time": "2023-04-22T16:09:31.823Z"
   },
   {
    "duration": 12,
    "start_time": "2023-04-22T16:09:31.841Z"
   },
   {
    "duration": 22,
    "start_time": "2023-04-22T16:09:31.855Z"
   },
   {
    "duration": 6,
    "start_time": "2023-04-22T16:09:31.879Z"
   },
   {
    "duration": 531,
    "start_time": "2023-04-22T16:09:31.886Z"
   },
   {
    "duration": 190,
    "start_time": "2023-04-22T16:09:32.419Z"
   },
   {
    "duration": 310,
    "start_time": "2023-04-22T16:09:32.611Z"
   },
   {
    "duration": 207,
    "start_time": "2023-04-22T16:09:32.922Z"
   },
   {
    "duration": 271,
    "start_time": "2023-04-22T16:09:33.131Z"
   },
   {
    "duration": 140,
    "start_time": "2023-04-22T16:09:33.403Z"
   },
   {
    "duration": 4,
    "start_time": "2023-04-22T16:09:33.544Z"
   },
   {
    "duration": 200,
    "start_time": "2023-04-22T16:09:33.550Z"
   },
   {
    "duration": 4,
    "start_time": "2023-04-22T16:09:33.751Z"
   },
   {
    "duration": 241,
    "start_time": "2023-04-22T16:09:33.757Z"
   },
   {
    "duration": 313,
    "start_time": "2023-04-22T16:10:46.024Z"
   },
   {
    "duration": 402,
    "start_time": "2023-04-22T16:11:28.000Z"
   },
   {
    "duration": 11,
    "start_time": "2023-04-22T16:11:28.404Z"
   },
   {
    "duration": 10,
    "start_time": "2023-04-22T16:11:28.417Z"
   },
   {
    "duration": 763,
    "start_time": "2023-04-22T16:11:28.429Z"
   },
   {
    "duration": 7,
    "start_time": "2023-04-22T16:11:29.194Z"
   },
   {
    "duration": 11,
    "start_time": "2023-04-22T16:11:29.203Z"
   },
   {
    "duration": 11,
    "start_time": "2023-04-22T16:11:29.215Z"
   },
   {
    "duration": 12,
    "start_time": "2023-04-22T16:11:29.228Z"
   },
   {
    "duration": 12,
    "start_time": "2023-04-22T16:11:29.241Z"
   },
   {
    "duration": 6,
    "start_time": "2023-04-22T16:11:29.255Z"
   },
   {
    "duration": 33,
    "start_time": "2023-04-22T16:11:29.263Z"
   },
   {
    "duration": 13,
    "start_time": "2023-04-22T16:11:29.298Z"
   },
   {
    "duration": 8,
    "start_time": "2023-04-22T16:11:29.312Z"
   },
   {
    "duration": 551,
    "start_time": "2023-04-22T16:11:29.322Z"
   },
   {
    "duration": 195,
    "start_time": "2023-04-22T16:11:29.875Z"
   },
   {
    "duration": 322,
    "start_time": "2023-04-22T16:11:30.072Z"
   },
   {
    "duration": 217,
    "start_time": "2023-04-22T16:11:30.396Z"
   },
   {
    "duration": 293,
    "start_time": "2023-04-22T16:11:30.615Z"
   },
   {
    "duration": 130,
    "start_time": "2023-04-22T16:11:30.909Z"
   },
   {
    "duration": 4,
    "start_time": "2023-04-22T16:11:31.040Z"
   },
   {
    "duration": 155,
    "start_time": "2023-04-22T16:11:31.045Z"
   },
   {
    "duration": 4,
    "start_time": "2023-04-22T16:11:31.202Z"
   },
   {
    "duration": 425,
    "start_time": "2023-04-22T16:11:31.208Z"
   },
   {
    "duration": 334,
    "start_time": "2023-04-22T16:13:34.273Z"
   },
   {
    "duration": 393,
    "start_time": "2023-04-22T16:42:04.001Z"
   },
   {
    "duration": 10,
    "start_time": "2023-04-22T16:47:07.387Z"
   },
   {
    "duration": 9,
    "start_time": "2023-04-22T17:11:00.598Z"
   },
   {
    "duration": 8,
    "start_time": "2023-04-22T17:11:53.814Z"
   },
   {
    "duration": 23,
    "start_time": "2023-04-22T17:15:36.595Z"
   },
   {
    "duration": 7,
    "start_time": "2023-04-22T17:28:32.944Z"
   },
   {
    "duration": 13,
    "start_time": "2023-04-22T17:29:28.876Z"
   },
   {
    "duration": 23,
    "start_time": "2023-04-22T17:53:24.576Z"
   },
   {
    "duration": 464,
    "start_time": "2023-06-25T09:50:08.372Z"
   },
   {
    "duration": 11,
    "start_time": "2023-06-25T09:50:08.837Z"
   },
   {
    "duration": 17,
    "start_time": "2023-06-25T09:50:08.849Z"
   },
   {
    "duration": 1062,
    "start_time": "2023-06-25T09:50:08.868Z"
   },
   {
    "duration": 8,
    "start_time": "2023-06-25T09:50:09.932Z"
   },
   {
    "duration": 211,
    "start_time": "2023-06-25T09:50:09.942Z"
   },
   {
    "duration": 50,
    "start_time": "2023-06-25T09:50:10.155Z"
   },
   {
    "duration": 22,
    "start_time": "2023-06-25T09:50:10.207Z"
   },
   {
    "duration": 61,
    "start_time": "2023-06-25T09:50:10.231Z"
   },
   {
    "duration": 35,
    "start_time": "2023-06-25T09:50:10.294Z"
   },
   {
    "duration": 24,
    "start_time": "2023-06-25T09:50:10.331Z"
   },
   {
    "duration": 16,
    "start_time": "2023-06-25T09:50:10.356Z"
   },
   {
    "duration": 12,
    "start_time": "2023-06-25T09:50:10.373Z"
   },
   {
    "duration": 522,
    "start_time": "2023-06-25T09:50:10.386Z"
   },
   {
    "duration": 192,
    "start_time": "2023-06-25T09:50:10.909Z"
   },
   {
    "duration": 351,
    "start_time": "2023-06-25T09:50:11.102Z"
   },
   {
    "duration": 235,
    "start_time": "2023-06-25T09:50:11.455Z"
   },
   {
    "duration": 301,
    "start_time": "2023-06-25T09:50:11.692Z"
   },
   {
    "duration": 140,
    "start_time": "2023-06-25T09:50:11.994Z"
   },
   {
    "duration": 4,
    "start_time": "2023-06-25T09:50:12.136Z"
   },
   {
    "duration": 220,
    "start_time": "2023-06-25T09:50:12.141Z"
   },
   {
    "duration": 165,
    "start_time": "2023-06-25T09:50:12.362Z"
   },
   {
    "duration": 4,
    "start_time": "2023-06-25T09:50:12.529Z"
   },
   {
    "duration": 334,
    "start_time": "2023-06-25T09:50:12.535Z"
   },
   {
    "duration": 9,
    "start_time": "2023-06-25T09:50:12.874Z"
   },
   {
    "duration": 7,
    "start_time": "2023-06-25T09:50:12.885Z"
   },
   {
    "duration": 28,
    "start_time": "2023-06-25T09:50:12.893Z"
   },
   {
    "duration": 13,
    "start_time": "2023-06-25T09:50:12.924Z"
   }
  ],
  "kernelspec": {
   "display_name": "Python 3 (ipykernel)",
   "language": "python",
   "name": "python3"
  },
  "language_info": {
   "codemirror_mode": {
    "name": "ipython",
    "version": 3
   },
   "file_extension": ".py",
   "mimetype": "text/x-python",
   "name": "python",
   "nbconvert_exporter": "python",
   "pygments_lexer": "ipython3",
   "version": "3.9.13"
  },
  "toc": {
   "base_numbering": 1,
   "nav_menu": {
    "height": "482.4px",
    "width": "964.4px"
   },
   "number_sections": true,
   "sideBar": true,
   "skip_h1_title": true,
   "title_cell": "Table of Contents",
   "title_sidebar": "Contents",
   "toc_cell": false,
   "toc_position": {},
   "toc_section_display": true,
   "toc_window_display": false
  }
 },
 "nbformat": 4,
 "nbformat_minor": 2
}
